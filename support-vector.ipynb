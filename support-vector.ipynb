{
 "cells": [
  {
   "cell_type": "code",
   "execution_count": 1,
   "id": "0fb5a006",
   "metadata": {
    "_cell_guid": "b1076dfc-b9ad-4769-8c92-a6c4dae69d19",
    "_uuid": "8f2839f25d086af736a60e9eeb907d3b93b6e0e5",
    "execution": {
     "iopub.execute_input": "2023-12-23T06:18:14.495720Z",
     "iopub.status.busy": "2023-12-23T06:18:14.494939Z",
     "iopub.status.idle": "2023-12-23T06:18:15.487332Z",
     "shell.execute_reply": "2023-12-23T06:18:15.486013Z"
    },
    "papermill": {
     "duration": 1.008068,
     "end_time": "2023-12-23T06:18:15.490179",
     "exception": false,
     "start_time": "2023-12-23T06:18:14.482111",
     "status": "completed"
    },
    "tags": []
   },
   "outputs": [
    {
     "name": "stdout",
     "output_type": "stream",
     "text": [
      "/kaggle/input/gender-classification-dataset/gender_classification_v7.csv\n"
     ]
    }
   ],
   "source": [
    "import numpy as np \n",
    "import pandas as pd \n",
    "import os\n",
    "\n",
    "for dirname, _, filenames in os.walk('/kaggle/input'):\n",
    "    for filename in filenames:\n",
    "        print(os.path.join(dirname, filename))\n",
    "        path=os.path.join(dirname, filename)"
   ]
  },
  {
   "cell_type": "markdown",
   "id": "43ed7067",
   "metadata": {
    "papermill": {
     "duration": 0.01046,
     "end_time": "2023-12-23T06:18:15.511870",
     "exception": false,
     "start_time": "2023-12-23T06:18:15.501410",
     "status": "completed"
    },
    "tags": []
   },
   "source": [
    "Every human face is different and has its own features of various lengths which define if a person is male or female. We have used the gender recognition dataset from Kaggle which consists of 5000 rows and 8 columns. The final column represents the gender of the person which is our class label, and the remaining 7 features describe lengths of various features of the human face. The following is the description of each column.\n",
    "\n",
    "a Long_hair: if the hair is short  its is labelled as 0 and 1 if the hair is long\n",
    "\n",
    "\n",
    "b.\tForehead width cm: the width of forehead of a face in cms\n",
    "\n",
    "c.\tForehead height cm: the height of forehead of a face in cms\n",
    "\n",
    "d.\tNose width: if the nose is wide  then its labelled as 1 and 0 if the nose is not wide\n",
    "\n",
    "e.\tNose long: if the nose is long  then  its labelled as 1 and 0 if the nose is not long\n",
    "\n",
    "f.\tLip thin: if the lips are thin then   its labelled as 1 and 0 if the lips are not thin\n",
    "\n",
    "g.\tDistance_nose_to_lip_long: if the distance between nose and lips is long  its  labelled as 1 and 0 if its short.\n",
    "\n",
    "h.\tGender: gender of a person\n"
   ]
  },
  {
   "cell_type": "code",
   "execution_count": 2,
   "id": "3ebf1831",
   "metadata": {
    "execution": {
     "iopub.execute_input": "2023-12-23T06:18:15.535442Z",
     "iopub.status.busy": "2023-12-23T06:18:15.534841Z",
     "iopub.status.idle": "2023-12-23T06:18:15.615046Z",
     "shell.execute_reply": "2023-12-23T06:18:15.613439Z"
    },
    "papermill": {
     "duration": 0.095318,
     "end_time": "2023-12-23T06:18:15.618196",
     "exception": false,
     "start_time": "2023-12-23T06:18:15.522878",
     "status": "completed"
    },
    "tags": []
   },
   "outputs": [
    {
     "data": {
      "text/html": [
       "<div>\n",
       "<style scoped>\n",
       "    .dataframe tbody tr th:only-of-type {\n",
       "        vertical-align: middle;\n",
       "    }\n",
       "\n",
       "    .dataframe tbody tr th {\n",
       "        vertical-align: top;\n",
       "    }\n",
       "\n",
       "    .dataframe thead th {\n",
       "        text-align: right;\n",
       "    }\n",
       "</style>\n",
       "<table border=\"1\" class=\"dataframe\">\n",
       "  <thead>\n",
       "    <tr style=\"text-align: right;\">\n",
       "      <th></th>\n",
       "      <th>long_hair</th>\n",
       "      <th>forehead_width_cm</th>\n",
       "      <th>forehead_height_cm</th>\n",
       "      <th>nose_wide</th>\n",
       "      <th>nose_long</th>\n",
       "      <th>lips_thin</th>\n",
       "      <th>distance_nose_to_lip_long</th>\n",
       "      <th>gender</th>\n",
       "    </tr>\n",
       "  </thead>\n",
       "  <tbody>\n",
       "    <tr>\n",
       "      <th>0</th>\n",
       "      <td>1</td>\n",
       "      <td>11.8</td>\n",
       "      <td>6.1</td>\n",
       "      <td>1</td>\n",
       "      <td>0</td>\n",
       "      <td>1</td>\n",
       "      <td>1</td>\n",
       "      <td>Male</td>\n",
       "    </tr>\n",
       "    <tr>\n",
       "      <th>1</th>\n",
       "      <td>0</td>\n",
       "      <td>14.0</td>\n",
       "      <td>5.4</td>\n",
       "      <td>0</td>\n",
       "      <td>0</td>\n",
       "      <td>1</td>\n",
       "      <td>0</td>\n",
       "      <td>Female</td>\n",
       "    </tr>\n",
       "    <tr>\n",
       "      <th>2</th>\n",
       "      <td>0</td>\n",
       "      <td>11.8</td>\n",
       "      <td>6.3</td>\n",
       "      <td>1</td>\n",
       "      <td>1</td>\n",
       "      <td>1</td>\n",
       "      <td>1</td>\n",
       "      <td>Male</td>\n",
       "    </tr>\n",
       "    <tr>\n",
       "      <th>3</th>\n",
       "      <td>0</td>\n",
       "      <td>14.4</td>\n",
       "      <td>6.1</td>\n",
       "      <td>0</td>\n",
       "      <td>1</td>\n",
       "      <td>1</td>\n",
       "      <td>1</td>\n",
       "      <td>Male</td>\n",
       "    </tr>\n",
       "    <tr>\n",
       "      <th>4</th>\n",
       "      <td>1</td>\n",
       "      <td>13.5</td>\n",
       "      <td>5.9</td>\n",
       "      <td>0</td>\n",
       "      <td>0</td>\n",
       "      <td>0</td>\n",
       "      <td>0</td>\n",
       "      <td>Female</td>\n",
       "    </tr>\n",
       "    <tr>\n",
       "      <th>...</th>\n",
       "      <td>...</td>\n",
       "      <td>...</td>\n",
       "      <td>...</td>\n",
       "      <td>...</td>\n",
       "      <td>...</td>\n",
       "      <td>...</td>\n",
       "      <td>...</td>\n",
       "      <td>...</td>\n",
       "    </tr>\n",
       "    <tr>\n",
       "      <th>4996</th>\n",
       "      <td>1</td>\n",
       "      <td>13.6</td>\n",
       "      <td>5.1</td>\n",
       "      <td>0</td>\n",
       "      <td>0</td>\n",
       "      <td>0</td>\n",
       "      <td>0</td>\n",
       "      <td>Female</td>\n",
       "    </tr>\n",
       "    <tr>\n",
       "      <th>4997</th>\n",
       "      <td>1</td>\n",
       "      <td>11.9</td>\n",
       "      <td>5.4</td>\n",
       "      <td>0</td>\n",
       "      <td>0</td>\n",
       "      <td>0</td>\n",
       "      <td>0</td>\n",
       "      <td>Female</td>\n",
       "    </tr>\n",
       "    <tr>\n",
       "      <th>4998</th>\n",
       "      <td>1</td>\n",
       "      <td>12.9</td>\n",
       "      <td>5.7</td>\n",
       "      <td>0</td>\n",
       "      <td>0</td>\n",
       "      <td>0</td>\n",
       "      <td>0</td>\n",
       "      <td>Female</td>\n",
       "    </tr>\n",
       "    <tr>\n",
       "      <th>4999</th>\n",
       "      <td>1</td>\n",
       "      <td>13.2</td>\n",
       "      <td>6.2</td>\n",
       "      <td>0</td>\n",
       "      <td>0</td>\n",
       "      <td>0</td>\n",
       "      <td>0</td>\n",
       "      <td>Female</td>\n",
       "    </tr>\n",
       "    <tr>\n",
       "      <th>5000</th>\n",
       "      <td>1</td>\n",
       "      <td>15.4</td>\n",
       "      <td>5.4</td>\n",
       "      <td>1</td>\n",
       "      <td>1</td>\n",
       "      <td>1</td>\n",
       "      <td>1</td>\n",
       "      <td>Male</td>\n",
       "    </tr>\n",
       "  </tbody>\n",
       "</table>\n",
       "<p>5001 rows × 8 columns</p>\n",
       "</div>"
      ],
      "text/plain": [
       "      long_hair  forehead_width_cm  forehead_height_cm  nose_wide  nose_long  \\\n",
       "0             1               11.8                 6.1          1          0   \n",
       "1             0               14.0                 5.4          0          0   \n",
       "2             0               11.8                 6.3          1          1   \n",
       "3             0               14.4                 6.1          0          1   \n",
       "4             1               13.5                 5.9          0          0   \n",
       "...         ...                ...                 ...        ...        ...   \n",
       "4996          1               13.6                 5.1          0          0   \n",
       "4997          1               11.9                 5.4          0          0   \n",
       "4998          1               12.9                 5.7          0          0   \n",
       "4999          1               13.2                 6.2          0          0   \n",
       "5000          1               15.4                 5.4          1          1   \n",
       "\n",
       "      lips_thin  distance_nose_to_lip_long  gender  \n",
       "0             1                          1    Male  \n",
       "1             1                          0  Female  \n",
       "2             1                          1    Male  \n",
       "3             1                          1    Male  \n",
       "4             0                          0  Female  \n",
       "...         ...                        ...     ...  \n",
       "4996          0                          0  Female  \n",
       "4997          0                          0  Female  \n",
       "4998          0                          0  Female  \n",
       "4999          0                          0  Female  \n",
       "5000          1                          1    Male  \n",
       "\n",
       "[5001 rows x 8 columns]"
      ]
     },
     "execution_count": 2,
     "metadata": {},
     "output_type": "execute_result"
    }
   ],
   "source": [
    "gender_data=pd.read_csv(path)\n",
    "gender_data"
   ]
  },
  {
   "cell_type": "code",
   "execution_count": 3,
   "id": "207af384",
   "metadata": {
    "execution": {
     "iopub.execute_input": "2023-12-23T06:18:15.643653Z",
     "iopub.status.busy": "2023-12-23T06:18:15.642220Z",
     "iopub.status.idle": "2023-12-23T06:18:15.674968Z",
     "shell.execute_reply": "2023-12-23T06:18:15.673668Z"
    },
    "papermill": {
     "duration": 0.049727,
     "end_time": "2023-12-23T06:18:15.678897",
     "exception": false,
     "start_time": "2023-12-23T06:18:15.629170",
     "status": "completed"
    },
    "tags": []
   },
   "outputs": [
    {
     "name": "stdout",
     "output_type": "stream",
     "text": [
      "<class 'pandas.core.frame.DataFrame'>\n",
      "RangeIndex: 5001 entries, 0 to 5000\n",
      "Data columns (total 8 columns):\n",
      " #   Column                     Non-Null Count  Dtype  \n",
      "---  ------                     --------------  -----  \n",
      " 0   long_hair                  5001 non-null   int64  \n",
      " 1   forehead_width_cm          5001 non-null   float64\n",
      " 2   forehead_height_cm         5001 non-null   float64\n",
      " 3   nose_wide                  5001 non-null   int64  \n",
      " 4   nose_long                  5001 non-null   int64  \n",
      " 5   lips_thin                  5001 non-null   int64  \n",
      " 6   distance_nose_to_lip_long  5001 non-null   int64  \n",
      " 7   gender                     5001 non-null   object \n",
      "dtypes: float64(2), int64(5), object(1)\n",
      "memory usage: 312.7+ KB\n"
     ]
    }
   ],
   "source": [
    "gender_data.info()"
   ]
  },
  {
   "cell_type": "code",
   "execution_count": 4,
   "id": "f04a305e",
   "metadata": {
    "execution": {
     "iopub.execute_input": "2023-12-23T06:18:15.712631Z",
     "iopub.status.busy": "2023-12-23T06:18:15.711945Z",
     "iopub.status.idle": "2023-12-23T06:18:15.758850Z",
     "shell.execute_reply": "2023-12-23T06:18:15.757424Z"
    },
    "papermill": {
     "duration": 0.065559,
     "end_time": "2023-12-23T06:18:15.761772",
     "exception": false,
     "start_time": "2023-12-23T06:18:15.696213",
     "status": "completed"
    },
    "tags": []
   },
   "outputs": [
    {
     "data": {
      "text/html": [
       "<div>\n",
       "<style scoped>\n",
       "    .dataframe tbody tr th:only-of-type {\n",
       "        vertical-align: middle;\n",
       "    }\n",
       "\n",
       "    .dataframe tbody tr th {\n",
       "        vertical-align: top;\n",
       "    }\n",
       "\n",
       "    .dataframe thead th {\n",
       "        text-align: right;\n",
       "    }\n",
       "</style>\n",
       "<table border=\"1\" class=\"dataframe\">\n",
       "  <thead>\n",
       "    <tr style=\"text-align: right;\">\n",
       "      <th></th>\n",
       "      <th>long_hair</th>\n",
       "      <th>forehead_width_cm</th>\n",
       "      <th>forehead_height_cm</th>\n",
       "      <th>nose_wide</th>\n",
       "      <th>nose_long</th>\n",
       "      <th>lips_thin</th>\n",
       "      <th>distance_nose_to_lip_long</th>\n",
       "    </tr>\n",
       "  </thead>\n",
       "  <tbody>\n",
       "    <tr>\n",
       "      <th>count</th>\n",
       "      <td>5001.000000</td>\n",
       "      <td>5001.000000</td>\n",
       "      <td>5001.000000</td>\n",
       "      <td>5001.000000</td>\n",
       "      <td>5001.000000</td>\n",
       "      <td>5001.000000</td>\n",
       "      <td>5001.000000</td>\n",
       "    </tr>\n",
       "    <tr>\n",
       "      <th>mean</th>\n",
       "      <td>0.869626</td>\n",
       "      <td>13.181484</td>\n",
       "      <td>5.946311</td>\n",
       "      <td>0.493901</td>\n",
       "      <td>0.507898</td>\n",
       "      <td>0.493101</td>\n",
       "      <td>0.498900</td>\n",
       "    </tr>\n",
       "    <tr>\n",
       "      <th>std</th>\n",
       "      <td>0.336748</td>\n",
       "      <td>1.107128</td>\n",
       "      <td>0.541268</td>\n",
       "      <td>0.500013</td>\n",
       "      <td>0.499988</td>\n",
       "      <td>0.500002</td>\n",
       "      <td>0.500049</td>\n",
       "    </tr>\n",
       "    <tr>\n",
       "      <th>min</th>\n",
       "      <td>0.000000</td>\n",
       "      <td>11.400000</td>\n",
       "      <td>5.100000</td>\n",
       "      <td>0.000000</td>\n",
       "      <td>0.000000</td>\n",
       "      <td>0.000000</td>\n",
       "      <td>0.000000</td>\n",
       "    </tr>\n",
       "    <tr>\n",
       "      <th>25%</th>\n",
       "      <td>1.000000</td>\n",
       "      <td>12.200000</td>\n",
       "      <td>5.500000</td>\n",
       "      <td>0.000000</td>\n",
       "      <td>0.000000</td>\n",
       "      <td>0.000000</td>\n",
       "      <td>0.000000</td>\n",
       "    </tr>\n",
       "    <tr>\n",
       "      <th>50%</th>\n",
       "      <td>1.000000</td>\n",
       "      <td>13.100000</td>\n",
       "      <td>5.900000</td>\n",
       "      <td>0.000000</td>\n",
       "      <td>1.000000</td>\n",
       "      <td>0.000000</td>\n",
       "      <td>0.000000</td>\n",
       "    </tr>\n",
       "    <tr>\n",
       "      <th>75%</th>\n",
       "      <td>1.000000</td>\n",
       "      <td>14.000000</td>\n",
       "      <td>6.400000</td>\n",
       "      <td>1.000000</td>\n",
       "      <td>1.000000</td>\n",
       "      <td>1.000000</td>\n",
       "      <td>1.000000</td>\n",
       "    </tr>\n",
       "    <tr>\n",
       "      <th>max</th>\n",
       "      <td>1.000000</td>\n",
       "      <td>15.500000</td>\n",
       "      <td>7.100000</td>\n",
       "      <td>1.000000</td>\n",
       "      <td>1.000000</td>\n",
       "      <td>1.000000</td>\n",
       "      <td>1.000000</td>\n",
       "    </tr>\n",
       "  </tbody>\n",
       "</table>\n",
       "</div>"
      ],
      "text/plain": [
       "         long_hair  forehead_width_cm  forehead_height_cm    nose_wide  \\\n",
       "count  5001.000000        5001.000000         5001.000000  5001.000000   \n",
       "mean      0.869626          13.181484            5.946311     0.493901   \n",
       "std       0.336748           1.107128            0.541268     0.500013   \n",
       "min       0.000000          11.400000            5.100000     0.000000   \n",
       "25%       1.000000          12.200000            5.500000     0.000000   \n",
       "50%       1.000000          13.100000            5.900000     0.000000   \n",
       "75%       1.000000          14.000000            6.400000     1.000000   \n",
       "max       1.000000          15.500000            7.100000     1.000000   \n",
       "\n",
       "         nose_long    lips_thin  distance_nose_to_lip_long  \n",
       "count  5001.000000  5001.000000                5001.000000  \n",
       "mean      0.507898     0.493101                   0.498900  \n",
       "std       0.499988     0.500002                   0.500049  \n",
       "min       0.000000     0.000000                   0.000000  \n",
       "25%       0.000000     0.000000                   0.000000  \n",
       "50%       1.000000     0.000000                   0.000000  \n",
       "75%       1.000000     1.000000                   1.000000  \n",
       "max       1.000000     1.000000                   1.000000  "
      ]
     },
     "execution_count": 4,
     "metadata": {},
     "output_type": "execute_result"
    }
   ],
   "source": [
    "#4.\tTo have the statistical inference we will be using the describe() function which gives us the count, mean, standard deviation, maximum and minimum values and also the quartiles of the data.\n",
    "gender_data.describe()"
   ]
  },
  {
   "cell_type": "code",
   "execution_count": 5,
   "id": "d4fa5b0f",
   "metadata": {
    "execution": {
     "iopub.execute_input": "2023-12-23T06:18:15.795115Z",
     "iopub.status.busy": "2023-12-23T06:18:15.794233Z",
     "iopub.status.idle": "2023-12-23T06:18:15.805520Z",
     "shell.execute_reply": "2023-12-23T06:18:15.804446Z"
    },
    "papermill": {
     "duration": 0.031815,
     "end_time": "2023-12-23T06:18:15.808404",
     "exception": false,
     "start_time": "2023-12-23T06:18:15.776589",
     "status": "completed"
    },
    "tags": []
   },
   "outputs": [
    {
     "data": {
      "text/plain": [
       "array(['Male', 'Female'], dtype=object)"
      ]
     },
     "execution_count": 5,
     "metadata": {},
     "output_type": "execute_result"
    }
   ],
   "source": [
    "gender_data['gender'].unique()"
   ]
  },
  {
   "cell_type": "code",
   "execution_count": 6,
   "id": "943ab8d0",
   "metadata": {
    "execution": {
     "iopub.execute_input": "2023-12-23T06:18:15.833553Z",
     "iopub.status.busy": "2023-12-23T06:18:15.832730Z",
     "iopub.status.idle": "2023-12-23T06:18:15.845377Z",
     "shell.execute_reply": "2023-12-23T06:18:15.844266Z"
    },
    "papermill": {
     "duration": 0.02838,
     "end_time": "2023-12-23T06:18:15.848283",
     "exception": false,
     "start_time": "2023-12-23T06:18:15.819903",
     "status": "completed"
    },
    "tags": []
   },
   "outputs": [],
   "source": [
    "gender_data[\"gender\"]=gender_data[\"gender\"].replace({\"Male\":0,\"Female\":1})"
   ]
  },
  {
   "cell_type": "code",
   "execution_count": 7,
   "id": "97d0e66f",
   "metadata": {
    "execution": {
     "iopub.execute_input": "2023-12-23T06:18:15.873941Z",
     "iopub.status.busy": "2023-12-23T06:18:15.873005Z",
     "iopub.status.idle": "2023-12-23T06:18:15.886548Z",
     "shell.execute_reply": "2023-12-23T06:18:15.885407Z"
    },
    "papermill": {
     "duration": 0.029659,
     "end_time": "2023-12-23T06:18:15.889486",
     "exception": false,
     "start_time": "2023-12-23T06:18:15.859827",
     "status": "completed"
    },
    "tags": []
   },
   "outputs": [
    {
     "name": "stdout",
     "output_type": "stream",
     "text": [
      "<class 'pandas.core.frame.DataFrame'>\n",
      "RangeIndex: 5001 entries, 0 to 5000\n",
      "Data columns (total 8 columns):\n",
      " #   Column                     Non-Null Count  Dtype  \n",
      "---  ------                     --------------  -----  \n",
      " 0   long_hair                  5001 non-null   int64  \n",
      " 1   forehead_width_cm          5001 non-null   float64\n",
      " 2   forehead_height_cm         5001 non-null   float64\n",
      " 3   nose_wide                  5001 non-null   int64  \n",
      " 4   nose_long                  5001 non-null   int64  \n",
      " 5   lips_thin                  5001 non-null   int64  \n",
      " 6   distance_nose_to_lip_long  5001 non-null   int64  \n",
      " 7   gender                     5001 non-null   int64  \n",
      "dtypes: float64(2), int64(6)\n",
      "memory usage: 312.7 KB\n"
     ]
    }
   ],
   "source": [
    "gender_data.info()"
   ]
  },
  {
   "cell_type": "code",
   "execution_count": 8,
   "id": "bc6d17f7",
   "metadata": {
    "execution": {
     "iopub.execute_input": "2023-12-23T06:18:15.915314Z",
     "iopub.status.busy": "2023-12-23T06:18:15.914576Z",
     "iopub.status.idle": "2023-12-23T06:18:15.934502Z",
     "shell.execute_reply": "2023-12-23T06:18:15.933185Z"
    },
    "papermill": {
     "duration": 0.036833,
     "end_time": "2023-12-23T06:18:15.937939",
     "exception": false,
     "start_time": "2023-12-23T06:18:15.901106",
     "status": "completed"
    },
    "tags": []
   },
   "outputs": [
    {
     "data": {
      "text/html": [
       "<div>\n",
       "<style scoped>\n",
       "    .dataframe tbody tr th:only-of-type {\n",
       "        vertical-align: middle;\n",
       "    }\n",
       "\n",
       "    .dataframe tbody tr th {\n",
       "        vertical-align: top;\n",
       "    }\n",
       "\n",
       "    .dataframe thead th {\n",
       "        text-align: right;\n",
       "    }\n",
       "</style>\n",
       "<table border=\"1\" class=\"dataframe\">\n",
       "  <thead>\n",
       "    <tr style=\"text-align: right;\">\n",
       "      <th></th>\n",
       "      <th>long_hair</th>\n",
       "      <th>forehead_width_cm</th>\n",
       "      <th>forehead_height_cm</th>\n",
       "      <th>nose_wide</th>\n",
       "      <th>nose_long</th>\n",
       "      <th>lips_thin</th>\n",
       "      <th>distance_nose_to_lip_long</th>\n",
       "      <th>gender</th>\n",
       "    </tr>\n",
       "  </thead>\n",
       "  <tbody>\n",
       "    <tr>\n",
       "      <th>0</th>\n",
       "      <td>1</td>\n",
       "      <td>11.8</td>\n",
       "      <td>6.1</td>\n",
       "      <td>1</td>\n",
       "      <td>0</td>\n",
       "      <td>1</td>\n",
       "      <td>1</td>\n",
       "      <td>0</td>\n",
       "    </tr>\n",
       "    <tr>\n",
       "      <th>1</th>\n",
       "      <td>0</td>\n",
       "      <td>14.0</td>\n",
       "      <td>5.4</td>\n",
       "      <td>0</td>\n",
       "      <td>0</td>\n",
       "      <td>1</td>\n",
       "      <td>0</td>\n",
       "      <td>1</td>\n",
       "    </tr>\n",
       "    <tr>\n",
       "      <th>2</th>\n",
       "      <td>0</td>\n",
       "      <td>11.8</td>\n",
       "      <td>6.3</td>\n",
       "      <td>1</td>\n",
       "      <td>1</td>\n",
       "      <td>1</td>\n",
       "      <td>1</td>\n",
       "      <td>0</td>\n",
       "    </tr>\n",
       "    <tr>\n",
       "      <th>3</th>\n",
       "      <td>0</td>\n",
       "      <td>14.4</td>\n",
       "      <td>6.1</td>\n",
       "      <td>0</td>\n",
       "      <td>1</td>\n",
       "      <td>1</td>\n",
       "      <td>1</td>\n",
       "      <td>0</td>\n",
       "    </tr>\n",
       "    <tr>\n",
       "      <th>4</th>\n",
       "      <td>1</td>\n",
       "      <td>13.5</td>\n",
       "      <td>5.9</td>\n",
       "      <td>0</td>\n",
       "      <td>0</td>\n",
       "      <td>0</td>\n",
       "      <td>0</td>\n",
       "      <td>1</td>\n",
       "    </tr>\n",
       "    <tr>\n",
       "      <th>...</th>\n",
       "      <td>...</td>\n",
       "      <td>...</td>\n",
       "      <td>...</td>\n",
       "      <td>...</td>\n",
       "      <td>...</td>\n",
       "      <td>...</td>\n",
       "      <td>...</td>\n",
       "      <td>...</td>\n",
       "    </tr>\n",
       "    <tr>\n",
       "      <th>4996</th>\n",
       "      <td>1</td>\n",
       "      <td>13.6</td>\n",
       "      <td>5.1</td>\n",
       "      <td>0</td>\n",
       "      <td>0</td>\n",
       "      <td>0</td>\n",
       "      <td>0</td>\n",
       "      <td>1</td>\n",
       "    </tr>\n",
       "    <tr>\n",
       "      <th>4997</th>\n",
       "      <td>1</td>\n",
       "      <td>11.9</td>\n",
       "      <td>5.4</td>\n",
       "      <td>0</td>\n",
       "      <td>0</td>\n",
       "      <td>0</td>\n",
       "      <td>0</td>\n",
       "      <td>1</td>\n",
       "    </tr>\n",
       "    <tr>\n",
       "      <th>4998</th>\n",
       "      <td>1</td>\n",
       "      <td>12.9</td>\n",
       "      <td>5.7</td>\n",
       "      <td>0</td>\n",
       "      <td>0</td>\n",
       "      <td>0</td>\n",
       "      <td>0</td>\n",
       "      <td>1</td>\n",
       "    </tr>\n",
       "    <tr>\n",
       "      <th>4999</th>\n",
       "      <td>1</td>\n",
       "      <td>13.2</td>\n",
       "      <td>6.2</td>\n",
       "      <td>0</td>\n",
       "      <td>0</td>\n",
       "      <td>0</td>\n",
       "      <td>0</td>\n",
       "      <td>1</td>\n",
       "    </tr>\n",
       "    <tr>\n",
       "      <th>5000</th>\n",
       "      <td>1</td>\n",
       "      <td>15.4</td>\n",
       "      <td>5.4</td>\n",
       "      <td>1</td>\n",
       "      <td>1</td>\n",
       "      <td>1</td>\n",
       "      <td>1</td>\n",
       "      <td>0</td>\n",
       "    </tr>\n",
       "  </tbody>\n",
       "</table>\n",
       "<p>5001 rows × 8 columns</p>\n",
       "</div>"
      ],
      "text/plain": [
       "      long_hair  forehead_width_cm  forehead_height_cm  nose_wide  nose_long  \\\n",
       "0             1               11.8                 6.1          1          0   \n",
       "1             0               14.0                 5.4          0          0   \n",
       "2             0               11.8                 6.3          1          1   \n",
       "3             0               14.4                 6.1          0          1   \n",
       "4             1               13.5                 5.9          0          0   \n",
       "...         ...                ...                 ...        ...        ...   \n",
       "4996          1               13.6                 5.1          0          0   \n",
       "4997          1               11.9                 5.4          0          0   \n",
       "4998          1               12.9                 5.7          0          0   \n",
       "4999          1               13.2                 6.2          0          0   \n",
       "5000          1               15.4                 5.4          1          1   \n",
       "\n",
       "      lips_thin  distance_nose_to_lip_long  gender  \n",
       "0             1                          1       0  \n",
       "1             1                          0       1  \n",
       "2             1                          1       0  \n",
       "3             1                          1       0  \n",
       "4             0                          0       1  \n",
       "...         ...                        ...     ...  \n",
       "4996          0                          0       1  \n",
       "4997          0                          0       1  \n",
       "4998          0                          0       1  \n",
       "4999          0                          0       1  \n",
       "5000          1                          1       0  \n",
       "\n",
       "[5001 rows x 8 columns]"
      ]
     },
     "execution_count": 8,
     "metadata": {},
     "output_type": "execute_result"
    }
   ],
   "source": [
    "gender_data"
   ]
  },
  {
   "cell_type": "code",
   "execution_count": 9,
   "id": "2a8d918a",
   "metadata": {
    "execution": {
     "iopub.execute_input": "2023-12-23T06:18:15.965988Z",
     "iopub.status.busy": "2023-12-23T06:18:15.964665Z",
     "iopub.status.idle": "2023-12-23T06:18:16.014444Z",
     "shell.execute_reply": "2023-12-23T06:18:16.013483Z"
    },
    "papermill": {
     "duration": 0.067549,
     "end_time": "2023-12-23T06:18:16.017531",
     "exception": false,
     "start_time": "2023-12-23T06:18:15.949982",
     "status": "completed"
    },
    "tags": []
   },
   "outputs": [
    {
     "data": {
      "text/html": [
       "<div>\n",
       "<style scoped>\n",
       "    .dataframe tbody tr th:only-of-type {\n",
       "        vertical-align: middle;\n",
       "    }\n",
       "\n",
       "    .dataframe tbody tr th {\n",
       "        vertical-align: top;\n",
       "    }\n",
       "\n",
       "    .dataframe thead th {\n",
       "        text-align: right;\n",
       "    }\n",
       "</style>\n",
       "<table border=\"1\" class=\"dataframe\">\n",
       "  <thead>\n",
       "    <tr style=\"text-align: right;\">\n",
       "      <th></th>\n",
       "      <th>long_hair</th>\n",
       "      <th>forehead_width_cm</th>\n",
       "      <th>forehead_height_cm</th>\n",
       "      <th>nose_wide</th>\n",
       "      <th>nose_long</th>\n",
       "      <th>lips_thin</th>\n",
       "      <th>distance_nose_to_lip_long</th>\n",
       "      <th>gender</th>\n",
       "    </tr>\n",
       "  </thead>\n",
       "  <tbody>\n",
       "    <tr>\n",
       "      <th>count</th>\n",
       "      <td>5001.000000</td>\n",
       "      <td>5001.000000</td>\n",
       "      <td>5001.000000</td>\n",
       "      <td>5001.000000</td>\n",
       "      <td>5001.000000</td>\n",
       "      <td>5001.000000</td>\n",
       "      <td>5001.000000</td>\n",
       "      <td>5001.00000</td>\n",
       "    </tr>\n",
       "    <tr>\n",
       "      <th>mean</th>\n",
       "      <td>0.869626</td>\n",
       "      <td>13.181484</td>\n",
       "      <td>5.946311</td>\n",
       "      <td>0.493901</td>\n",
       "      <td>0.507898</td>\n",
       "      <td>0.493101</td>\n",
       "      <td>0.498900</td>\n",
       "      <td>0.50010</td>\n",
       "    </tr>\n",
       "    <tr>\n",
       "      <th>std</th>\n",
       "      <td>0.336748</td>\n",
       "      <td>1.107128</td>\n",
       "      <td>0.541268</td>\n",
       "      <td>0.500013</td>\n",
       "      <td>0.499988</td>\n",
       "      <td>0.500002</td>\n",
       "      <td>0.500049</td>\n",
       "      <td>0.50005</td>\n",
       "    </tr>\n",
       "    <tr>\n",
       "      <th>min</th>\n",
       "      <td>0.000000</td>\n",
       "      <td>11.400000</td>\n",
       "      <td>5.100000</td>\n",
       "      <td>0.000000</td>\n",
       "      <td>0.000000</td>\n",
       "      <td>0.000000</td>\n",
       "      <td>0.000000</td>\n",
       "      <td>0.00000</td>\n",
       "    </tr>\n",
       "    <tr>\n",
       "      <th>25%</th>\n",
       "      <td>1.000000</td>\n",
       "      <td>12.200000</td>\n",
       "      <td>5.500000</td>\n",
       "      <td>0.000000</td>\n",
       "      <td>0.000000</td>\n",
       "      <td>0.000000</td>\n",
       "      <td>0.000000</td>\n",
       "      <td>0.00000</td>\n",
       "    </tr>\n",
       "    <tr>\n",
       "      <th>50%</th>\n",
       "      <td>1.000000</td>\n",
       "      <td>13.100000</td>\n",
       "      <td>5.900000</td>\n",
       "      <td>0.000000</td>\n",
       "      <td>1.000000</td>\n",
       "      <td>0.000000</td>\n",
       "      <td>0.000000</td>\n",
       "      <td>1.00000</td>\n",
       "    </tr>\n",
       "    <tr>\n",
       "      <th>75%</th>\n",
       "      <td>1.000000</td>\n",
       "      <td>14.000000</td>\n",
       "      <td>6.400000</td>\n",
       "      <td>1.000000</td>\n",
       "      <td>1.000000</td>\n",
       "      <td>1.000000</td>\n",
       "      <td>1.000000</td>\n",
       "      <td>1.00000</td>\n",
       "    </tr>\n",
       "    <tr>\n",
       "      <th>max</th>\n",
       "      <td>1.000000</td>\n",
       "      <td>15.500000</td>\n",
       "      <td>7.100000</td>\n",
       "      <td>1.000000</td>\n",
       "      <td>1.000000</td>\n",
       "      <td>1.000000</td>\n",
       "      <td>1.000000</td>\n",
       "      <td>1.00000</td>\n",
       "    </tr>\n",
       "  </tbody>\n",
       "</table>\n",
       "</div>"
      ],
      "text/plain": [
       "         long_hair  forehead_width_cm  forehead_height_cm    nose_wide  \\\n",
       "count  5001.000000        5001.000000         5001.000000  5001.000000   \n",
       "mean      0.869626          13.181484            5.946311     0.493901   \n",
       "std       0.336748           1.107128            0.541268     0.500013   \n",
       "min       0.000000          11.400000            5.100000     0.000000   \n",
       "25%       1.000000          12.200000            5.500000     0.000000   \n",
       "50%       1.000000          13.100000            5.900000     0.000000   \n",
       "75%       1.000000          14.000000            6.400000     1.000000   \n",
       "max       1.000000          15.500000            7.100000     1.000000   \n",
       "\n",
       "         nose_long    lips_thin  distance_nose_to_lip_long      gender  \n",
       "count  5001.000000  5001.000000                5001.000000  5001.00000  \n",
       "mean      0.507898     0.493101                   0.498900     0.50010  \n",
       "std       0.499988     0.500002                   0.500049     0.50005  \n",
       "min       0.000000     0.000000                   0.000000     0.00000  \n",
       "25%       0.000000     0.000000                   0.000000     0.00000  \n",
       "50%       1.000000     0.000000                   0.000000     1.00000  \n",
       "75%       1.000000     1.000000                   1.000000     1.00000  \n",
       "max       1.000000     1.000000                   1.000000     1.00000  "
      ]
     },
     "execution_count": 9,
     "metadata": {},
     "output_type": "execute_result"
    }
   ],
   "source": [
    "gender_data.describe()"
   ]
  },
  {
   "cell_type": "code",
   "execution_count": 10,
   "id": "04cd9b9c",
   "metadata": {
    "execution": {
     "iopub.execute_input": "2023-12-23T06:18:16.052531Z",
     "iopub.status.busy": "2023-12-23T06:18:16.052084Z",
     "iopub.status.idle": "2023-12-23T06:18:16.072782Z",
     "shell.execute_reply": "2023-12-23T06:18:16.071593Z"
    },
    "papermill": {
     "duration": 0.039363,
     "end_time": "2023-12-23T06:18:16.075311",
     "exception": false,
     "start_time": "2023-12-23T06:18:16.035948",
     "status": "completed"
    },
    "tags": []
   },
   "outputs": [
    {
     "data": {
      "text/html": [
       "<div>\n",
       "<style scoped>\n",
       "    .dataframe tbody tr th:only-of-type {\n",
       "        vertical-align: middle;\n",
       "    }\n",
       "\n",
       "    .dataframe tbody tr th {\n",
       "        vertical-align: top;\n",
       "    }\n",
       "\n",
       "    .dataframe thead th {\n",
       "        text-align: right;\n",
       "    }\n",
       "</style>\n",
       "<table border=\"1\" class=\"dataframe\">\n",
       "  <thead>\n",
       "    <tr style=\"text-align: right;\">\n",
       "      <th></th>\n",
       "      <th>long_hair</th>\n",
       "      <th>forehead_width_cm</th>\n",
       "      <th>forehead_height_cm</th>\n",
       "      <th>nose_wide</th>\n",
       "      <th>nose_long</th>\n",
       "      <th>lips_thin</th>\n",
       "      <th>distance_nose_to_lip_long</th>\n",
       "    </tr>\n",
       "  </thead>\n",
       "  <tbody>\n",
       "    <tr>\n",
       "      <th>0</th>\n",
       "      <td>1</td>\n",
       "      <td>11.8</td>\n",
       "      <td>6.1</td>\n",
       "      <td>1</td>\n",
       "      <td>0</td>\n",
       "      <td>1</td>\n",
       "      <td>1</td>\n",
       "    </tr>\n",
       "    <tr>\n",
       "      <th>1</th>\n",
       "      <td>0</td>\n",
       "      <td>14.0</td>\n",
       "      <td>5.4</td>\n",
       "      <td>0</td>\n",
       "      <td>0</td>\n",
       "      <td>1</td>\n",
       "      <td>0</td>\n",
       "    </tr>\n",
       "    <tr>\n",
       "      <th>2</th>\n",
       "      <td>0</td>\n",
       "      <td>11.8</td>\n",
       "      <td>6.3</td>\n",
       "      <td>1</td>\n",
       "      <td>1</td>\n",
       "      <td>1</td>\n",
       "      <td>1</td>\n",
       "    </tr>\n",
       "    <tr>\n",
       "      <th>3</th>\n",
       "      <td>0</td>\n",
       "      <td>14.4</td>\n",
       "      <td>6.1</td>\n",
       "      <td>0</td>\n",
       "      <td>1</td>\n",
       "      <td>1</td>\n",
       "      <td>1</td>\n",
       "    </tr>\n",
       "    <tr>\n",
       "      <th>4</th>\n",
       "      <td>1</td>\n",
       "      <td>13.5</td>\n",
       "      <td>5.9</td>\n",
       "      <td>0</td>\n",
       "      <td>0</td>\n",
       "      <td>0</td>\n",
       "      <td>0</td>\n",
       "    </tr>\n",
       "    <tr>\n",
       "      <th>...</th>\n",
       "      <td>...</td>\n",
       "      <td>...</td>\n",
       "      <td>...</td>\n",
       "      <td>...</td>\n",
       "      <td>...</td>\n",
       "      <td>...</td>\n",
       "      <td>...</td>\n",
       "    </tr>\n",
       "    <tr>\n",
       "      <th>4996</th>\n",
       "      <td>1</td>\n",
       "      <td>13.6</td>\n",
       "      <td>5.1</td>\n",
       "      <td>0</td>\n",
       "      <td>0</td>\n",
       "      <td>0</td>\n",
       "      <td>0</td>\n",
       "    </tr>\n",
       "    <tr>\n",
       "      <th>4997</th>\n",
       "      <td>1</td>\n",
       "      <td>11.9</td>\n",
       "      <td>5.4</td>\n",
       "      <td>0</td>\n",
       "      <td>0</td>\n",
       "      <td>0</td>\n",
       "      <td>0</td>\n",
       "    </tr>\n",
       "    <tr>\n",
       "      <th>4998</th>\n",
       "      <td>1</td>\n",
       "      <td>12.9</td>\n",
       "      <td>5.7</td>\n",
       "      <td>0</td>\n",
       "      <td>0</td>\n",
       "      <td>0</td>\n",
       "      <td>0</td>\n",
       "    </tr>\n",
       "    <tr>\n",
       "      <th>4999</th>\n",
       "      <td>1</td>\n",
       "      <td>13.2</td>\n",
       "      <td>6.2</td>\n",
       "      <td>0</td>\n",
       "      <td>0</td>\n",
       "      <td>0</td>\n",
       "      <td>0</td>\n",
       "    </tr>\n",
       "    <tr>\n",
       "      <th>5000</th>\n",
       "      <td>1</td>\n",
       "      <td>15.4</td>\n",
       "      <td>5.4</td>\n",
       "      <td>1</td>\n",
       "      <td>1</td>\n",
       "      <td>1</td>\n",
       "      <td>1</td>\n",
       "    </tr>\n",
       "  </tbody>\n",
       "</table>\n",
       "<p>5001 rows × 7 columns</p>\n",
       "</div>"
      ],
      "text/plain": [
       "      long_hair  forehead_width_cm  forehead_height_cm  nose_wide  nose_long  \\\n",
       "0             1               11.8                 6.1          1          0   \n",
       "1             0               14.0                 5.4          0          0   \n",
       "2             0               11.8                 6.3          1          1   \n",
       "3             0               14.4                 6.1          0          1   \n",
       "4             1               13.5                 5.9          0          0   \n",
       "...         ...                ...                 ...        ...        ...   \n",
       "4996          1               13.6                 5.1          0          0   \n",
       "4997          1               11.9                 5.4          0          0   \n",
       "4998          1               12.9                 5.7          0          0   \n",
       "4999          1               13.2                 6.2          0          0   \n",
       "5000          1               15.4                 5.4          1          1   \n",
       "\n",
       "      lips_thin  distance_nose_to_lip_long  \n",
       "0             1                          1  \n",
       "1             1                          0  \n",
       "2             1                          1  \n",
       "3             1                          1  \n",
       "4             0                          0  \n",
       "...         ...                        ...  \n",
       "4996          0                          0  \n",
       "4997          0                          0  \n",
       "4998          0                          0  \n",
       "4999          0                          0  \n",
       "5000          1                          1  \n",
       "\n",
       "[5001 rows x 7 columns]"
      ]
     },
     "execution_count": 10,
     "metadata": {},
     "output_type": "execute_result"
    }
   ],
   "source": [
    "features=gender_data.iloc[:,:-1]\n",
    "features"
   ]
  },
  {
   "cell_type": "code",
   "execution_count": 11,
   "id": "24d92d75",
   "metadata": {
    "execution": {
     "iopub.execute_input": "2023-12-23T06:18:16.103530Z",
     "iopub.status.busy": "2023-12-23T06:18:16.102318Z",
     "iopub.status.idle": "2023-12-23T06:18:16.112691Z",
     "shell.execute_reply": "2023-12-23T06:18:16.111335Z"
    },
    "papermill": {
     "duration": 0.02703,
     "end_time": "2023-12-23T06:18:16.115091",
     "exception": false,
     "start_time": "2023-12-23T06:18:16.088061",
     "status": "completed"
    },
    "tags": []
   },
   "outputs": [
    {
     "data": {
      "text/plain": [
       "0       0\n",
       "1       1\n",
       "2       0\n",
       "3       0\n",
       "4       1\n",
       "       ..\n",
       "4996    1\n",
       "4997    1\n",
       "4998    1\n",
       "4999    1\n",
       "5000    0\n",
       "Name: gender, Length: 5001, dtype: int64"
      ]
     },
     "execution_count": 11,
     "metadata": {},
     "output_type": "execute_result"
    }
   ],
   "source": [
    "gender=gender_data[\"gender\"]\n",
    "gender"
   ]
  },
  {
   "cell_type": "code",
   "execution_count": 12,
   "id": "85b3320e",
   "metadata": {
    "execution": {
     "iopub.execute_input": "2023-12-23T06:18:16.145066Z",
     "iopub.status.busy": "2023-12-23T06:18:16.144621Z",
     "iopub.status.idle": "2023-12-23T06:18:17.893619Z",
     "shell.execute_reply": "2023-12-23T06:18:17.892335Z"
    },
    "papermill": {
     "duration": 1.767116,
     "end_time": "2023-12-23T06:18:17.896649",
     "exception": false,
     "start_time": "2023-12-23T06:18:16.129533",
     "status": "completed"
    },
    "tags": []
   },
   "outputs": [],
   "source": [
    "from sklearn.preprocessing import StandardScaler\n",
    "from sklearn.model_selection import train_test_split\n",
    "from sklearn import svm"
   ]
  },
  {
   "cell_type": "code",
   "execution_count": 13,
   "id": "6cdb08c4",
   "metadata": {
    "execution": {
     "iopub.execute_input": "2023-12-23T06:18:17.925083Z",
     "iopub.status.busy": "2023-12-23T06:18:17.923915Z",
     "iopub.status.idle": "2023-12-23T06:18:17.936657Z",
     "shell.execute_reply": "2023-12-23T06:18:17.935216Z"
    },
    "papermill": {
     "duration": 0.029847,
     "end_time": "2023-12-23T06:18:17.939588",
     "exception": false,
     "start_time": "2023-12-23T06:18:17.909741",
     "status": "completed"
    },
    "tags": []
   },
   "outputs": [],
   "source": [
    "scaler=StandardScaler()\n",
    "norm_data=scaler.fit_transform(features)\n",
    "norm_features=pd.DataFrame(norm_data,columns=features.columns)\n"
   ]
  },
  {
   "cell_type": "code",
   "execution_count": 14,
   "id": "40c229f0",
   "metadata": {
    "execution": {
     "iopub.execute_input": "2023-12-23T06:18:17.968136Z",
     "iopub.status.busy": "2023-12-23T06:18:17.967630Z",
     "iopub.status.idle": "2023-12-23T06:18:17.986103Z",
     "shell.execute_reply": "2023-12-23T06:18:17.985238Z"
    },
    "papermill": {
     "duration": 0.035652,
     "end_time": "2023-12-23T06:18:17.988467",
     "exception": false,
     "start_time": "2023-12-23T06:18:17.952815",
     "status": "completed"
    },
    "tags": []
   },
   "outputs": [
    {
     "data": {
      "text/html": [
       "<div>\n",
       "<style scoped>\n",
       "    .dataframe tbody tr th:only-of-type {\n",
       "        vertical-align: middle;\n",
       "    }\n",
       "\n",
       "    .dataframe tbody tr th {\n",
       "        vertical-align: top;\n",
       "    }\n",
       "\n",
       "    .dataframe thead th {\n",
       "        text-align: right;\n",
       "    }\n",
       "</style>\n",
       "<table border=\"1\" class=\"dataframe\">\n",
       "  <thead>\n",
       "    <tr style=\"text-align: right;\">\n",
       "      <th></th>\n",
       "      <th>long_hair</th>\n",
       "      <th>forehead_width_cm</th>\n",
       "      <th>forehead_height_cm</th>\n",
       "      <th>nose_wide</th>\n",
       "      <th>nose_long</th>\n",
       "      <th>lips_thin</th>\n",
       "      <th>distance_nose_to_lip_long</th>\n",
       "    </tr>\n",
       "  </thead>\n",
       "  <tbody>\n",
       "    <tr>\n",
       "      <th>0</th>\n",
       "      <td>0.387194</td>\n",
       "      <td>-1.247933</td>\n",
       "      <td>0.283971</td>\n",
       "      <td>1.012273</td>\n",
       "      <td>-1.015924</td>\n",
       "      <td>1.013894</td>\n",
       "      <td>1.002202</td>\n",
       "    </tr>\n",
       "    <tr>\n",
       "      <th>1</th>\n",
       "      <td>-2.582682</td>\n",
       "      <td>0.739389</td>\n",
       "      <td>-1.009418</td>\n",
       "      <td>-0.987876</td>\n",
       "      <td>-1.015924</td>\n",
       "      <td>1.013894</td>\n",
       "      <td>-0.997803</td>\n",
       "    </tr>\n",
       "    <tr>\n",
       "      <th>2</th>\n",
       "      <td>-2.582682</td>\n",
       "      <td>-1.247933</td>\n",
       "      <td>0.653511</td>\n",
       "      <td>1.012273</td>\n",
       "      <td>0.984326</td>\n",
       "      <td>1.013894</td>\n",
       "      <td>1.002202</td>\n",
       "    </tr>\n",
       "    <tr>\n",
       "      <th>3</th>\n",
       "      <td>-2.582682</td>\n",
       "      <td>1.100720</td>\n",
       "      <td>0.283971</td>\n",
       "      <td>-0.987876</td>\n",
       "      <td>0.984326</td>\n",
       "      <td>1.013894</td>\n",
       "      <td>1.002202</td>\n",
       "    </tr>\n",
       "    <tr>\n",
       "      <th>4</th>\n",
       "      <td>0.387194</td>\n",
       "      <td>0.287725</td>\n",
       "      <td>-0.085568</td>\n",
       "      <td>-0.987876</td>\n",
       "      <td>-1.015924</td>\n",
       "      <td>-0.986297</td>\n",
       "      <td>-0.997803</td>\n",
       "    </tr>\n",
       "    <tr>\n",
       "      <th>...</th>\n",
       "      <td>...</td>\n",
       "      <td>...</td>\n",
       "      <td>...</td>\n",
       "      <td>...</td>\n",
       "      <td>...</td>\n",
       "      <td>...</td>\n",
       "      <td>...</td>\n",
       "    </tr>\n",
       "    <tr>\n",
       "      <th>4996</th>\n",
       "      <td>0.387194</td>\n",
       "      <td>0.378057</td>\n",
       "      <td>-1.563727</td>\n",
       "      <td>-0.987876</td>\n",
       "      <td>-1.015924</td>\n",
       "      <td>-0.986297</td>\n",
       "      <td>-0.997803</td>\n",
       "    </tr>\n",
       "    <tr>\n",
       "      <th>4997</th>\n",
       "      <td>0.387194</td>\n",
       "      <td>-1.157600</td>\n",
       "      <td>-1.009418</td>\n",
       "      <td>-0.987876</td>\n",
       "      <td>-1.015924</td>\n",
       "      <td>-0.986297</td>\n",
       "      <td>-0.997803</td>\n",
       "    </tr>\n",
       "    <tr>\n",
       "      <th>4998</th>\n",
       "      <td>0.387194</td>\n",
       "      <td>-0.254272</td>\n",
       "      <td>-0.455108</td>\n",
       "      <td>-0.987876</td>\n",
       "      <td>-1.015924</td>\n",
       "      <td>-0.986297</td>\n",
       "      <td>-0.997803</td>\n",
       "    </tr>\n",
       "    <tr>\n",
       "      <th>4999</th>\n",
       "      <td>0.387194</td>\n",
       "      <td>0.016726</td>\n",
       "      <td>0.468741</td>\n",
       "      <td>-0.987876</td>\n",
       "      <td>-1.015924</td>\n",
       "      <td>-0.986297</td>\n",
       "      <td>-0.997803</td>\n",
       "    </tr>\n",
       "    <tr>\n",
       "      <th>5000</th>\n",
       "      <td>0.387194</td>\n",
       "      <td>2.004048</td>\n",
       "      <td>-1.009418</td>\n",
       "      <td>1.012273</td>\n",
       "      <td>0.984326</td>\n",
       "      <td>1.013894</td>\n",
       "      <td>1.002202</td>\n",
       "    </tr>\n",
       "  </tbody>\n",
       "</table>\n",
       "<p>5001 rows × 7 columns</p>\n",
       "</div>"
      ],
      "text/plain": [
       "      long_hair  forehead_width_cm  forehead_height_cm  nose_wide  nose_long  \\\n",
       "0      0.387194          -1.247933            0.283971   1.012273  -1.015924   \n",
       "1     -2.582682           0.739389           -1.009418  -0.987876  -1.015924   \n",
       "2     -2.582682          -1.247933            0.653511   1.012273   0.984326   \n",
       "3     -2.582682           1.100720            0.283971  -0.987876   0.984326   \n",
       "4      0.387194           0.287725           -0.085568  -0.987876  -1.015924   \n",
       "...         ...                ...                 ...        ...        ...   \n",
       "4996   0.387194           0.378057           -1.563727  -0.987876  -1.015924   \n",
       "4997   0.387194          -1.157600           -1.009418  -0.987876  -1.015924   \n",
       "4998   0.387194          -0.254272           -0.455108  -0.987876  -1.015924   \n",
       "4999   0.387194           0.016726            0.468741  -0.987876  -1.015924   \n",
       "5000   0.387194           2.004048           -1.009418   1.012273   0.984326   \n",
       "\n",
       "      lips_thin  distance_nose_to_lip_long  \n",
       "0      1.013894                   1.002202  \n",
       "1      1.013894                  -0.997803  \n",
       "2      1.013894                   1.002202  \n",
       "3      1.013894                   1.002202  \n",
       "4     -0.986297                  -0.997803  \n",
       "...         ...                        ...  \n",
       "4996  -0.986297                  -0.997803  \n",
       "4997  -0.986297                  -0.997803  \n",
       "4998  -0.986297                  -0.997803  \n",
       "4999  -0.986297                  -0.997803  \n",
       "5000   1.013894                   1.002202  \n",
       "\n",
       "[5001 rows x 7 columns]"
      ]
     },
     "execution_count": 14,
     "metadata": {},
     "output_type": "execute_result"
    }
   ],
   "source": [
    "norm_features"
   ]
  },
  {
   "cell_type": "code",
   "execution_count": 15,
   "id": "f71775f7",
   "metadata": {
    "execution": {
     "iopub.execute_input": "2023-12-23T06:18:18.017099Z",
     "iopub.status.busy": "2023-12-23T06:18:18.016114Z",
     "iopub.status.idle": "2023-12-23T06:18:18.025428Z",
     "shell.execute_reply": "2023-12-23T06:18:18.024031Z"
    },
    "papermill": {
     "duration": 0.026893,
     "end_time": "2023-12-23T06:18:18.028402",
     "exception": false,
     "start_time": "2023-12-23T06:18:18.001509",
     "status": "completed"
    },
    "tags": []
   },
   "outputs": [],
   "source": [
    "train_ft,test_ft,train_labels,test_labels=train_test_split(norm_features,gender,test_size=0.2, train_size=0.8)"
   ]
  },
  {
   "cell_type": "code",
   "execution_count": 16,
   "id": "583ea9d2",
   "metadata": {
    "execution": {
     "iopub.execute_input": "2023-12-23T06:18:18.057188Z",
     "iopub.status.busy": "2023-12-23T06:18:18.056057Z",
     "iopub.status.idle": "2023-12-23T06:18:18.064779Z",
     "shell.execute_reply": "2023-12-23T06:18:18.062997Z"
    },
    "papermill": {
     "duration": 0.02581,
     "end_time": "2023-12-23T06:18:18.067474",
     "exception": false,
     "start_time": "2023-12-23T06:18:18.041664",
     "status": "completed"
    },
    "tags": []
   },
   "outputs": [
    {
     "name": "stdout",
     "output_type": "stream",
     "text": [
      "----------------Train data------------------------\n",
      "\n",
      " train data features shape (4000, 7) \n",
      " train data labels shape (4000,)\n",
      "\n",
      "-----------------Test data-------------------------\n",
      "\n",
      " test data features shape (1001, 7) \n",
      " test data labels shape (1001,)\n"
     ]
    }
   ],
   "source": [
    "print(\"----------------Train data------------------------\\n\")\n",
    "print(\" train data features shape {} \\n train data labels shape {}\\n\".format(train_ft.shape,train_labels.shape))\n",
    "print(\"-----------------Test data-------------------------\\n\")\n",
    "print(\" test data features shape {} \\n test data labels shape {}\".format(test_ft.shape,test_labels.shape))"
   ]
  },
  {
   "cell_type": "code",
   "execution_count": 17,
   "id": "3bb7ecf1",
   "metadata": {
    "execution": {
     "iopub.execute_input": "2023-12-23T06:18:18.096667Z",
     "iopub.status.busy": "2023-12-23T06:18:18.095840Z",
     "iopub.status.idle": "2023-12-23T06:18:18.101846Z",
     "shell.execute_reply": "2023-12-23T06:18:18.100688Z"
    },
    "papermill": {
     "duration": 0.023666,
     "end_time": "2023-12-23T06:18:18.104453",
     "exception": false,
     "start_time": "2023-12-23T06:18:18.080787",
     "status": "completed"
    },
    "tags": []
   },
   "outputs": [],
   "source": [
    "svm_clf=svm.SVC(kernel=\"linear\")\n"
   ]
  },
  {
   "cell_type": "code",
   "execution_count": 18,
   "id": "74dfe9dc",
   "metadata": {
    "execution": {
     "iopub.execute_input": "2023-12-23T06:18:18.134621Z",
     "iopub.status.busy": "2023-12-23T06:18:18.133314Z",
     "iopub.status.idle": "2023-12-23T06:18:18.218261Z",
     "shell.execute_reply": "2023-12-23T06:18:18.217000Z"
    },
    "papermill": {
     "duration": 0.102519,
     "end_time": "2023-12-23T06:18:18.220962",
     "exception": false,
     "start_time": "2023-12-23T06:18:18.118443",
     "status": "completed"
    },
    "tags": []
   },
   "outputs": [
    {
     "data": {
      "text/html": [
       "<style>#sk-container-id-1 {color: black;background-color: white;}#sk-container-id-1 pre{padding: 0;}#sk-container-id-1 div.sk-toggleable {background-color: white;}#sk-container-id-1 label.sk-toggleable__label {cursor: pointer;display: block;width: 100%;margin-bottom: 0;padding: 0.3em;box-sizing: border-box;text-align: center;}#sk-container-id-1 label.sk-toggleable__label-arrow:before {content: \"▸\";float: left;margin-right: 0.25em;color: #696969;}#sk-container-id-1 label.sk-toggleable__label-arrow:hover:before {color: black;}#sk-container-id-1 div.sk-estimator:hover label.sk-toggleable__label-arrow:before {color: black;}#sk-container-id-1 div.sk-toggleable__content {max-height: 0;max-width: 0;overflow: hidden;text-align: left;background-color: #f0f8ff;}#sk-container-id-1 div.sk-toggleable__content pre {margin: 0.2em;color: black;border-radius: 0.25em;background-color: #f0f8ff;}#sk-container-id-1 input.sk-toggleable__control:checked~div.sk-toggleable__content {max-height: 200px;max-width: 100%;overflow: auto;}#sk-container-id-1 input.sk-toggleable__control:checked~label.sk-toggleable__label-arrow:before {content: \"▾\";}#sk-container-id-1 div.sk-estimator input.sk-toggleable__control:checked~label.sk-toggleable__label {background-color: #d4ebff;}#sk-container-id-1 div.sk-label input.sk-toggleable__control:checked~label.sk-toggleable__label {background-color: #d4ebff;}#sk-container-id-1 input.sk-hidden--visually {border: 0;clip: rect(1px 1px 1px 1px);clip: rect(1px, 1px, 1px, 1px);height: 1px;margin: -1px;overflow: hidden;padding: 0;position: absolute;width: 1px;}#sk-container-id-1 div.sk-estimator {font-family: monospace;background-color: #f0f8ff;border: 1px dotted black;border-radius: 0.25em;box-sizing: border-box;margin-bottom: 0.5em;}#sk-container-id-1 div.sk-estimator:hover {background-color: #d4ebff;}#sk-container-id-1 div.sk-parallel-item::after {content: \"\";width: 100%;border-bottom: 1px solid gray;flex-grow: 1;}#sk-container-id-1 div.sk-label:hover label.sk-toggleable__label {background-color: #d4ebff;}#sk-container-id-1 div.sk-serial::before {content: \"\";position: absolute;border-left: 1px solid gray;box-sizing: border-box;top: 0;bottom: 0;left: 50%;z-index: 0;}#sk-container-id-1 div.sk-serial {display: flex;flex-direction: column;align-items: center;background-color: white;padding-right: 0.2em;padding-left: 0.2em;position: relative;}#sk-container-id-1 div.sk-item {position: relative;z-index: 1;}#sk-container-id-1 div.sk-parallel {display: flex;align-items: stretch;justify-content: center;background-color: white;position: relative;}#sk-container-id-1 div.sk-item::before, #sk-container-id-1 div.sk-parallel-item::before {content: \"\";position: absolute;border-left: 1px solid gray;box-sizing: border-box;top: 0;bottom: 0;left: 50%;z-index: -1;}#sk-container-id-1 div.sk-parallel-item {display: flex;flex-direction: column;z-index: 1;position: relative;background-color: white;}#sk-container-id-1 div.sk-parallel-item:first-child::after {align-self: flex-end;width: 50%;}#sk-container-id-1 div.sk-parallel-item:last-child::after {align-self: flex-start;width: 50%;}#sk-container-id-1 div.sk-parallel-item:only-child::after {width: 0;}#sk-container-id-1 div.sk-dashed-wrapped {border: 1px dashed gray;margin: 0 0.4em 0.5em 0.4em;box-sizing: border-box;padding-bottom: 0.4em;background-color: white;}#sk-container-id-1 div.sk-label label {font-family: monospace;font-weight: bold;display: inline-block;line-height: 1.2em;}#sk-container-id-1 div.sk-label-container {text-align: center;}#sk-container-id-1 div.sk-container {/* jupyter's `normalize.less` sets `[hidden] { display: none; }` but bootstrap.min.css set `[hidden] { display: none !important; }` so we also need the `!important` here to be able to override the default hidden behavior on the sphinx rendered scikit-learn.org. See: https://github.com/scikit-learn/scikit-learn/issues/21755 */display: inline-block !important;position: relative;}#sk-container-id-1 div.sk-text-repr-fallback {display: none;}</style><div id=\"sk-container-id-1\" class=\"sk-top-container\"><div class=\"sk-text-repr-fallback\"><pre>SVC(kernel=&#x27;linear&#x27;)</pre><b>In a Jupyter environment, please rerun this cell to show the HTML representation or trust the notebook. <br />On GitHub, the HTML representation is unable to render, please try loading this page with nbviewer.org.</b></div><div class=\"sk-container\" hidden><div class=\"sk-item\"><div class=\"sk-estimator sk-toggleable\"><input class=\"sk-toggleable__control sk-hidden--visually\" id=\"sk-estimator-id-1\" type=\"checkbox\" checked><label for=\"sk-estimator-id-1\" class=\"sk-toggleable__label sk-toggleable__label-arrow\">SVC</label><div class=\"sk-toggleable__content\"><pre>SVC(kernel=&#x27;linear&#x27;)</pre></div></div></div></div></div>"
      ],
      "text/plain": [
       "SVC(kernel='linear')"
      ]
     },
     "execution_count": 18,
     "metadata": {},
     "output_type": "execute_result"
    }
   ],
   "source": [
    "svm_clf.fit(train_ft,train_labels)"
   ]
  },
  {
   "cell_type": "code",
   "execution_count": 19,
   "id": "5e500ce6",
   "metadata": {
    "execution": {
     "iopub.execute_input": "2023-12-23T06:18:18.250455Z",
     "iopub.status.busy": "2023-12-23T06:18:18.249267Z",
     "iopub.status.idle": "2023-12-23T06:18:18.265260Z",
     "shell.execute_reply": "2023-12-23T06:18:18.263752Z"
    },
    "papermill": {
     "duration": 0.033685,
     "end_time": "2023-12-23T06:18:18.268266",
     "exception": false,
     "start_time": "2023-12-23T06:18:18.234581",
     "status": "completed"
    },
    "tags": []
   },
   "outputs": [],
   "source": [
    "pred_labels=svm_clf.predict(test_ft)"
   ]
  },
  {
   "cell_type": "code",
   "execution_count": 20,
   "id": "cde2668b",
   "metadata": {
    "execution": {
     "iopub.execute_input": "2023-12-23T06:18:18.298392Z",
     "iopub.status.busy": "2023-12-23T06:18:18.297582Z",
     "iopub.status.idle": "2023-12-23T06:18:18.305106Z",
     "shell.execute_reply": "2023-12-23T06:18:18.303896Z"
    },
    "papermill": {
     "duration": 0.025631,
     "end_time": "2023-12-23T06:18:18.307482",
     "exception": false,
     "start_time": "2023-12-23T06:18:18.281851",
     "status": "completed"
    },
    "tags": []
   },
   "outputs": [
    {
     "data": {
      "text/plain": [
       "96.8031968031968"
      ]
     },
     "execution_count": 20,
     "metadata": {},
     "output_type": "execute_result"
    }
   ],
   "source": [
    "(sum(pred_labels==test_labels)/len(pred_labels))*100"
   ]
  },
  {
   "cell_type": "code",
   "execution_count": 21,
   "id": "2fe00427",
   "metadata": {
    "execution": {
     "iopub.execute_input": "2023-12-23T06:18:18.337149Z",
     "iopub.status.busy": "2023-12-23T06:18:18.336227Z",
     "iopub.status.idle": "2023-12-23T06:18:18.341996Z",
     "shell.execute_reply": "2023-12-23T06:18:18.340762Z"
    },
    "papermill": {
     "duration": 0.023141,
     "end_time": "2023-12-23T06:18:18.344368",
     "exception": false,
     "start_time": "2023-12-23T06:18:18.321227",
     "status": "completed"
    },
    "tags": []
   },
   "outputs": [],
   "source": [
    "from sklearn.metrics import classification_report"
   ]
  },
  {
   "cell_type": "code",
   "execution_count": 22,
   "id": "8bd6f0b2",
   "metadata": {
    "execution": {
     "iopub.execute_input": "2023-12-23T06:18:18.373763Z",
     "iopub.status.busy": "2023-12-23T06:18:18.373305Z",
     "iopub.status.idle": "2023-12-23T06:18:18.392052Z",
     "shell.execute_reply": "2023-12-23T06:18:18.390549Z"
    },
    "papermill": {
     "duration": 0.036483,
     "end_time": "2023-12-23T06:18:18.394826",
     "exception": false,
     "start_time": "2023-12-23T06:18:18.358343",
     "status": "completed"
    },
    "tags": []
   },
   "outputs": [
    {
     "name": "stdout",
     "output_type": "stream",
     "text": [
      "              precision    recall  f1-score   support\n",
      "\n",
      "           0       0.97      0.96      0.97       502\n",
      "           1       0.96      0.97      0.97       499\n",
      "\n",
      "    accuracy                           0.97      1001\n",
      "   macro avg       0.97      0.97      0.97      1001\n",
      "weighted avg       0.97      0.97      0.97      1001\n",
      "\n"
     ]
    }
   ],
   "source": [
    "print(classification_report(pred_labels,test_labels))"
   ]
  },
  {
   "cell_type": "markdown",
   "id": "901fc3f9",
   "metadata": {
    "papermill": {
     "duration": 0.013342,
     "end_time": "2023-12-23T06:18:18.422048",
     "exception": false,
     "start_time": "2023-12-23T06:18:18.408706",
     "status": "completed"
    },
    "tags": []
   },
   "source": [
    "The svm fucntion also provides us with classes_ ,n_support_, support_ attributes which specify the attributes of the classifier built. The classes_ gives us the number of classes, n_support gives us the support vectors for each class and the support_ gives the indexes of the support vectors. From the results we see that the there are 149 support vectors for male class and 148 support vectors for female class."
   ]
  },
  {
   "cell_type": "code",
   "execution_count": 23,
   "id": "98bb54e7",
   "metadata": {
    "execution": {
     "iopub.execute_input": "2023-12-23T06:18:18.454153Z",
     "iopub.status.busy": "2023-12-23T06:18:18.453656Z",
     "iopub.status.idle": "2023-12-23T06:18:18.461691Z",
     "shell.execute_reply": "2023-12-23T06:18:18.460197Z"
    },
    "papermill": {
     "duration": 0.027103,
     "end_time": "2023-12-23T06:18:18.464504",
     "exception": false,
     "start_time": "2023-12-23T06:18:18.437401",
     "status": "completed"
    },
    "tags": []
   },
   "outputs": [
    {
     "data": {
      "text/plain": [
       "array([0, 1])"
      ]
     },
     "execution_count": 23,
     "metadata": {},
     "output_type": "execute_result"
    }
   ],
   "source": [
    "svm_clf.classes_"
   ]
  },
  {
   "cell_type": "code",
   "execution_count": 24,
   "id": "1acb0d49",
   "metadata": {
    "execution": {
     "iopub.execute_input": "2023-12-23T06:18:18.495084Z",
     "iopub.status.busy": "2023-12-23T06:18:18.494627Z",
     "iopub.status.idle": "2023-12-23T06:18:18.501576Z",
     "shell.execute_reply": "2023-12-23T06:18:18.500699Z"
    },
    "papermill": {
     "duration": 0.025576,
     "end_time": "2023-12-23T06:18:18.504048",
     "exception": false,
     "start_time": "2023-12-23T06:18:18.478472",
     "status": "completed"
    },
    "tags": []
   },
   "outputs": [
    {
     "data": {
      "text/plain": [
       "array([154, 152], dtype=int32)"
      ]
     },
     "execution_count": 24,
     "metadata": {},
     "output_type": "execute_result"
    }
   ],
   "source": [
    "svm_clf.n_support_"
   ]
  },
  {
   "cell_type": "code",
   "execution_count": 25,
   "id": "8332557d",
   "metadata": {
    "execution": {
     "iopub.execute_input": "2023-12-23T06:18:18.536541Z",
     "iopub.status.busy": "2023-12-23T06:18:18.535652Z",
     "iopub.status.idle": "2023-12-23T06:18:18.546365Z",
     "shell.execute_reply": "2023-12-23T06:18:18.544939Z"
    },
    "papermill": {
     "duration": 0.030002,
     "end_time": "2023-12-23T06:18:18.549278",
     "exception": false,
     "start_time": "2023-12-23T06:18:18.519276",
     "status": "completed"
    },
    "tags": []
   },
   "outputs": [
    {
     "data": {
      "text/plain": [
       "array([   5,   12,   44,   96,  108,  109,  124,  187,  190,  234,  274,\n",
       "        315,  340,  394,  424,  426,  518,  545,  657,  704,  712,  750,\n",
       "        774,  806,  826,  829,  833,  864,  903,  915,  919,  925,  963,\n",
       "        976,  998, 1014, 1121, 1137, 1171, 1206, 1210, 1214, 1253, 1263,\n",
       "       1328, 1332, 1336, 1365, 1369, 1403, 1440, 1456, 1463, 1554, 1577,\n",
       "       1599, 1602, 1642, 1650, 1662, 1679, 1702, 1712, 1741, 1787, 1820,\n",
       "       1821, 1875, 1887, 1893, 1930, 1934, 1951, 1961, 1979, 1984, 2039,\n",
       "       2068, 2075, 2116, 2121, 2130, 2164, 2211, 2283, 2289, 2317, 2357,\n",
       "       2471, 2492, 2510, 2533, 2559, 2562, 2621, 2637, 2656, 2668, 2678,\n",
       "       2702, 2726, 2743, 2750, 2751, 2752, 2756, 2760, 2776, 2840, 2864,\n",
       "       2897, 2903, 2912, 2918, 2934, 2950, 2968, 2980, 3012, 3021, 3022,\n",
       "       3025, 3040, 3046, 3061, 3075, 3078, 3133, 3151, 3174, 3181, 3267,\n",
       "       3389, 3423, 3429, 3445, 3481, 3560, 3576, 3587, 3625, 3637, 3718,\n",
       "       3760, 3762, 3774, 3817, 3828, 3868, 3886, 3910, 3927, 3948, 3993,\n",
       "         52,   55,   75,  148,  212,  223,  257,  288,  343,  387,  389,\n",
       "        405,  470,  478,  531,  609,  633,  659,  684,  707,  772,  832,\n",
       "        890,  940,  961,  969, 1021, 1029, 1038, 1039, 1047, 1142, 1153,\n",
       "       1197, 1198, 1202, 1218, 1237, 1252, 1264, 1283, 1289, 1337, 1359,\n",
       "       1364, 1371, 1392, 1423, 1439, 1448, 1571, 1576, 1579, 1583, 1584,\n",
       "       1669, 1739, 1759, 1771, 1836, 1839, 1863, 1872, 1880, 1915, 1924,\n",
       "       1989, 2004, 2008, 2090, 2104, 2118, 2165, 2179, 2186, 2259, 2267,\n",
       "       2271, 2286, 2345, 2377, 2395, 2429, 2432, 2497, 2575, 2599, 2618,\n",
       "       2619, 2626, 2634, 2652, 2655, 2657, 2679, 2687, 2716, 2744, 2762,\n",
       "       2764, 2780, 2816, 2843, 2853, 2859, 2909, 2913, 2921, 2925, 2927,\n",
       "       2979, 3007, 3039, 3041, 3043, 3049, 3055, 3059, 3094, 3134, 3143,\n",
       "       3212, 3226, 3264, 3271, 3353, 3356, 3401, 3431, 3457, 3472, 3486,\n",
       "       3521, 3555, 3618, 3648, 3672, 3684, 3696, 3767, 3771, 3788, 3799,\n",
       "       3801, 3802, 3839, 3849, 3859, 3912, 3932, 3945, 3984], dtype=int32)"
      ]
     },
     "execution_count": 25,
     "metadata": {},
     "output_type": "execute_result"
    }
   ],
   "source": [
    "svm_clf.support_"
   ]
  },
  {
   "cell_type": "code",
   "execution_count": 26,
   "id": "141f0166",
   "metadata": {
    "execution": {
     "iopub.execute_input": "2023-12-23T06:18:18.579719Z",
     "iopub.status.busy": "2023-12-23T06:18:18.579250Z",
     "iopub.status.idle": "2023-12-23T06:18:18.587158Z",
     "shell.execute_reply": "2023-12-23T06:18:18.585906Z"
    },
    "papermill": {
     "duration": 0.025924,
     "end_time": "2023-12-23T06:18:18.589506",
     "exception": false,
     "start_time": "2023-12-23T06:18:18.563582",
     "status": "completed"
    },
    "tags": []
   },
   "outputs": [
    {
     "data": {
      "text/plain": [
       "array(['long_hair', 'forehead_width_cm', 'forehead_height_cm',\n",
       "       'nose_wide', 'nose_long', 'lips_thin', 'distance_nose_to_lip_long'],\n",
       "      dtype=object)"
      ]
     },
     "execution_count": 26,
     "metadata": {},
     "output_type": "execute_result"
    }
   ],
   "source": [
    "svm_clf.feature_names_in_"
   ]
  },
  {
   "cell_type": "markdown",
   "id": "8b5768c0",
   "metadata": {
    "papermill": {
     "duration": 0.015479,
     "end_time": "2023-12-23T06:18:18.623386",
     "exception": false,
     "start_time": "2023-12-23T06:18:18.607907",
     "status": "completed"
    },
    "tags": []
   },
   "source": [
    "Suppose we have a student who has short hair, 11 cm width of forehead, 6 cm height of forehead,nose is not wide, nose is long, lips are thin, the distance between the nose and the lip is long. The the feature vectors is as follows:\n",
    "a.\tLong_hair = 0 \n",
    "\n",
    "b.\tForehead_width_cm=11\n",
    "\n",
    "c.\tForehead_height_cm=6\n",
    "\n",
    "d.\tNose_wide=0\n",
    "\n",
    "e.\tNose long=1\n",
    "\n",
    "f.\tLips thin=1\n"
   ]
  },
  {
   "cell_type": "markdown",
   "id": "75f0f558",
   "metadata": {
    "papermill": {
     "duration": 0.07638,
     "end_time": "2023-12-23T06:18:18.714436",
     "exception": false,
     "start_time": "2023-12-23T06:18:18.638056",
     "status": "completed"
    },
    "tags": []
   },
   "source": [
    "Before we apply the predict fucntion we need to scale the attributes using a standard scaler. Form the results we see that the svm classifier output is 0, which means that the student is a male student. "
   ]
  },
  {
   "cell_type": "code",
   "execution_count": 27,
   "id": "f530bd86",
   "metadata": {
    "execution": {
     "iopub.execute_input": "2023-12-23T06:18:18.746185Z",
     "iopub.status.busy": "2023-12-23T06:18:18.745810Z",
     "iopub.status.idle": "2023-12-23T06:18:18.758141Z",
     "shell.execute_reply": "2023-12-23T06:18:18.756819Z"
    },
    "papermill": {
     "duration": 0.031679,
     "end_time": "2023-12-23T06:18:18.760637",
     "exception": false,
     "start_time": "2023-12-23T06:18:18.728958",
     "status": "completed"
    },
    "tags": []
   },
   "outputs": [
    {
     "name": "stderr",
     "output_type": "stream",
     "text": [
      "/opt/conda/lib/python3.10/site-packages/sklearn/base.py:439: UserWarning: X does not have valid feature names, but SVC was fitted with feature names\n",
      "  warnings.warn(\n"
     ]
    },
    {
     "data": {
      "text/plain": [
       "array([0])"
      ]
     },
     "execution_count": 27,
     "metadata": {},
     "output_type": "execute_result"
    }
   ],
   "source": [
    "norm_ft=scaler.fit_transform([[0,11,6,0,1,1,1]])\n",
    "svm_clf.predict(norm_ft)"
   ]
  },
  {
   "cell_type": "code",
   "execution_count": null,
   "id": "52e31e5e",
   "metadata": {
    "execution": {
     "iopub.execute_input": "2023-12-23T06:02:40.202957Z",
     "iopub.status.busy": "2023-12-23T06:02:40.202476Z",
     "iopub.status.idle": "2023-12-23T06:02:40.210756Z",
     "shell.execute_reply": "2023-12-23T06:02:40.209222Z",
     "shell.execute_reply.started": "2023-12-23T06:02:40.202912Z"
    },
    "papermill": {
     "duration": 0.014533,
     "end_time": "2023-12-23T06:18:18.790020",
     "exception": false,
     "start_time": "2023-12-23T06:18:18.775487",
     "status": "completed"
    },
    "tags": []
   },
   "outputs": [],
   "source": []
  }
 ],
 "metadata": {
  "kaggle": {
   "accelerator": "none",
   "dataSources": [
    {
     "datasetId": 908128,
     "sourceId": 1539868,
     "sourceType": "datasetVersion"
    }
   ],
   "dockerImageVersionId": 30558,
   "isGpuEnabled": false,
   "isInternetEnabled": true,
   "language": "python",
   "sourceType": "notebook"
  },
  "kernelspec": {
   "display_name": "Python 3",
   "language": "python",
   "name": "python3"
  },
  "language_info": {
   "codemirror_mode": {
    "name": "ipython",
    "version": 3
   },
   "file_extension": ".py",
   "mimetype": "text/x-python",
   "name": "python",
   "nbconvert_exporter": "python",
   "pygments_lexer": "ipython3",
   "version": "3.10.12"
  },
  "papermill": {
   "default_parameters": {},
   "duration": 9.523102,
   "end_time": "2023-12-23T06:18:19.426960",
   "environment_variables": {},
   "exception": null,
   "input_path": "__notebook__.ipynb",
   "output_path": "__notebook__.ipynb",
   "parameters": {},
   "start_time": "2023-12-23T06:18:09.903858",
   "version": "2.4.0"
  }
 },
 "nbformat": 4,
 "nbformat_minor": 5
}
