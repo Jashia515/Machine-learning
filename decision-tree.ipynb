{
 "cells": [
  {
   "cell_type": "markdown",
   "id": "af3dfe16",
   "metadata": {
    "_cell_guid": "b1076dfc-b9ad-4769-8c92-a6c4dae69d19",
    "_uuid": "8f2839f25d086af736a60e9eeb907d3b93b6e0e5",
    "execution": {
     "iopub.execute_input": "2023-12-23T07:21:17.692924Z",
     "iopub.status.busy": "2023-12-23T07:21:17.692627Z",
     "iopub.status.idle": "2023-12-23T07:21:18.099144Z",
     "shell.execute_reply": "2023-12-23T07:21:18.098439Z",
     "shell.execute_reply.started": "2023-12-23T07:21:17.692897Z"
    },
    "papermill": {
     "duration": 0.014448,
     "end_time": "2023-12-23T07:32:55.341339",
     "exception": false,
     "start_time": "2023-12-23T07:32:55.326891",
     "status": "completed"
    },
    "tags": []
   },
   "source": [
    "We will be able to decide the acceptability of the car by the current trends in the sales. The dataset we have taken is from Kaggle which describes the cars using various factors. The factors include the buying price, maintenance price, number of doors of the car, capacity of person, size of the luggage and safety. Using these factors, we will construct the decision tree and know if it gets accepted by the current trend of the market. "
   ]
  },
  {
   "cell_type": "code",
   "execution_count": 1,
   "id": "5ad3ebd8",
   "metadata": {
    "execution": {
     "iopub.execute_input": "2023-12-23T07:32:55.371073Z",
     "iopub.status.busy": "2023-12-23T07:32:55.370358Z",
     "iopub.status.idle": "2023-12-23T07:32:57.650254Z",
     "shell.execute_reply": "2023-12-23T07:32:57.649127Z"
    },
    "papermill": {
     "duration": 2.297536,
     "end_time": "2023-12-23T07:32:57.652767",
     "exception": false,
     "start_time": "2023-12-23T07:32:55.355231",
     "status": "completed"
    },
    "tags": []
   },
   "outputs": [
    {
     "name": "stdout",
     "output_type": "stream",
     "text": [
      "/kaggle/input/car-acceptability-classification-dataset/car.csv\n",
      "/kaggle/input/car-acceptability-classification-dataset/car.data\n"
     ]
    }
   ],
   "source": [
    "# This Python 3 environment comes with many helpful analytics libraries installed\n",
    "# It is defined by the kaggle/python Docker image: https://github.com/kaggle/docker-python\n",
    "# For example, here's several helpful packages to load\n",
    "\n",
    "import numpy as np # linear algebra\n",
    "import pandas as pd # data processing, CSV file I/O (e.g. pd.read_csv)\n",
    "from sklearn.preprocessing import LabelEncoder\n",
    "\n",
    "# Input data files are available in the read-only \"../input/\" directory\n",
    "# For example, running this (by clicking run or pressing Shift+Enter) will list all files under the input directory\n",
    "\n",
    "import os\n",
    "for dirname, _, filenames in os.walk('/kaggle/input'):\n",
    "    for filename in filenames:\n",
    "        print(os.path.join(dirname, filename))\n",
    "        path=os.path.join(dirname, filename)\n",
    "\n",
    "# You can write up to 20GB to the current directory (/kaggle/working/) that gets preserved as output when you create a version using \"Save & Run All\" \n",
    "# You can also write temporary files to /kaggle/temp/, but they won't be saved outside of the current session"
   ]
  },
  {
   "cell_type": "code",
   "execution_count": 2,
   "id": "6daf6a54",
   "metadata": {
    "execution": {
     "iopub.execute_input": "2023-12-23T07:32:57.683121Z",
     "iopub.status.busy": "2023-12-23T07:32:57.682218Z",
     "iopub.status.idle": "2023-12-23T07:32:57.727382Z",
     "shell.execute_reply": "2023-12-23T07:32:57.726271Z"
    },
    "papermill": {
     "duration": 0.063012,
     "end_time": "2023-12-23T07:32:57.729807",
     "exception": false,
     "start_time": "2023-12-23T07:32:57.666795",
     "status": "completed"
    },
    "tags": []
   },
   "outputs": [
    {
     "data": {
      "text/html": [
       "<div>\n",
       "<style scoped>\n",
       "    .dataframe tbody tr th:only-of-type {\n",
       "        vertical-align: middle;\n",
       "    }\n",
       "\n",
       "    .dataframe tbody tr th {\n",
       "        vertical-align: top;\n",
       "    }\n",
       "\n",
       "    .dataframe thead th {\n",
       "        text-align: right;\n",
       "    }\n",
       "</style>\n",
       "<table border=\"1\" class=\"dataframe\">\n",
       "  <thead>\n",
       "    <tr style=\"text-align: right;\">\n",
       "      <th></th>\n",
       "      <th>vhigh</th>\n",
       "      <th>vhigh.1</th>\n",
       "      <th>2</th>\n",
       "      <th>2.1</th>\n",
       "      <th>small</th>\n",
       "      <th>low</th>\n",
       "      <th>unacc</th>\n",
       "    </tr>\n",
       "  </thead>\n",
       "  <tbody>\n",
       "    <tr>\n",
       "      <th>0</th>\n",
       "      <td>vhigh</td>\n",
       "      <td>vhigh</td>\n",
       "      <td>2</td>\n",
       "      <td>2</td>\n",
       "      <td>small</td>\n",
       "      <td>med</td>\n",
       "      <td>unacc</td>\n",
       "    </tr>\n",
       "    <tr>\n",
       "      <th>1</th>\n",
       "      <td>vhigh</td>\n",
       "      <td>vhigh</td>\n",
       "      <td>2</td>\n",
       "      <td>2</td>\n",
       "      <td>small</td>\n",
       "      <td>high</td>\n",
       "      <td>unacc</td>\n",
       "    </tr>\n",
       "    <tr>\n",
       "      <th>2</th>\n",
       "      <td>vhigh</td>\n",
       "      <td>vhigh</td>\n",
       "      <td>2</td>\n",
       "      <td>2</td>\n",
       "      <td>med</td>\n",
       "      <td>low</td>\n",
       "      <td>unacc</td>\n",
       "    </tr>\n",
       "    <tr>\n",
       "      <th>3</th>\n",
       "      <td>vhigh</td>\n",
       "      <td>vhigh</td>\n",
       "      <td>2</td>\n",
       "      <td>2</td>\n",
       "      <td>med</td>\n",
       "      <td>med</td>\n",
       "      <td>unacc</td>\n",
       "    </tr>\n",
       "    <tr>\n",
       "      <th>4</th>\n",
       "      <td>vhigh</td>\n",
       "      <td>vhigh</td>\n",
       "      <td>2</td>\n",
       "      <td>2</td>\n",
       "      <td>med</td>\n",
       "      <td>high</td>\n",
       "      <td>unacc</td>\n",
       "    </tr>\n",
       "    <tr>\n",
       "      <th>...</th>\n",
       "      <td>...</td>\n",
       "      <td>...</td>\n",
       "      <td>...</td>\n",
       "      <td>...</td>\n",
       "      <td>...</td>\n",
       "      <td>...</td>\n",
       "      <td>...</td>\n",
       "    </tr>\n",
       "    <tr>\n",
       "      <th>1722</th>\n",
       "      <td>low</td>\n",
       "      <td>low</td>\n",
       "      <td>5more</td>\n",
       "      <td>more</td>\n",
       "      <td>med</td>\n",
       "      <td>med</td>\n",
       "      <td>good</td>\n",
       "    </tr>\n",
       "    <tr>\n",
       "      <th>1723</th>\n",
       "      <td>low</td>\n",
       "      <td>low</td>\n",
       "      <td>5more</td>\n",
       "      <td>more</td>\n",
       "      <td>med</td>\n",
       "      <td>high</td>\n",
       "      <td>vgood</td>\n",
       "    </tr>\n",
       "    <tr>\n",
       "      <th>1724</th>\n",
       "      <td>low</td>\n",
       "      <td>low</td>\n",
       "      <td>5more</td>\n",
       "      <td>more</td>\n",
       "      <td>big</td>\n",
       "      <td>low</td>\n",
       "      <td>unacc</td>\n",
       "    </tr>\n",
       "    <tr>\n",
       "      <th>1725</th>\n",
       "      <td>low</td>\n",
       "      <td>low</td>\n",
       "      <td>5more</td>\n",
       "      <td>more</td>\n",
       "      <td>big</td>\n",
       "      <td>med</td>\n",
       "      <td>good</td>\n",
       "    </tr>\n",
       "    <tr>\n",
       "      <th>1726</th>\n",
       "      <td>low</td>\n",
       "      <td>low</td>\n",
       "      <td>5more</td>\n",
       "      <td>more</td>\n",
       "      <td>big</td>\n",
       "      <td>high</td>\n",
       "      <td>vgood</td>\n",
       "    </tr>\n",
       "  </tbody>\n",
       "</table>\n",
       "<p>1727 rows × 7 columns</p>\n",
       "</div>"
      ],
      "text/plain": [
       "      vhigh vhigh.1      2   2.1  small   low  unacc\n",
       "0     vhigh   vhigh      2     2  small   med  unacc\n",
       "1     vhigh   vhigh      2     2  small  high  unacc\n",
       "2     vhigh   vhigh      2     2    med   low  unacc\n",
       "3     vhigh   vhigh      2     2    med   med  unacc\n",
       "4     vhigh   vhigh      2     2    med  high  unacc\n",
       "...     ...     ...    ...   ...    ...   ...    ...\n",
       "1722    low     low  5more  more    med   med   good\n",
       "1723    low     low  5more  more    med  high  vgood\n",
       "1724    low     low  5more  more    big   low  unacc\n",
       "1725    low     low  5more  more    big   med   good\n",
       "1726    low     low  5more  more    big  high  vgood\n",
       "\n",
       "[1727 rows x 7 columns]"
      ]
     },
     "execution_count": 2,
     "metadata": {},
     "output_type": "execute_result"
    }
   ],
   "source": [
    "cars=pd.read_csv(path)\n",
    "cars"
   ]
  },
  {
   "cell_type": "code",
   "execution_count": 3,
   "id": "9ef2c6c3",
   "metadata": {
    "execution": {
     "iopub.execute_input": "2023-12-23T07:32:57.760876Z",
     "iopub.status.busy": "2023-12-23T07:32:57.760194Z",
     "iopub.status.idle": "2023-12-23T07:32:57.765616Z",
     "shell.execute_reply": "2023-12-23T07:32:57.764766Z"
    },
    "papermill": {
     "duration": 0.023797,
     "end_time": "2023-12-23T07:32:57.768018",
     "exception": false,
     "start_time": "2023-12-23T07:32:57.744221",
     "status": "completed"
    },
    "tags": []
   },
   "outputs": [],
   "source": [
    "new_cols={\"vhigh\":\"Buying_Price\",\"vhigh.1\":\"Maintenance_Price\",\"2\":\"No_of_Doors\",\"2.1\":\"Person_Capacity\",\"small\":\"Size_of_Luggage\",\"low\":\"Safety\",\"unacc\":\"Car_Acceptability\"}"
   ]
  },
  {
   "cell_type": "code",
   "execution_count": 4,
   "id": "ffb5fe2a",
   "metadata": {
    "execution": {
     "iopub.execute_input": "2023-12-23T07:32:57.799983Z",
     "iopub.status.busy": "2023-12-23T07:32:57.799308Z",
     "iopub.status.idle": "2023-12-23T07:32:57.816552Z",
     "shell.execute_reply": "2023-12-23T07:32:57.815350Z"
    },
    "papermill": {
     "duration": 0.036156,
     "end_time": "2023-12-23T07:32:57.819216",
     "exception": false,
     "start_time": "2023-12-23T07:32:57.783060",
     "status": "completed"
    },
    "tags": []
   },
   "outputs": [
    {
     "data": {
      "text/html": [
       "<div>\n",
       "<style scoped>\n",
       "    .dataframe tbody tr th:only-of-type {\n",
       "        vertical-align: middle;\n",
       "    }\n",
       "\n",
       "    .dataframe tbody tr th {\n",
       "        vertical-align: top;\n",
       "    }\n",
       "\n",
       "    .dataframe thead th {\n",
       "        text-align: right;\n",
       "    }\n",
       "</style>\n",
       "<table border=\"1\" class=\"dataframe\">\n",
       "  <thead>\n",
       "    <tr style=\"text-align: right;\">\n",
       "      <th></th>\n",
       "      <th>Buying_Price</th>\n",
       "      <th>Maintenance_Price</th>\n",
       "      <th>No_of_Doors</th>\n",
       "      <th>Person_Capacity</th>\n",
       "      <th>Size_of_Luggage</th>\n",
       "      <th>Safety</th>\n",
       "      <th>Car_Acceptability</th>\n",
       "    </tr>\n",
       "  </thead>\n",
       "  <tbody>\n",
       "    <tr>\n",
       "      <th>0</th>\n",
       "      <td>vhigh</td>\n",
       "      <td>vhigh</td>\n",
       "      <td>2</td>\n",
       "      <td>2</td>\n",
       "      <td>small</td>\n",
       "      <td>med</td>\n",
       "      <td>unacc</td>\n",
       "    </tr>\n",
       "    <tr>\n",
       "      <th>1</th>\n",
       "      <td>vhigh</td>\n",
       "      <td>vhigh</td>\n",
       "      <td>2</td>\n",
       "      <td>2</td>\n",
       "      <td>small</td>\n",
       "      <td>high</td>\n",
       "      <td>unacc</td>\n",
       "    </tr>\n",
       "    <tr>\n",
       "      <th>2</th>\n",
       "      <td>vhigh</td>\n",
       "      <td>vhigh</td>\n",
       "      <td>2</td>\n",
       "      <td>2</td>\n",
       "      <td>med</td>\n",
       "      <td>low</td>\n",
       "      <td>unacc</td>\n",
       "    </tr>\n",
       "    <tr>\n",
       "      <th>3</th>\n",
       "      <td>vhigh</td>\n",
       "      <td>vhigh</td>\n",
       "      <td>2</td>\n",
       "      <td>2</td>\n",
       "      <td>med</td>\n",
       "      <td>med</td>\n",
       "      <td>unacc</td>\n",
       "    </tr>\n",
       "    <tr>\n",
       "      <th>4</th>\n",
       "      <td>vhigh</td>\n",
       "      <td>vhigh</td>\n",
       "      <td>2</td>\n",
       "      <td>2</td>\n",
       "      <td>med</td>\n",
       "      <td>high</td>\n",
       "      <td>unacc</td>\n",
       "    </tr>\n",
       "    <tr>\n",
       "      <th>...</th>\n",
       "      <td>...</td>\n",
       "      <td>...</td>\n",
       "      <td>...</td>\n",
       "      <td>...</td>\n",
       "      <td>...</td>\n",
       "      <td>...</td>\n",
       "      <td>...</td>\n",
       "    </tr>\n",
       "    <tr>\n",
       "      <th>1722</th>\n",
       "      <td>low</td>\n",
       "      <td>low</td>\n",
       "      <td>5more</td>\n",
       "      <td>more</td>\n",
       "      <td>med</td>\n",
       "      <td>med</td>\n",
       "      <td>good</td>\n",
       "    </tr>\n",
       "    <tr>\n",
       "      <th>1723</th>\n",
       "      <td>low</td>\n",
       "      <td>low</td>\n",
       "      <td>5more</td>\n",
       "      <td>more</td>\n",
       "      <td>med</td>\n",
       "      <td>high</td>\n",
       "      <td>vgood</td>\n",
       "    </tr>\n",
       "    <tr>\n",
       "      <th>1724</th>\n",
       "      <td>low</td>\n",
       "      <td>low</td>\n",
       "      <td>5more</td>\n",
       "      <td>more</td>\n",
       "      <td>big</td>\n",
       "      <td>low</td>\n",
       "      <td>unacc</td>\n",
       "    </tr>\n",
       "    <tr>\n",
       "      <th>1725</th>\n",
       "      <td>low</td>\n",
       "      <td>low</td>\n",
       "      <td>5more</td>\n",
       "      <td>more</td>\n",
       "      <td>big</td>\n",
       "      <td>med</td>\n",
       "      <td>good</td>\n",
       "    </tr>\n",
       "    <tr>\n",
       "      <th>1726</th>\n",
       "      <td>low</td>\n",
       "      <td>low</td>\n",
       "      <td>5more</td>\n",
       "      <td>more</td>\n",
       "      <td>big</td>\n",
       "      <td>high</td>\n",
       "      <td>vgood</td>\n",
       "    </tr>\n",
       "  </tbody>\n",
       "</table>\n",
       "<p>1727 rows × 7 columns</p>\n",
       "</div>"
      ],
      "text/plain": [
       "     Buying_Price Maintenance_Price No_of_Doors Person_Capacity  \\\n",
       "0           vhigh             vhigh           2               2   \n",
       "1           vhigh             vhigh           2               2   \n",
       "2           vhigh             vhigh           2               2   \n",
       "3           vhigh             vhigh           2               2   \n",
       "4           vhigh             vhigh           2               2   \n",
       "...           ...               ...         ...             ...   \n",
       "1722          low               low       5more            more   \n",
       "1723          low               low       5more            more   \n",
       "1724          low               low       5more            more   \n",
       "1725          low               low       5more            more   \n",
       "1726          low               low       5more            more   \n",
       "\n",
       "     Size_of_Luggage Safety Car_Acceptability  \n",
       "0              small    med             unacc  \n",
       "1              small   high             unacc  \n",
       "2                med    low             unacc  \n",
       "3                med    med             unacc  \n",
       "4                med   high             unacc  \n",
       "...              ...    ...               ...  \n",
       "1722             med    med              good  \n",
       "1723             med   high             vgood  \n",
       "1724             big    low             unacc  \n",
       "1725             big    med              good  \n",
       "1726             big   high             vgood  \n",
       "\n",
       "[1727 rows x 7 columns]"
      ]
     },
     "execution_count": 4,
     "metadata": {},
     "output_type": "execute_result"
    }
   ],
   "source": [
    "cars=cars.rename(columns=new_cols)\n",
    "cars"
   ]
  },
  {
   "cell_type": "code",
   "execution_count": 5,
   "id": "3c3ff3f7",
   "metadata": {
    "execution": {
     "iopub.execute_input": "2023-12-23T07:32:57.851954Z",
     "iopub.status.busy": "2023-12-23T07:32:57.850702Z",
     "iopub.status.idle": "2023-12-23T07:32:57.887928Z",
     "shell.execute_reply": "2023-12-23T07:32:57.886785Z"
    },
    "papermill": {
     "duration": 0.056498,
     "end_time": "2023-12-23T07:32:57.890673",
     "exception": false,
     "start_time": "2023-12-23T07:32:57.834175",
     "status": "completed"
    },
    "tags": []
   },
   "outputs": [
    {
     "data": {
      "text/html": [
       "<div>\n",
       "<style scoped>\n",
       "    .dataframe tbody tr th:only-of-type {\n",
       "        vertical-align: middle;\n",
       "    }\n",
       "\n",
       "    .dataframe tbody tr th {\n",
       "        vertical-align: top;\n",
       "    }\n",
       "\n",
       "    .dataframe thead th {\n",
       "        text-align: right;\n",
       "    }\n",
       "</style>\n",
       "<table border=\"1\" class=\"dataframe\">\n",
       "  <thead>\n",
       "    <tr style=\"text-align: right;\">\n",
       "      <th></th>\n",
       "      <th>Buying_Price</th>\n",
       "      <th>Maintenance_Price</th>\n",
       "      <th>No_of_Doors</th>\n",
       "      <th>Person_Capacity</th>\n",
       "      <th>Size_of_Luggage</th>\n",
       "      <th>Safety</th>\n",
       "      <th>Car_Acceptability</th>\n",
       "    </tr>\n",
       "  </thead>\n",
       "  <tbody>\n",
       "    <tr>\n",
       "      <th>count</th>\n",
       "      <td>1727</td>\n",
       "      <td>1727</td>\n",
       "      <td>1727</td>\n",
       "      <td>1727</td>\n",
       "      <td>1727</td>\n",
       "      <td>1727</td>\n",
       "      <td>1727</td>\n",
       "    </tr>\n",
       "    <tr>\n",
       "      <th>unique</th>\n",
       "      <td>4</td>\n",
       "      <td>4</td>\n",
       "      <td>4</td>\n",
       "      <td>3</td>\n",
       "      <td>3</td>\n",
       "      <td>3</td>\n",
       "      <td>4</td>\n",
       "    </tr>\n",
       "    <tr>\n",
       "      <th>top</th>\n",
       "      <td>high</td>\n",
       "      <td>high</td>\n",
       "      <td>3</td>\n",
       "      <td>4</td>\n",
       "      <td>med</td>\n",
       "      <td>med</td>\n",
       "      <td>unacc</td>\n",
       "    </tr>\n",
       "    <tr>\n",
       "      <th>freq</th>\n",
       "      <td>432</td>\n",
       "      <td>432</td>\n",
       "      <td>432</td>\n",
       "      <td>576</td>\n",
       "      <td>576</td>\n",
       "      <td>576</td>\n",
       "      <td>1209</td>\n",
       "    </tr>\n",
       "  </tbody>\n",
       "</table>\n",
       "</div>"
      ],
      "text/plain": [
       "       Buying_Price Maintenance_Price No_of_Doors Person_Capacity  \\\n",
       "count          1727              1727        1727            1727   \n",
       "unique            4                 4           4               3   \n",
       "top            high              high           3               4   \n",
       "freq            432               432         432             576   \n",
       "\n",
       "       Size_of_Luggage Safety Car_Acceptability  \n",
       "count             1727   1727              1727  \n",
       "unique               3      3                 4  \n",
       "top                med    med             unacc  \n",
       "freq               576    576              1209  "
      ]
     },
     "execution_count": 5,
     "metadata": {},
     "output_type": "execute_result"
    }
   ],
   "source": [
    "cars.describe()"
   ]
  },
  {
   "cell_type": "code",
   "execution_count": 6,
   "id": "a7cddcce",
   "metadata": {
    "execution": {
     "iopub.execute_input": "2023-12-23T07:32:57.926705Z",
     "iopub.status.busy": "2023-12-23T07:32:57.925234Z",
     "iopub.status.idle": "2023-12-23T07:32:57.939976Z",
     "shell.execute_reply": "2023-12-23T07:32:57.938690Z"
    },
    "papermill": {
     "duration": 0.037307,
     "end_time": "2023-12-23T07:32:57.943839",
     "exception": false,
     "start_time": "2023-12-23T07:32:57.906532",
     "status": "completed"
    },
    "tags": []
   },
   "outputs": [
    {
     "data": {
      "text/plain": [
       "Buying_Price         0\n",
       "Maintenance_Price    0\n",
       "No_of_Doors          0\n",
       "Person_Capacity      0\n",
       "Size_of_Luggage      0\n",
       "Safety               0\n",
       "Car_Acceptability    0\n",
       "dtype: int64"
      ]
     },
     "execution_count": 6,
     "metadata": {},
     "output_type": "execute_result"
    }
   ],
   "source": [
    "cars.isnull().sum()"
   ]
  },
  {
   "cell_type": "code",
   "execution_count": 7,
   "id": "d21c8e95",
   "metadata": {
    "execution": {
     "iopub.execute_input": "2023-12-23T07:32:57.985218Z",
     "iopub.status.busy": "2023-12-23T07:32:57.984512Z",
     "iopub.status.idle": "2023-12-23T07:32:57.994948Z",
     "shell.execute_reply": "2023-12-23T07:32:57.993788Z"
    },
    "papermill": {
     "duration": 0.032964,
     "end_time": "2023-12-23T07:32:57.997350",
     "exception": false,
     "start_time": "2023-12-23T07:32:57.964386",
     "status": "completed"
    },
    "tags": []
   },
   "outputs": [
    {
     "data": {
      "text/plain": [
       "Index(['Buying_Price', 'Maintenance_Price', 'No_of_Doors', 'Person_Capacity',\n",
       "       'Size_of_Luggage', 'Safety', 'Car_Acceptability'],\n",
       "      dtype='object')"
      ]
     },
     "execution_count": 7,
     "metadata": {},
     "output_type": "execute_result"
    }
   ],
   "source": [
    "cars_columns=cars.columns\n",
    "cars_columns"
   ]
  },
  {
   "cell_type": "code",
   "execution_count": 8,
   "id": "8bceee0d",
   "metadata": {
    "execution": {
     "iopub.execute_input": "2023-12-23T07:32:58.038967Z",
     "iopub.status.busy": "2023-12-23T07:32:58.038212Z",
     "iopub.status.idle": "2023-12-23T07:32:58.051702Z",
     "shell.execute_reply": "2023-12-23T07:32:58.050572Z"
    },
    "papermill": {
     "duration": 0.03894,
     "end_time": "2023-12-23T07:32:58.055418",
     "exception": false,
     "start_time": "2023-12-23T07:32:58.016478",
     "status": "completed"
    },
    "tags": []
   },
   "outputs": [
    {
     "name": "stdout",
     "output_type": "stream",
     "text": [
      "Buying_Price ---> ['vhigh' 'high' 'med' 'low']\n",
      "Maintenance_Price ---> ['vhigh' 'high' 'med' 'low']\n",
      "No_of_Doors ---> ['2' '3' '4' '5more']\n",
      "Person_Capacity ---> ['2' '4' 'more']\n",
      "Size_of_Luggage ---> ['small' 'med' 'big']\n",
      "Safety ---> ['med' 'high' 'low']\n",
      "Car_Acceptability ---> ['unacc' 'acc' 'vgood' 'good']\n"
     ]
    }
   ],
   "source": [
    "for i in cars_columns:\n",
    "    print(i,\"--->\",cars[i].unique())"
   ]
  },
  {
   "cell_type": "code",
   "execution_count": 9,
   "id": "bb372184",
   "metadata": {
    "execution": {
     "iopub.execute_input": "2023-12-23T07:32:58.091461Z",
     "iopub.status.busy": "2023-12-23T07:32:58.090652Z",
     "iopub.status.idle": "2023-12-23T07:32:58.098632Z",
     "shell.execute_reply": "2023-12-23T07:32:58.097823Z"
    },
    "papermill": {
     "duration": 0.027728,
     "end_time": "2023-12-23T07:32:58.101086",
     "exception": false,
     "start_time": "2023-12-23T07:32:58.073358",
     "status": "completed"
    },
    "tags": []
   },
   "outputs": [],
   "source": [
    "cars[\"No_of_Doors\"]=cars[\"No_of_Doors\"].replace(\"5more\",5)"
   ]
  },
  {
   "cell_type": "code",
   "execution_count": 10,
   "id": "8d5acbc5",
   "metadata": {
    "execution": {
     "iopub.execute_input": "2023-12-23T07:32:58.135123Z",
     "iopub.status.busy": "2023-12-23T07:32:58.134292Z",
     "iopub.status.idle": "2023-12-23T07:32:58.140800Z",
     "shell.execute_reply": "2023-12-23T07:32:58.139962Z"
    },
    "papermill": {
     "duration": 0.026514,
     "end_time": "2023-12-23T07:32:58.143143",
     "exception": false,
     "start_time": "2023-12-23T07:32:58.116629",
     "status": "completed"
    },
    "tags": []
   },
   "outputs": [],
   "source": [
    "cars[\"Person_Capacity\"]=cars[\"Person_Capacity\"].replace(\"more\",5)"
   ]
  },
  {
   "cell_type": "code",
   "execution_count": 11,
   "id": "19b1009b",
   "metadata": {
    "execution": {
     "iopub.execute_input": "2023-12-23T07:32:58.176490Z",
     "iopub.status.busy": "2023-12-23T07:32:58.175673Z",
     "iopub.status.idle": "2023-12-23T07:32:58.189995Z",
     "shell.execute_reply": "2023-12-23T07:32:58.188590Z"
    },
    "papermill": {
     "duration": 0.034203,
     "end_time": "2023-12-23T07:32:58.192865",
     "exception": false,
     "start_time": "2023-12-23T07:32:58.158662",
     "status": "completed"
    },
    "tags": []
   },
   "outputs": [],
   "source": [
    "encoder = LabelEncoder()\n",
    "cars.iloc[:,[0,1,4,5,6]]=cars.iloc[:,[0,1,4,5,6]].apply(encoder.fit_transform)"
   ]
  },
  {
   "cell_type": "code",
   "execution_count": 12,
   "id": "2eec6256",
   "metadata": {
    "execution": {
     "iopub.execute_input": "2023-12-23T07:32:58.288816Z",
     "iopub.status.busy": "2023-12-23T07:32:58.288397Z",
     "iopub.status.idle": "2023-12-23T07:32:58.305911Z",
     "shell.execute_reply": "2023-12-23T07:32:58.304772Z"
    },
    "papermill": {
     "duration": 0.037253,
     "end_time": "2023-12-23T07:32:58.308058",
     "exception": false,
     "start_time": "2023-12-23T07:32:58.270805",
     "status": "completed"
    },
    "tags": []
   },
   "outputs": [
    {
     "data": {
      "text/html": [
       "<div>\n",
       "<style scoped>\n",
       "    .dataframe tbody tr th:only-of-type {\n",
       "        vertical-align: middle;\n",
       "    }\n",
       "\n",
       "    .dataframe tbody tr th {\n",
       "        vertical-align: top;\n",
       "    }\n",
       "\n",
       "    .dataframe thead th {\n",
       "        text-align: right;\n",
       "    }\n",
       "</style>\n",
       "<table border=\"1\" class=\"dataframe\">\n",
       "  <thead>\n",
       "    <tr style=\"text-align: right;\">\n",
       "      <th></th>\n",
       "      <th>Buying_Price</th>\n",
       "      <th>Maintenance_Price</th>\n",
       "      <th>No_of_Doors</th>\n",
       "      <th>Person_Capacity</th>\n",
       "      <th>Size_of_Luggage</th>\n",
       "      <th>Safety</th>\n",
       "      <th>Car_Acceptability</th>\n",
       "    </tr>\n",
       "  </thead>\n",
       "  <tbody>\n",
       "    <tr>\n",
       "      <th>0</th>\n",
       "      <td>3</td>\n",
       "      <td>3</td>\n",
       "      <td>2</td>\n",
       "      <td>2</td>\n",
       "      <td>2</td>\n",
       "      <td>2</td>\n",
       "      <td>2</td>\n",
       "    </tr>\n",
       "    <tr>\n",
       "      <th>1</th>\n",
       "      <td>3</td>\n",
       "      <td>3</td>\n",
       "      <td>2</td>\n",
       "      <td>2</td>\n",
       "      <td>2</td>\n",
       "      <td>0</td>\n",
       "      <td>2</td>\n",
       "    </tr>\n",
       "    <tr>\n",
       "      <th>2</th>\n",
       "      <td>3</td>\n",
       "      <td>3</td>\n",
       "      <td>2</td>\n",
       "      <td>2</td>\n",
       "      <td>1</td>\n",
       "      <td>1</td>\n",
       "      <td>2</td>\n",
       "    </tr>\n",
       "    <tr>\n",
       "      <th>3</th>\n",
       "      <td>3</td>\n",
       "      <td>3</td>\n",
       "      <td>2</td>\n",
       "      <td>2</td>\n",
       "      <td>1</td>\n",
       "      <td>2</td>\n",
       "      <td>2</td>\n",
       "    </tr>\n",
       "    <tr>\n",
       "      <th>4</th>\n",
       "      <td>3</td>\n",
       "      <td>3</td>\n",
       "      <td>2</td>\n",
       "      <td>2</td>\n",
       "      <td>1</td>\n",
       "      <td>0</td>\n",
       "      <td>2</td>\n",
       "    </tr>\n",
       "    <tr>\n",
       "      <th>...</th>\n",
       "      <td>...</td>\n",
       "      <td>...</td>\n",
       "      <td>...</td>\n",
       "      <td>...</td>\n",
       "      <td>...</td>\n",
       "      <td>...</td>\n",
       "      <td>...</td>\n",
       "    </tr>\n",
       "    <tr>\n",
       "      <th>1722</th>\n",
       "      <td>1</td>\n",
       "      <td>1</td>\n",
       "      <td>5</td>\n",
       "      <td>5</td>\n",
       "      <td>1</td>\n",
       "      <td>2</td>\n",
       "      <td>1</td>\n",
       "    </tr>\n",
       "    <tr>\n",
       "      <th>1723</th>\n",
       "      <td>1</td>\n",
       "      <td>1</td>\n",
       "      <td>5</td>\n",
       "      <td>5</td>\n",
       "      <td>1</td>\n",
       "      <td>0</td>\n",
       "      <td>3</td>\n",
       "    </tr>\n",
       "    <tr>\n",
       "      <th>1724</th>\n",
       "      <td>1</td>\n",
       "      <td>1</td>\n",
       "      <td>5</td>\n",
       "      <td>5</td>\n",
       "      <td>0</td>\n",
       "      <td>1</td>\n",
       "      <td>2</td>\n",
       "    </tr>\n",
       "    <tr>\n",
       "      <th>1725</th>\n",
       "      <td>1</td>\n",
       "      <td>1</td>\n",
       "      <td>5</td>\n",
       "      <td>5</td>\n",
       "      <td>0</td>\n",
       "      <td>2</td>\n",
       "      <td>1</td>\n",
       "    </tr>\n",
       "    <tr>\n",
       "      <th>1726</th>\n",
       "      <td>1</td>\n",
       "      <td>1</td>\n",
       "      <td>5</td>\n",
       "      <td>5</td>\n",
       "      <td>0</td>\n",
       "      <td>0</td>\n",
       "      <td>3</td>\n",
       "    </tr>\n",
       "  </tbody>\n",
       "</table>\n",
       "<p>1727 rows × 7 columns</p>\n",
       "</div>"
      ],
      "text/plain": [
       "     Buying_Price Maintenance_Price No_of_Doors Person_Capacity  \\\n",
       "0               3                 3           2               2   \n",
       "1               3                 3           2               2   \n",
       "2               3                 3           2               2   \n",
       "3               3                 3           2               2   \n",
       "4               3                 3           2               2   \n",
       "...           ...               ...         ...             ...   \n",
       "1722            1                 1           5               5   \n",
       "1723            1                 1           5               5   \n",
       "1724            1                 1           5               5   \n",
       "1725            1                 1           5               5   \n",
       "1726            1                 1           5               5   \n",
       "\n",
       "     Size_of_Luggage Safety Car_Acceptability  \n",
       "0                  2      2                 2  \n",
       "1                  2      0                 2  \n",
       "2                  1      1                 2  \n",
       "3                  1      2                 2  \n",
       "4                  1      0                 2  \n",
       "...              ...    ...               ...  \n",
       "1722               1      2                 1  \n",
       "1723               1      0                 3  \n",
       "1724               0      1                 2  \n",
       "1725               0      2                 1  \n",
       "1726               0      0                 3  \n",
       "\n",
       "[1727 rows x 7 columns]"
      ]
     },
     "execution_count": 12,
     "metadata": {},
     "output_type": "execute_result"
    }
   ],
   "source": [
    "cars"
   ]
  },
  {
   "cell_type": "code",
   "execution_count": 13,
   "id": "5bc1ce6c",
   "metadata": {
    "execution": {
     "iopub.execute_input": "2023-12-23T07:32:58.341521Z",
     "iopub.status.busy": "2023-12-23T07:32:58.340789Z",
     "iopub.status.idle": "2023-12-23T07:32:58.349264Z",
     "shell.execute_reply": "2023-12-23T07:32:58.348134Z"
    },
    "papermill": {
     "duration": 0.027961,
     "end_time": "2023-12-23T07:32:58.351756",
     "exception": false,
     "start_time": "2023-12-23T07:32:58.323795",
     "status": "completed"
    },
    "tags": []
   },
   "outputs": [
    {
     "name": "stdout",
     "output_type": "stream",
     "text": [
      "Buying_Price ---> [3 0 2 1]\n",
      "Maintenance_Price ---> [3 0 2 1]\n",
      "No_of_Doors ---> ['2' '3' '4' 5]\n",
      "Person_Capacity ---> ['2' '4' 5]\n",
      "Size_of_Luggage ---> [2 1 0]\n",
      "Safety ---> [2 0 1]\n",
      "Car_Acceptability ---> [2 0 3 1]\n"
     ]
    }
   ],
   "source": [
    "for i in cars_columns:\n",
    "    print(i,\"--->\",cars[i].unique())"
   ]
  },
  {
   "cell_type": "code",
   "execution_count": 14,
   "id": "46e1f1a8",
   "metadata": {
    "execution": {
     "iopub.execute_input": "2023-12-23T07:32:58.389840Z",
     "iopub.status.busy": "2023-12-23T07:32:58.388903Z",
     "iopub.status.idle": "2023-12-23T07:32:58.408337Z",
     "shell.execute_reply": "2023-12-23T07:32:58.407471Z"
    },
    "papermill": {
     "duration": 0.043767,
     "end_time": "2023-12-23T07:32:58.411339",
     "exception": false,
     "start_time": "2023-12-23T07:32:58.367572",
     "status": "completed"
    },
    "tags": []
   },
   "outputs": [
    {
     "data": {
      "text/html": [
       "<div>\n",
       "<style scoped>\n",
       "    .dataframe tbody tr th:only-of-type {\n",
       "        vertical-align: middle;\n",
       "    }\n",
       "\n",
       "    .dataframe tbody tr th {\n",
       "        vertical-align: top;\n",
       "    }\n",
       "\n",
       "    .dataframe thead th {\n",
       "        text-align: right;\n",
       "    }\n",
       "</style>\n",
       "<table border=\"1\" class=\"dataframe\">\n",
       "  <thead>\n",
       "    <tr style=\"text-align: right;\">\n",
       "      <th></th>\n",
       "      <th>Buying_Price</th>\n",
       "      <th>Maintenance_Price</th>\n",
       "      <th>No_of_Doors</th>\n",
       "      <th>Person_Capacity</th>\n",
       "      <th>Size_of_Luggage</th>\n",
       "      <th>Safety</th>\n",
       "    </tr>\n",
       "  </thead>\n",
       "  <tbody>\n",
       "    <tr>\n",
       "      <th>0</th>\n",
       "      <td>3</td>\n",
       "      <td>3</td>\n",
       "      <td>2</td>\n",
       "      <td>2</td>\n",
       "      <td>2</td>\n",
       "      <td>2</td>\n",
       "    </tr>\n",
       "    <tr>\n",
       "      <th>1</th>\n",
       "      <td>3</td>\n",
       "      <td>3</td>\n",
       "      <td>2</td>\n",
       "      <td>2</td>\n",
       "      <td>2</td>\n",
       "      <td>0</td>\n",
       "    </tr>\n",
       "    <tr>\n",
       "      <th>2</th>\n",
       "      <td>3</td>\n",
       "      <td>3</td>\n",
       "      <td>2</td>\n",
       "      <td>2</td>\n",
       "      <td>1</td>\n",
       "      <td>1</td>\n",
       "    </tr>\n",
       "    <tr>\n",
       "      <th>3</th>\n",
       "      <td>3</td>\n",
       "      <td>3</td>\n",
       "      <td>2</td>\n",
       "      <td>2</td>\n",
       "      <td>1</td>\n",
       "      <td>2</td>\n",
       "    </tr>\n",
       "    <tr>\n",
       "      <th>4</th>\n",
       "      <td>3</td>\n",
       "      <td>3</td>\n",
       "      <td>2</td>\n",
       "      <td>2</td>\n",
       "      <td>1</td>\n",
       "      <td>0</td>\n",
       "    </tr>\n",
       "    <tr>\n",
       "      <th>...</th>\n",
       "      <td>...</td>\n",
       "      <td>...</td>\n",
       "      <td>...</td>\n",
       "      <td>...</td>\n",
       "      <td>...</td>\n",
       "      <td>...</td>\n",
       "    </tr>\n",
       "    <tr>\n",
       "      <th>1722</th>\n",
       "      <td>1</td>\n",
       "      <td>1</td>\n",
       "      <td>5</td>\n",
       "      <td>5</td>\n",
       "      <td>1</td>\n",
       "      <td>2</td>\n",
       "    </tr>\n",
       "    <tr>\n",
       "      <th>1723</th>\n",
       "      <td>1</td>\n",
       "      <td>1</td>\n",
       "      <td>5</td>\n",
       "      <td>5</td>\n",
       "      <td>1</td>\n",
       "      <td>0</td>\n",
       "    </tr>\n",
       "    <tr>\n",
       "      <th>1724</th>\n",
       "      <td>1</td>\n",
       "      <td>1</td>\n",
       "      <td>5</td>\n",
       "      <td>5</td>\n",
       "      <td>0</td>\n",
       "      <td>1</td>\n",
       "    </tr>\n",
       "    <tr>\n",
       "      <th>1725</th>\n",
       "      <td>1</td>\n",
       "      <td>1</td>\n",
       "      <td>5</td>\n",
       "      <td>5</td>\n",
       "      <td>0</td>\n",
       "      <td>2</td>\n",
       "    </tr>\n",
       "    <tr>\n",
       "      <th>1726</th>\n",
       "      <td>1</td>\n",
       "      <td>1</td>\n",
       "      <td>5</td>\n",
       "      <td>5</td>\n",
       "      <td>0</td>\n",
       "      <td>0</td>\n",
       "    </tr>\n",
       "  </tbody>\n",
       "</table>\n",
       "<p>1727 rows × 6 columns</p>\n",
       "</div>"
      ],
      "text/plain": [
       "     Buying_Price Maintenance_Price No_of_Doors Person_Capacity  \\\n",
       "0               3                 3           2               2   \n",
       "1               3                 3           2               2   \n",
       "2               3                 3           2               2   \n",
       "3               3                 3           2               2   \n",
       "4               3                 3           2               2   \n",
       "...           ...               ...         ...             ...   \n",
       "1722            1                 1           5               5   \n",
       "1723            1                 1           5               5   \n",
       "1724            1                 1           5               5   \n",
       "1725            1                 1           5               5   \n",
       "1726            1                 1           5               5   \n",
       "\n",
       "     Size_of_Luggage Safety  \n",
       "0                  2      2  \n",
       "1                  2      0  \n",
       "2                  1      1  \n",
       "3                  1      2  \n",
       "4                  1      0  \n",
       "...              ...    ...  \n",
       "1722               1      2  \n",
       "1723               1      0  \n",
       "1724               0      1  \n",
       "1725               0      2  \n",
       "1726               0      0  \n",
       "\n",
       "[1727 rows x 6 columns]"
      ]
     },
     "execution_count": 14,
     "metadata": {},
     "output_type": "execute_result"
    }
   ],
   "source": [
    "cars_data=cars.iloc[:,:-1]\n",
    "cars_data"
   ]
  },
  {
   "cell_type": "code",
   "execution_count": 15,
   "id": "3d99b33b",
   "metadata": {
    "execution": {
     "iopub.execute_input": "2023-12-23T07:32:58.447314Z",
     "iopub.status.busy": "2023-12-23T07:32:58.446512Z",
     "iopub.status.idle": "2023-12-23T07:32:58.456089Z",
     "shell.execute_reply": "2023-12-23T07:32:58.455153Z"
    },
    "papermill": {
     "duration": 0.030245,
     "end_time": "2023-12-23T07:32:58.458421",
     "exception": false,
     "start_time": "2023-12-23T07:32:58.428176",
     "status": "completed"
    },
    "tags": []
   },
   "outputs": [
    {
     "data": {
      "text/plain": [
       "array([2, 2, 2, ..., 2, 1, 3])"
      ]
     },
     "execution_count": 15,
     "metadata": {},
     "output_type": "execute_result"
    }
   ],
   "source": [
    "cars_label=encoder.fit_transform(cars.iloc[:,-1])\n",
    "cars_label"
   ]
  },
  {
   "cell_type": "code",
   "execution_count": 16,
   "id": "bef4edc6",
   "metadata": {
    "execution": {
     "iopub.execute_input": "2023-12-23T07:32:58.493901Z",
     "iopub.status.busy": "2023-12-23T07:32:58.493133Z",
     "iopub.status.idle": "2023-12-23T07:32:58.976175Z",
     "shell.execute_reply": "2023-12-23T07:32:58.974932Z"
    },
    "papermill": {
     "duration": 0.503752,
     "end_time": "2023-12-23T07:32:58.978895",
     "exception": false,
     "start_time": "2023-12-23T07:32:58.475143",
     "status": "completed"
    },
    "tags": []
   },
   "outputs": [],
   "source": [
    "from sklearn.tree import DecisionTreeClassifier\n",
    "from sklearn.model_selection import train_test_split\n",
    "from sklearn.metrics import classification_report\n",
    "from sklearn import tree\n",
    "import matplotlib.pyplot as plt"
   ]
  },
  {
   "cell_type": "code",
   "execution_count": 17,
   "id": "9df1ef34",
   "metadata": {
    "execution": {
     "iopub.execute_input": "2023-12-23T07:32:59.014959Z",
     "iopub.status.busy": "2023-12-23T07:32:59.014246Z",
     "iopub.status.idle": "2023-12-23T07:32:59.023241Z",
     "shell.execute_reply": "2023-12-23T07:32:59.021881Z"
    },
    "papermill": {
     "duration": 0.030188,
     "end_time": "2023-12-23T07:32:59.025638",
     "exception": false,
     "start_time": "2023-12-23T07:32:58.995450",
     "status": "completed"
    },
    "tags": []
   },
   "outputs": [
    {
     "name": "stdout",
     "output_type": "stream",
     "text": [
      "x_train shape (1381, 6) \n",
      "y_train shape(1381,) \n",
      "x_test shape (346, 6) \n",
      "y_test shape(346,)\n"
     ]
    }
   ],
   "source": [
    "x_train,x_test,y_train,y_test=train_test_split(cars_data,cars_label,train_size=0.8,test_size=0.2)\n",
    "print(\"x_train shape {} \\ny_train shape{} \\nx_test shape {} \\ny_test shape{}\".format(x_train.shape,y_train.shape,x_test.shape,y_test.shape))"
   ]
  },
  {
   "cell_type": "markdown",
   "id": "8d51e535",
   "metadata": {
    "papermill": {
     "duration": 0.017156,
     "end_time": "2023-12-23T07:32:59.059961",
     "exception": false,
     "start_time": "2023-12-23T07:32:59.042805",
     "status": "completed"
    },
    "tags": []
   },
   "source": []
  },
  {
   "cell_type": "code",
   "execution_count": 18,
   "id": "85549f41",
   "metadata": {
    "execution": {
     "iopub.execute_input": "2023-12-23T07:32:59.095590Z",
     "iopub.status.busy": "2023-12-23T07:32:59.094780Z",
     "iopub.status.idle": "2023-12-23T07:32:59.100742Z",
     "shell.execute_reply": "2023-12-23T07:32:59.099908Z"
    },
    "papermill": {
     "duration": 0.026351,
     "end_time": "2023-12-23T07:32:59.103186",
     "exception": false,
     "start_time": "2023-12-23T07:32:59.076835",
     "status": "completed"
    },
    "tags": []
   },
   "outputs": [],
   "source": [
    "y_train=encoder.fit_transform(y_train)"
   ]
  },
  {
   "cell_type": "code",
   "execution_count": 19,
   "id": "670687d5",
   "metadata": {
    "execution": {
     "iopub.execute_input": "2023-12-23T07:32:59.139264Z",
     "iopub.status.busy": "2023-12-23T07:32:59.138124Z",
     "iopub.status.idle": "2023-12-23T07:32:59.143399Z",
     "shell.execute_reply": "2023-12-23T07:32:59.142632Z"
    },
    "papermill": {
     "duration": 0.025516,
     "end_time": "2023-12-23T07:32:59.145671",
     "exception": false,
     "start_time": "2023-12-23T07:32:59.120155",
     "status": "completed"
    },
    "tags": []
   },
   "outputs": [],
   "source": [
    "DTree=DecisionTreeClassifier()"
   ]
  },
  {
   "cell_type": "code",
   "execution_count": 20,
   "id": "7471043e",
   "metadata": {
    "execution": {
     "iopub.execute_input": "2023-12-23T07:32:59.181338Z",
     "iopub.status.busy": "2023-12-23T07:32:59.180172Z",
     "iopub.status.idle": "2023-12-23T07:32:59.201054Z",
     "shell.execute_reply": "2023-12-23T07:32:59.199856Z"
    },
    "papermill": {
     "duration": 0.041529,
     "end_time": "2023-12-23T07:32:59.203775",
     "exception": false,
     "start_time": "2023-12-23T07:32:59.162246",
     "status": "completed"
    },
    "tags": []
   },
   "outputs": [
    {
     "data": {
      "text/html": [
       "<style>#sk-container-id-1 {color: black;background-color: white;}#sk-container-id-1 pre{padding: 0;}#sk-container-id-1 div.sk-toggleable {background-color: white;}#sk-container-id-1 label.sk-toggleable__label {cursor: pointer;display: block;width: 100%;margin-bottom: 0;padding: 0.3em;box-sizing: border-box;text-align: center;}#sk-container-id-1 label.sk-toggleable__label-arrow:before {content: \"▸\";float: left;margin-right: 0.25em;color: #696969;}#sk-container-id-1 label.sk-toggleable__label-arrow:hover:before {color: black;}#sk-container-id-1 div.sk-estimator:hover label.sk-toggleable__label-arrow:before {color: black;}#sk-container-id-1 div.sk-toggleable__content {max-height: 0;max-width: 0;overflow: hidden;text-align: left;background-color: #f0f8ff;}#sk-container-id-1 div.sk-toggleable__content pre {margin: 0.2em;color: black;border-radius: 0.25em;background-color: #f0f8ff;}#sk-container-id-1 input.sk-toggleable__control:checked~div.sk-toggleable__content {max-height: 200px;max-width: 100%;overflow: auto;}#sk-container-id-1 input.sk-toggleable__control:checked~label.sk-toggleable__label-arrow:before {content: \"▾\";}#sk-container-id-1 div.sk-estimator input.sk-toggleable__control:checked~label.sk-toggleable__label {background-color: #d4ebff;}#sk-container-id-1 div.sk-label input.sk-toggleable__control:checked~label.sk-toggleable__label {background-color: #d4ebff;}#sk-container-id-1 input.sk-hidden--visually {border: 0;clip: rect(1px 1px 1px 1px);clip: rect(1px, 1px, 1px, 1px);height: 1px;margin: -1px;overflow: hidden;padding: 0;position: absolute;width: 1px;}#sk-container-id-1 div.sk-estimator {font-family: monospace;background-color: #f0f8ff;border: 1px dotted black;border-radius: 0.25em;box-sizing: border-box;margin-bottom: 0.5em;}#sk-container-id-1 div.sk-estimator:hover {background-color: #d4ebff;}#sk-container-id-1 div.sk-parallel-item::after {content: \"\";width: 100%;border-bottom: 1px solid gray;flex-grow: 1;}#sk-container-id-1 div.sk-label:hover label.sk-toggleable__label {background-color: #d4ebff;}#sk-container-id-1 div.sk-serial::before {content: \"\";position: absolute;border-left: 1px solid gray;box-sizing: border-box;top: 0;bottom: 0;left: 50%;z-index: 0;}#sk-container-id-1 div.sk-serial {display: flex;flex-direction: column;align-items: center;background-color: white;padding-right: 0.2em;padding-left: 0.2em;position: relative;}#sk-container-id-1 div.sk-item {position: relative;z-index: 1;}#sk-container-id-1 div.sk-parallel {display: flex;align-items: stretch;justify-content: center;background-color: white;position: relative;}#sk-container-id-1 div.sk-item::before, #sk-container-id-1 div.sk-parallel-item::before {content: \"\";position: absolute;border-left: 1px solid gray;box-sizing: border-box;top: 0;bottom: 0;left: 50%;z-index: -1;}#sk-container-id-1 div.sk-parallel-item {display: flex;flex-direction: column;z-index: 1;position: relative;background-color: white;}#sk-container-id-1 div.sk-parallel-item:first-child::after {align-self: flex-end;width: 50%;}#sk-container-id-1 div.sk-parallel-item:last-child::after {align-self: flex-start;width: 50%;}#sk-container-id-1 div.sk-parallel-item:only-child::after {width: 0;}#sk-container-id-1 div.sk-dashed-wrapped {border: 1px dashed gray;margin: 0 0.4em 0.5em 0.4em;box-sizing: border-box;padding-bottom: 0.4em;background-color: white;}#sk-container-id-1 div.sk-label label {font-family: monospace;font-weight: bold;display: inline-block;line-height: 1.2em;}#sk-container-id-1 div.sk-label-container {text-align: center;}#sk-container-id-1 div.sk-container {/* jupyter's `normalize.less` sets `[hidden] { display: none; }` but bootstrap.min.css set `[hidden] { display: none !important; }` so we also need the `!important` here to be able to override the default hidden behavior on the sphinx rendered scikit-learn.org. See: https://github.com/scikit-learn/scikit-learn/issues/21755 */display: inline-block !important;position: relative;}#sk-container-id-1 div.sk-text-repr-fallback {display: none;}</style><div id=\"sk-container-id-1\" class=\"sk-top-container\"><div class=\"sk-text-repr-fallback\"><pre>DecisionTreeClassifier()</pre><b>In a Jupyter environment, please rerun this cell to show the HTML representation or trust the notebook. <br />On GitHub, the HTML representation is unable to render, please try loading this page with nbviewer.org.</b></div><div class=\"sk-container\" hidden><div class=\"sk-item\"><div class=\"sk-estimator sk-toggleable\"><input class=\"sk-toggleable__control sk-hidden--visually\" id=\"sk-estimator-id-1\" type=\"checkbox\" checked><label for=\"sk-estimator-id-1\" class=\"sk-toggleable__label sk-toggleable__label-arrow\">DecisionTreeClassifier</label><div class=\"sk-toggleable__content\"><pre>DecisionTreeClassifier()</pre></div></div></div></div></div>"
      ],
      "text/plain": [
       "DecisionTreeClassifier()"
      ]
     },
     "execution_count": 20,
     "metadata": {},
     "output_type": "execute_result"
    }
   ],
   "source": [
    "DTree.fit(x_train,y_train)"
   ]
  },
  {
   "cell_type": "code",
   "execution_count": 21,
   "id": "edc4bdf7",
   "metadata": {
    "execution": {
     "iopub.execute_input": "2023-12-23T07:32:59.240773Z",
     "iopub.status.busy": "2023-12-23T07:32:59.240328Z",
     "iopub.status.idle": "2023-12-23T07:32:59.247275Z",
     "shell.execute_reply": "2023-12-23T07:32:59.246118Z"
    },
    "papermill": {
     "duration": 0.028234,
     "end_time": "2023-12-23T07:32:59.249887",
     "exception": false,
     "start_time": "2023-12-23T07:32:59.221653",
     "status": "completed"
    },
    "tags": []
   },
   "outputs": [],
   "source": [
    "y_pred=DTree.predict(x_test)"
   ]
  },
  {
   "cell_type": "code",
   "execution_count": 22,
   "id": "820047fb",
   "metadata": {
    "execution": {
     "iopub.execute_input": "2023-12-23T07:32:59.287259Z",
     "iopub.status.busy": "2023-12-23T07:32:59.285953Z",
     "iopub.status.idle": "2023-12-23T07:32:59.296923Z",
     "shell.execute_reply": "2023-12-23T07:32:59.295616Z"
    },
    "papermill": {
     "duration": 0.032492,
     "end_time": "2023-12-23T07:32:59.299484",
     "exception": false,
     "start_time": "2023-12-23T07:32:59.266992",
     "status": "completed"
    },
    "tags": []
   },
   "outputs": [
    {
     "name": "stdout",
     "output_type": "stream",
     "text": [
      "training accuracy = 100.0\n"
     ]
    }
   ],
   "source": [
    "print(\"training accuracy =\",DTree.score(x_train,y_train)*100)"
   ]
  },
  {
   "cell_type": "code",
   "execution_count": 23,
   "id": "64d1c250",
   "metadata": {
    "execution": {
     "iopub.execute_input": "2023-12-23T07:32:59.336668Z",
     "iopub.status.busy": "2023-12-23T07:32:59.336195Z",
     "iopub.status.idle": "2023-12-23T07:32:59.356251Z",
     "shell.execute_reply": "2023-12-23T07:32:59.354863Z"
    },
    "papermill": {
     "duration": 0.041629,
     "end_time": "2023-12-23T07:32:59.358837",
     "exception": false,
     "start_time": "2023-12-23T07:32:59.317208",
     "status": "completed"
    },
    "tags": []
   },
   "outputs": [
    {
     "name": "stdout",
     "output_type": "stream",
     "text": [
      "Test Accuracy = 98.27\n",
      "              precision    recall  f1-score   support\n",
      "\n",
      "           0       0.95      0.99      0.97        78\n",
      "           1       0.86      1.00      0.92        12\n",
      "           2       1.00      0.98      0.99       244\n",
      "           3       1.00      0.92      0.96        12\n",
      "\n",
      "    accuracy                           0.98       346\n",
      "   macro avg       0.95      0.97      0.96       346\n",
      "weighted avg       0.98      0.98      0.98       346\n",
      "\n"
     ]
    }
   ],
   "source": [
    "y_pred=DTree.predict(x_test)\n",
    "acc=sum(y_pred==y_test)/len(y_pred)*100\n",
    "print(\"Test Accuracy = {:.2f}\".format(acc))\n",
    "print(classification_report(y_test,y_pred))"
   ]
  },
  {
   "cell_type": "code",
   "execution_count": 24,
   "id": "0114adde",
   "metadata": {
    "execution": {
     "iopub.execute_input": "2023-12-23T07:32:59.396461Z",
     "iopub.status.busy": "2023-12-23T07:32:59.396067Z",
     "iopub.status.idle": "2023-12-23T07:32:59.410331Z",
     "shell.execute_reply": "2023-12-23T07:32:59.409048Z"
    },
    "papermill": {
     "duration": 0.036194,
     "end_time": "2023-12-23T07:32:59.413174",
     "exception": false,
     "start_time": "2023-12-23T07:32:59.376980",
     "status": "completed"
    },
    "tags": []
   },
   "outputs": [
    {
     "name": "stdout",
     "output_type": "stream",
     "text": [
      "              precision    recall  f1-score   support\n",
      "\n",
      "           0       0.95      0.99      0.97        78\n",
      "           1       0.86      1.00      0.92        12\n",
      "           2       1.00      0.98      0.99       244\n",
      "           3       1.00      0.92      0.96        12\n",
      "\n",
      "    accuracy                           0.98       346\n",
      "   macro avg       0.95      0.97      0.96       346\n",
      "weighted avg       0.98      0.98      0.98       346\n",
      "\n"
     ]
    }
   ],
   "source": [
    "print(classification_report(y_test,y_pred))"
   ]
  },
  {
   "cell_type": "markdown",
   "id": "440c2bc2",
   "metadata": {
    "papermill": {
     "duration": 0.017444,
     "end_time": "2023-12-23T07:32:59.447986",
     "exception": false,
     "start_time": "2023-12-23T07:32:59.430542",
     "status": "completed"
    },
    "tags": []
   },
   "source": [
    "As we see that the tree is overfitting, we use the post pruning method which is used to prune the branches selectively and by assigning the cost to each branch based on the impurities and the number of samples present in it. The sklearn provides us with the cost_complexity_pruning_path() function which gives us the ccp_alphas which is the threshold for pruning and the associated impurity with it. We plot the alphas values with the impurities."
   ]
  },
  {
   "cell_type": "code",
   "execution_count": 25,
   "id": "7cf8d5f5",
   "metadata": {
    "execution": {
     "iopub.execute_input": "2023-12-23T07:32:59.486278Z",
     "iopub.status.busy": "2023-12-23T07:32:59.485859Z",
     "iopub.status.idle": "2023-12-23T07:33:05.621474Z",
     "shell.execute_reply": "2023-12-23T07:33:05.620465Z"
    },
    "papermill": {
     "duration": 6.157875,
     "end_time": "2023-12-23T07:33:05.624531",
     "exception": false,
     "start_time": "2023-12-23T07:32:59.466656",
     "status": "completed"
    },
    "tags": []
   },
   "outputs": [
    {
     "data": {
      "image/png": "[encoded data removed]",
      "text/plain": [
       "<Figure size 640x480 with 1 Axes>"
      ]
     },
     "metadata": {},
     "output_type": "display_data"
    }
   ],
   "source": [
    "plt.figure()\n",
    "tree.plot_tree(DTree,filled=True)\n",
    "plt.show()\n"
   ]
  },
  {
   "cell_type": "code",
   "execution_count": 26,
   "id": "c075db60",
   "metadata": {
    "execution": {
     "iopub.execute_input": "2023-12-23T07:33:05.663391Z",
     "iopub.status.busy": "2023-12-23T07:33:05.662924Z",
     "iopub.status.idle": "2023-12-23T07:33:05.671637Z",
     "shell.execute_reply": "2023-12-23T07:33:05.670401Z"
    },
    "papermill": {
     "duration": 0.030936,
     "end_time": "2023-12-23T07:33:05.673951",
     "exception": false,
     "start_time": "2023-12-23T07:33:05.643015",
     "status": "completed"
    },
    "tags": []
   },
   "outputs": [
    {
     "name": "stdout",
     "output_type": "stream",
     "text": [
      "Depth of the tree 13\n",
      "number of the leaf nodes of tree 87\n"
     ]
    }
   ],
   "source": [
    "print(\"Depth of the tree\",DTree.get_depth())\n",
    "print(\"number of the leaf nodes of tree\",DTree.get_n_leaves())"
   ]
  },
  {
   "cell_type": "code",
   "execution_count": 27,
   "id": "9ffef036",
   "metadata": {
    "execution": {
     "iopub.execute_input": "2023-12-23T07:33:05.713040Z",
     "iopub.status.busy": "2023-12-23T07:33:05.712656Z",
     "iopub.status.idle": "2023-12-23T07:33:05.719548Z",
     "shell.execute_reply": "2023-12-23T07:33:05.718338Z"
    },
    "papermill": {
     "duration": 0.029405,
     "end_time": "2023-12-23T07:33:05.721739",
     "exception": false,
     "start_time": "2023-12-23T07:33:05.692334",
     "status": "completed"
    },
    "tags": []
   },
   "outputs": [
    {
     "data": {
      "text/plain": [
       "87"
      ]
     },
     "execution_count": 27,
     "metadata": {},
     "output_type": "execute_result"
    }
   ],
   "source": [
    "DTree.get_n_leaves()"
   ]
  },
  {
   "cell_type": "code",
   "execution_count": 28,
   "id": "a2d00b90",
   "metadata": {
    "execution": {
     "iopub.execute_input": "2023-12-23T07:33:05.761082Z",
     "iopub.status.busy": "2023-12-23T07:33:05.760658Z",
     "iopub.status.idle": "2023-12-23T07:33:05.771774Z",
     "shell.execute_reply": "2023-12-23T07:33:05.770644Z"
    },
    "papermill": {
     "duration": 0.033702,
     "end_time": "2023-12-23T07:33:05.774445",
     "exception": false,
     "start_time": "2023-12-23T07:33:05.740743",
     "status": "completed"
    },
    "tags": []
   },
   "outputs": [],
   "source": [
    "out=DTree.cost_complexity_pruning_path(x_train,y_train)"
   ]
  },
  {
   "cell_type": "code",
   "execution_count": 29,
   "id": "217b88c2",
   "metadata": {
    "execution": {
     "iopub.execute_input": "2023-12-23T07:33:05.813794Z",
     "iopub.status.busy": "2023-12-23T07:33:05.813354Z",
     "iopub.status.idle": "2023-12-23T07:33:05.821250Z",
     "shell.execute_reply": "2023-12-23T07:33:05.820135Z"
    },
    "papermill": {
     "duration": 0.030768,
     "end_time": "2023-12-23T07:33:05.823961",
     "exception": false,
     "start_time": "2023-12-23T07:33:05.793193",
     "status": "completed"
    },
    "tags": []
   },
   "outputs": [
    {
     "data": {
      "text/plain": [
       "{'ccp_alphas': array([0.        , 0.00044251, 0.00045733, 0.00047004, 0.00054308,\n",
       "        0.00060343, 0.00062067, 0.00062067, 0.00062067, 0.0006336 ,\n",
       "        0.00066841, 0.00079652, 0.00091467, 0.00096548, 0.00096548,\n",
       "        0.00096548, 0.00108617, 0.00118272, 0.00125513, 0.00139849,\n",
       "        0.00140434, 0.00144823, 0.00151492, 0.00193097, 0.0022383 ,\n",
       "        0.00229302, 0.00246735, 0.00296508, 0.00305811, 0.00403706,\n",
       "        0.00405225, 0.00481333, 0.00603427, 0.00614297, 0.00627172,\n",
       "        0.0064838 , 0.00656165, 0.00721583, 0.0125084 , 0.01311257,\n",
       "        0.01337075, 0.01748563, 0.05757046, 0.07119659]),\n",
       " 'impurities': array([0.        , 0.00132754, 0.00269954, 0.00410966, 0.00519583,\n",
       "        0.00640268, 0.00764402, 0.00888536, 0.01012669, 0.01139389,\n",
       "        0.01273071, 0.01671334, 0.01945734, 0.02042283, 0.02138831,\n",
       "        0.02331928, 0.02440545, 0.02558817, 0.02809842, 0.03089541,\n",
       "        0.03229975, 0.0351962 , 0.03822604, 0.04208798, 0.04656458,\n",
       "        0.05115063, 0.05608532, 0.06201549, 0.06813172, 0.07620583,\n",
       "        0.08431033, 0.09393698, 0.10600553, 0.12443443, 0.13070615,\n",
       "        0.14367375, 0.15679705, 0.16401288, 0.18902967, 0.20214224,\n",
       "        0.25562524, 0.27311086, 0.38825178, 0.45944836])}"
      ]
     },
     "execution_count": 29,
     "metadata": {},
     "output_type": "execute_result"
    }
   ],
   "source": [
    "out"
   ]
  },
  {
   "cell_type": "code",
   "execution_count": 30,
   "id": "28db5f0d",
   "metadata": {
    "execution": {
     "iopub.execute_input": "2023-12-23T07:33:05.865158Z",
     "iopub.status.busy": "2023-12-23T07:33:05.864755Z",
     "iopub.status.idle": "2023-12-23T07:33:06.236906Z",
     "shell.execute_reply": "2023-12-23T07:33:06.235698Z"
    },
    "papermill": {
     "duration": 0.396434,
     "end_time": "2023-12-23T07:33:06.239356",
     "exception": false,
     "start_time": "2023-12-23T07:33:05.842922",
     "status": "completed"
    },
    "tags": []
   },
   "outputs": [
    {
     "data": {
      "text/plain": [
       "Text(0.5, 1.0, 'training datset Impurity vs alphas')"
      ]
     },
     "execution_count": 30,
     "metadata": {},
     "output_type": "execute_result"
    },
    {
     "data": {
      "image/png": "[encoded data removed]",
      "text/plain": [
       "<Figure size 640x480 with 1 Axes>"
      ]
     },
     "metadata": {},
     "output_type": "display_data"
    }
   ],
   "source": [
    "fig, ax = plt.subplots()\n",
    "ax.plot(out[\"ccp_alphas\"][:-1], out[\"impurities\"][:-1], marker=\"o\", drawstyle=\"steps-post\")\n",
    "ax.set_xlabel(\"alphas\")\n",
    "ax.set_ylabel(\"total impurity of leaves\")\n",
    "ax.set_title(\"training datset Impurity vs alphas\")"
   ]
  },
  {
   "cell_type": "code",
   "execution_count": 31,
   "id": "3adea516",
   "metadata": {
    "execution": {
     "iopub.execute_input": "2023-12-23T07:33:06.280178Z",
     "iopub.status.busy": "2023-12-23T07:33:06.279742Z",
     "iopub.status.idle": "2023-12-23T07:33:06.473047Z",
     "shell.execute_reply": "2023-12-23T07:33:06.471886Z"
    },
    "papermill": {
     "duration": 0.217026,
     "end_time": "2023-12-23T07:33:06.476020",
     "exception": false,
     "start_time": "2023-12-23T07:33:06.258994",
     "status": "completed"
    },
    "tags": []
   },
   "outputs": [],
   "source": [
    "trees=[]\n",
    "for i in out[\"ccp_alphas\"]:\n",
    "    tr=DecisionTreeClassifier(ccp_alpha=i)\n",
    "    tr.fit(x_train,y_train)\n",
    "    trees.append(tr)\n",
    "    "
   ]
  },
  {
   "cell_type": "code",
   "execution_count": 32,
   "id": "ef621dc4",
   "metadata": {
    "execution": {
     "iopub.execute_input": "2023-12-23T07:33:06.518624Z",
     "iopub.status.busy": "2023-12-23T07:33:06.518198Z",
     "iopub.status.idle": "2023-12-23T07:33:06.758932Z",
     "shell.execute_reply": "2023-12-23T07:33:06.757875Z"
    },
    "papermill": {
     "duration": 0.264779,
     "end_time": "2023-12-23T07:33:06.761565",
     "exception": false,
     "start_time": "2023-12-23T07:33:06.496786",
     "status": "completed"
    },
    "tags": []
   },
   "outputs": [],
   "source": [
    "train_scores=[i.score(x_train,y_train) for i in trees]\n",
    "test_scores=[i.score(x_test,y_test) for i in trees]"
   ]
  },
  {
   "cell_type": "code",
   "execution_count": 33,
   "id": "2eaaa4df",
   "metadata": {
    "execution": {
     "iopub.execute_input": "2023-12-23T07:33:06.803226Z",
     "iopub.status.busy": "2023-12-23T07:33:06.802509Z",
     "iopub.status.idle": "2023-12-23T07:33:07.142138Z",
     "shell.execute_reply": "2023-12-23T07:33:07.141198Z"
    },
    "papermill": {
     "duration": 0.363187,
     "end_time": "2023-12-23T07:33:07.144342",
     "exception": false,
     "start_time": "2023-12-23T07:33:06.781155",
     "status": "completed"
    },
    "tags": []
   },
   "outputs": [
    {
     "data": {
      "image/png": "[encoded data removed]",
      "text/plain": [
       "<Figure size 640x480 with 1 Axes>"
      ]
     },
     "metadata": {},
     "output_type": "display_data"
    }
   ],
   "source": [
    "fig, ax = plt.subplots()\n",
    "ax.set_xlabel(\"alpha\")\n",
    "ax.set_ylabel(\"accuracy\")\n",
    "ax.set_title(\"Accuracy vs alpha for training and testing sets\")\n",
    "ax.plot(out[\"ccp_alphas\"], train_scores, marker=\"o\", label=\"train\", drawstyle=\"steps-post\")\n",
    "ax.plot(out[\"ccp_alphas\"], test_scores, marker=\"o\", label=\"test\", drawstyle=\"steps-post\")\n",
    "ax.legend()\n",
    "plt.show()"
   ]
  },
  {
   "cell_type": "markdown",
   "id": "b99e3042",
   "metadata": {
    "papermill": {
     "duration": 0.019767,
     "end_time": "2023-12-23T07:33:07.184175",
     "exception": false,
     "start_time": "2023-12-23T07:33:07.164408",
     "status": "completed"
    },
    "tags": []
   },
   "source": [
    "Building the decision tree classifier based on the alpha values as 0.01 which we got using the cost complexity pruning method, so that we avoid the overfitting of the data. even though the accuracy is 85.55 but the decision performs better for the unseen data after pruning the branches of the tree."
   ]
  },
  {
   "cell_type": "code",
   "execution_count": 34,
   "id": "3b8ca96f",
   "metadata": {
    "execution": {
     "iopub.execute_input": "2023-12-23T07:33:07.226776Z",
     "iopub.status.busy": "2023-12-23T07:33:07.226001Z",
     "iopub.status.idle": "2023-12-23T07:33:07.231368Z",
     "shell.execute_reply": "2023-12-23T07:33:07.230087Z"
    },
    "papermill": {
     "duration": 0.029737,
     "end_time": "2023-12-23T07:33:07.234094",
     "exception": false,
     "start_time": "2023-12-23T07:33:07.204357",
     "status": "completed"
    },
    "tags": []
   },
   "outputs": [],
   "source": [
    "DTree_post_pruning=DecisionTreeClassifier(ccp_alpha=0.01)"
   ]
  },
  {
   "cell_type": "code",
   "execution_count": 35,
   "id": "fd6c62ac",
   "metadata": {
    "execution": {
     "iopub.execute_input": "2023-12-23T07:33:07.276617Z",
     "iopub.status.busy": "2023-12-23T07:33:07.276159Z",
     "iopub.status.idle": "2023-12-23T07:33:07.289086Z",
     "shell.execute_reply": "2023-12-23T07:33:07.288041Z"
    },
    "papermill": {
     "duration": 0.036809,
     "end_time": "2023-12-23T07:33:07.291358",
     "exception": false,
     "start_time": "2023-12-23T07:33:07.254549",
     "status": "completed"
    },
    "tags": []
   },
   "outputs": [
    {
     "data": {
      "text/html": [
       "<style>#sk-container-id-2 {color: black;background-color: white;}#sk-container-id-2 pre{padding: 0;}#sk-container-id-2 div.sk-toggleable {background-color: white;}#sk-container-id-2 label.sk-toggleable__label {cursor: pointer;display: block;width: 100%;margin-bottom: 0;padding: 0.3em;box-sizing: border-box;text-align: center;}#sk-container-id-2 label.sk-toggleable__label-arrow:before {content: \"▸\";float: left;margin-right: 0.25em;color: #696969;}#sk-container-id-2 label.sk-toggleable__label-arrow:hover:before {color: black;}#sk-container-id-2 div.sk-estimator:hover label.sk-toggleable__label-arrow:before {color: black;}#sk-container-id-2 div.sk-toggleable__content {max-height: 0;max-width: 0;overflow: hidden;text-align: left;background-color: #f0f8ff;}#sk-container-id-2 div.sk-toggleable__content pre {margin: 0.2em;color: black;border-radius: 0.25em;background-color: #f0f8ff;}#sk-container-id-2 input.sk-toggleable__control:checked~div.sk-toggleable__content {max-height: 200px;max-width: 100%;overflow: auto;}#sk-container-id-2 input.sk-toggleable__control:checked~label.sk-toggleable__label-arrow:before {content: \"▾\";}#sk-container-id-2 div.sk-estimator input.sk-toggleable__control:checked~label.sk-toggleable__label {background-color: #d4ebff;}#sk-container-id-2 div.sk-label input.sk-toggleable__control:checked~label.sk-toggleable__label {background-color: #d4ebff;}#sk-container-id-2 input.sk-hidden--visually {border: 0;clip: rect(1px 1px 1px 1px);clip: rect(1px, 1px, 1px, 1px);height: 1px;margin: -1px;overflow: hidden;padding: 0;position: absolute;width: 1px;}#sk-container-id-2 div.sk-estimator {font-family: monospace;background-color: #f0f8ff;border: 1px dotted black;border-radius: 0.25em;box-sizing: border-box;margin-bottom: 0.5em;}#sk-container-id-2 div.sk-estimator:hover {background-color: #d4ebff;}#sk-container-id-2 div.sk-parallel-item::after {content: \"\";width: 100%;border-bottom: 1px solid gray;flex-grow: 1;}#sk-container-id-2 div.sk-label:hover label.sk-toggleable__label {background-color: #d4ebff;}#sk-container-id-2 div.sk-serial::before {content: \"\";position: absolute;border-left: 1px solid gray;box-sizing: border-box;top: 0;bottom: 0;left: 50%;z-index: 0;}#sk-container-id-2 div.sk-serial {display: flex;flex-direction: column;align-items: center;background-color: white;padding-right: 0.2em;padding-left: 0.2em;position: relative;}#sk-container-id-2 div.sk-item {position: relative;z-index: 1;}#sk-container-id-2 div.sk-parallel {display: flex;align-items: stretch;justify-content: center;background-color: white;position: relative;}#sk-container-id-2 div.sk-item::before, #sk-container-id-2 div.sk-parallel-item::before {content: \"\";position: absolute;border-left: 1px solid gray;box-sizing: border-box;top: 0;bottom: 0;left: 50%;z-index: -1;}#sk-container-id-2 div.sk-parallel-item {display: flex;flex-direction: column;z-index: 1;position: relative;background-color: white;}#sk-container-id-2 div.sk-parallel-item:first-child::after {align-self: flex-end;width: 50%;}#sk-container-id-2 div.sk-parallel-item:last-child::after {align-self: flex-start;width: 50%;}#sk-container-id-2 div.sk-parallel-item:only-child::after {width: 0;}#sk-container-id-2 div.sk-dashed-wrapped {border: 1px dashed gray;margin: 0 0.4em 0.5em 0.4em;box-sizing: border-box;padding-bottom: 0.4em;background-color: white;}#sk-container-id-2 div.sk-label label {font-family: monospace;font-weight: bold;display: inline-block;line-height: 1.2em;}#sk-container-id-2 div.sk-label-container {text-align: center;}#sk-container-id-2 div.sk-container {/* jupyter's `normalize.less` sets `[hidden] { display: none; }` but bootstrap.min.css set `[hidden] { display: none !important; }` so we also need the `!important` here to be able to override the default hidden behavior on the sphinx rendered scikit-learn.org. See: https://github.com/scikit-learn/scikit-learn/issues/21755 */display: inline-block !important;position: relative;}#sk-container-id-2 div.sk-text-repr-fallback {display: none;}</style><div id=\"sk-container-id-2\" class=\"sk-top-container\"><div class=\"sk-text-repr-fallback\"><pre>DecisionTreeClassifier(ccp_alpha=0.01)</pre><b>In a Jupyter environment, please rerun this cell to show the HTML representation or trust the notebook. <br />On GitHub, the HTML representation is unable to render, please try loading this page with nbviewer.org.</b></div><div class=\"sk-container\" hidden><div class=\"sk-item\"><div class=\"sk-estimator sk-toggleable\"><input class=\"sk-toggleable__control sk-hidden--visually\" id=\"sk-estimator-id-2\" type=\"checkbox\" checked><label for=\"sk-estimator-id-2\" class=\"sk-toggleable__label sk-toggleable__label-arrow\">DecisionTreeClassifier</label><div class=\"sk-toggleable__content\"><pre>DecisionTreeClassifier(ccp_alpha=0.01)</pre></div></div></div></div></div>"
      ],
      "text/plain": [
       "DecisionTreeClassifier(ccp_alpha=0.01)"
      ]
     },
     "execution_count": 35,
     "metadata": {},
     "output_type": "execute_result"
    }
   ],
   "source": [
    "DTree_post_pruning.fit(x_train,y_train)"
   ]
  },
  {
   "cell_type": "code",
   "execution_count": 36,
   "id": "e472faec",
   "metadata": {
    "execution": {
     "iopub.execute_input": "2023-12-23T07:33:07.335241Z",
     "iopub.status.busy": "2023-12-23T07:33:07.334477Z",
     "iopub.status.idle": "2023-12-23T07:33:07.356193Z",
     "shell.execute_reply": "2023-12-23T07:33:07.354958Z"
    },
    "papermill": {
     "duration": 0.047285,
     "end_time": "2023-12-23T07:33:07.359377",
     "exception": false,
     "start_time": "2023-12-23T07:33:07.312092",
     "status": "completed"
    },
    "tags": []
   },
   "outputs": [
    {
     "name": "stdout",
     "output_type": "stream",
     "text": [
      "Test Accuracy = 86.42\n",
      "              precision    recall  f1-score   support\n",
      "\n",
      "           0       0.66      0.85      0.74        78\n",
      "           1       0.00      0.00      0.00        12\n",
      "           2       0.97      0.91      0.94       244\n",
      "           3       0.63      1.00      0.77        12\n",
      "\n",
      "    accuracy                           0.86       346\n",
      "   macro avg       0.57      0.69      0.61       346\n",
      "weighted avg       0.86      0.86      0.86       346\n",
      "\n"
     ]
    },
    {
     "name": "stderr",
     "output_type": "stream",
     "text": [
      "/opt/conda/lib/python3.10/site-packages/sklearn/metrics/_classification.py:1344: UndefinedMetricWarning: Precision and F-score are ill-defined and being set to 0.0 in labels with no predicted samples. Use `zero_division` parameter to control this behavior.\n",
      "  _warn_prf(average, modifier, msg_start, len(result))\n",
      "/opt/conda/lib/python3.10/site-packages/sklearn/metrics/_classification.py:1344: UndefinedMetricWarning: Precision and F-score are ill-defined and being set to 0.0 in labels with no predicted samples. Use `zero_division` parameter to control this behavior.\n",
      "  _warn_prf(average, modifier, msg_start, len(result))\n",
      "/opt/conda/lib/python3.10/site-packages/sklearn/metrics/_classification.py:1344: UndefinedMetricWarning: Precision and F-score are ill-defined and being set to 0.0 in labels with no predicted samples. Use `zero_division` parameter to control this behavior.\n",
      "  _warn_prf(average, modifier, msg_start, len(result))\n"
     ]
    }
   ],
   "source": [
    "y_pred=DTree_post_pruning.predict(x_test)\n",
    "acc=sum(y_pred==y_test)/len(y_pred)*100\n",
    "print(\"Test Accuracy = {:.2f}\".format(acc))\n",
    "print(classification_report(y_test,y_pred))"
   ]
  },
  {
   "cell_type": "markdown",
   "id": "7ec04f21",
   "metadata": {
    "papermill": {
     "duration": 0.020332,
     "end_time": "2023-12-23T07:33:07.400366",
     "exception": false,
     "start_time": "2023-12-23T07:33:07.380034",
     "status": "completed"
    },
    "tags": []
   },
   "source": [
    "From the decision tree after pruning, we see that the person_capacity is the first attribute we consider forming the decision and the next attribute is the safety. For example: if we I want to buy a car I want the person capacity to be 5, safety to be 3, luggage size to be 3 then according to the current trend the acceptability of the car is very good."
   ]
  },
  {
   "cell_type": "code",
   "execution_count": 37,
   "id": "d0e2b66b",
   "metadata": {
    "execution": {
     "iopub.execute_input": "2023-12-23T07:33:07.444495Z",
     "iopub.status.busy": "2023-12-23T07:33:07.443361Z",
     "iopub.status.idle": "2023-12-23T07:33:07.749315Z",
     "shell.execute_reply": "2023-12-23T07:33:07.748112Z"
    },
    "papermill": {
     "duration": 0.330946,
     "end_time": "2023-12-23T07:33:07.752169",
     "exception": false,
     "start_time": "2023-12-23T07:33:07.421223",
     "status": "completed"
    },
    "tags": []
   },
   "outputs": [
    {
     "data": {
      "image/svg+xml": [
       "<?xml version=\"1.0\" encoding=\"UTF-8\" standalone=\"no\"?>\n",
       "<!DOCTYPE svg PUBLIC \"-//W3C//DTD SVG 1.1//EN\"\n",
       " \"http://www.w3.org/Graphics/SVG/1.1/DTD/svg11.dtd\">\n",
       "<!-- Generated by graphviz version 8.1.0 (20230707.2238)\n",
       " -->\n",
       "<!-- Title: Tree Pages: 1 -->\n",
       "<svg width=\"1290pt\" height=\"867pt\"\n",
       " viewBox=\"0.00 0.00 1290.00 866.50\" xmlns=\"http://www.w3.org/2000/svg\" xmlns:xlink=\"http://www.w3.org/1999/xlink\">\n",
       "<g id=\"graph0\" class=\"graph\" transform=\"scale(1 1) rotate(0) translate(4 862.5)\">\n",
       "<title>Tree</title>\n",
       "<polygon fill=\"white\" stroke=\"none\" points=\"-4,4 -4,-862.5 1286,-862.5 1286,4 -4,4\"/>\n",
       "<!-- 0 -->\n",
       "<g id=\"node1\" class=\"node\">\n",
       "<title>0</title>\n",
       "<polygon fill=\"#86c3ef\" stroke=\"black\" points=\"721,-858.5 519,-858.5 519,-764.25 721,-764.25 721,-858.5\"/>\n",
       "<text text-anchor=\"middle\" x=\"620\" y=\"-841.2\" font-family=\"Helvetica,sans-Serif\" font-size=\"14.00\">Person_Capacity &lt;= 3.0</text>\n",
       "<text text-anchor=\"middle\" x=\"620\" y=\"-823.95\" font-family=\"Helvetica,sans-Serif\" font-size=\"14.00\">gini = 0.459</text>\n",
       "<text text-anchor=\"middle\" x=\"620\" y=\"-806.7\" font-family=\"Helvetica,sans-Serif\" font-size=\"14.00\">samples = 1381</text>\n",
       "<text text-anchor=\"middle\" x=\"620\" y=\"-789.45\" font-family=\"Helvetica,sans-Serif\" font-size=\"14.00\">value = [306, 57, 965, 53]</text>\n",
       "<text text-anchor=\"middle\" x=\"620\" y=\"-772.2\" font-family=\"Helvetica,sans-Serif\" font-size=\"14.00\">class = vgood</text>\n",
       "</g>\n",
       "<!-- 1 -->\n",
       "<g id=\"node2\" class=\"node\">\n",
       "<title>1</title>\n",
       "<polygon fill=\"#399de5\" stroke=\"black\" points=\"602,-719.62 436,-719.62 436,-642.62 602,-642.62 602,-719.62\"/>\n",
       "<text text-anchor=\"middle\" x=\"519\" y=\"-702.33\" font-family=\"Helvetica,sans-Serif\" font-size=\"14.00\">gini = 0.0</text>\n",
       "<text text-anchor=\"middle\" x=\"519\" y=\"-685.08\" font-family=\"Helvetica,sans-Serif\" font-size=\"14.00\">samples = 459</text>\n",
       "<text text-anchor=\"middle\" x=\"519\" y=\"-667.83\" font-family=\"Helvetica,sans-Serif\" font-size=\"14.00\">value = [0, 0, 459, 0]</text>\n",
       "<text text-anchor=\"middle\" x=\"519\" y=\"-650.58\" font-family=\"Helvetica,sans-Serif\" font-size=\"14.00\">class = vgood</text>\n",
       "</g>\n",
       "<!-- 0&#45;&gt;1 -->\n",
       "<g id=\"edge1\" class=\"edge\">\n",
       "<title>0&#45;&gt;1</title>\n",
       "<path fill=\"none\" stroke=\"black\" d=\"M583.54,-764.07C574.35,-752.41 564.49,-739.89 555.32,-728.24\"/>\n",
       "<polygon fill=\"black\" stroke=\"black\" points=\"557.71,-726.62 548.77,-720.93 552.21,-730.95 557.71,-726.62\"/>\n",
       "<text text-anchor=\"middle\" x=\"545.82\" y=\"-740.08\" font-family=\"Helvetica,sans-Serif\" font-size=\"14.00\">True</text>\n",
       "</g>\n",
       "<!-- 2 -->\n",
       "<g id=\"node3\" class=\"node\">\n",
       "<title>2</title>\n",
       "<polygon fill=\"#bfdff7\" stroke=\"black\" points=\"822,-728.25 620,-728.25 620,-634 822,-634 822,-728.25\"/>\n",
       "<text text-anchor=\"middle\" x=\"721\" y=\"-710.95\" font-family=\"Helvetica,sans-Serif\" font-size=\"14.00\">Safety &lt;= 0.5</text>\n",
       "<text text-anchor=\"middle\" x=\"721\" y=\"-693.7\" font-family=\"Helvetica,sans-Serif\" font-size=\"14.00\">gini = 0.582</text>\n",
       "<text text-anchor=\"middle\" x=\"721\" y=\"-676.45\" font-family=\"Helvetica,sans-Serif\" font-size=\"14.00\">samples = 922</text>\n",
       "<text text-anchor=\"middle\" x=\"721\" y=\"-659.2\" font-family=\"Helvetica,sans-Serif\" font-size=\"14.00\">value = [306, 57, 506, 53]</text>\n",
       "<text text-anchor=\"middle\" x=\"721\" y=\"-641.95\" font-family=\"Helvetica,sans-Serif\" font-size=\"14.00\">class = vgood</text>\n",
       "</g>\n",
       "<!-- 0&#45;&gt;2 -->\n",
       "<g id=\"edge2\" class=\"edge\">\n",
       "<title>0&#45;&gt;2</title>\n",
       "<path fill=\"none\" stroke=\"black\" d=\"M656.46,-764.07C663.4,-755.27 670.72,-745.97 677.84,-736.93\"/>\n",
       "<polygon fill=\"black\" stroke=\"black\" points=\"681.15,-739.38 684.59,-729.36 675.65,-735.05 681.15,-739.38\"/>\n",
       "<text text-anchor=\"middle\" x=\"687.54\" y=\"-748.51\" font-family=\"Helvetica,sans-Serif\" font-size=\"14.00\">False</text>\n",
       "</g>\n",
       "<!-- 3 -->\n",
       "<g id=\"node4\" class=\"node\">\n",
       "<title>3</title>\n",
       "<polygon fill=\"#f5cfb3\" stroke=\"black\" points=\"714.25,-598 513.75,-598 513.75,-503.75 714.25,-503.75 714.25,-598\"/>\n",
       "<text text-anchor=\"middle\" x=\"614\" y=\"-580.7\" font-family=\"Helvetica,sans-Serif\" font-size=\"14.00\">Maintenance_Price &lt;= 2.5</text>\n",
       "<text text-anchor=\"middle\" x=\"614\" y=\"-563.45\" font-family=\"Helvetica,sans-Serif\" font-size=\"14.00\">gini = 0.643</text>\n",
       "<text text-anchor=\"middle\" x=\"614\" y=\"-546.2\" font-family=\"Helvetica,sans-Serif\" font-size=\"14.00\">samples = 311</text>\n",
       "<text text-anchor=\"middle\" x=\"614\" y=\"-528.95\" font-family=\"Helvetica,sans-Serif\" font-size=\"14.00\">value = [162, 27, 69, 53]</text>\n",
       "<text text-anchor=\"middle\" x=\"614\" y=\"-511.7\" font-family=\"Helvetica,sans-Serif\" font-size=\"14.00\">class = unacc</text>\n",
       "</g>\n",
       "<!-- 2&#45;&gt;3 -->\n",
       "<g id=\"edge3\" class=\"edge\">\n",
       "<title>2&#45;&gt;3</title>\n",
       "<path fill=\"none\" stroke=\"black\" d=\"M682.37,-633.82C674.95,-624.92 667.11,-615.53 659.49,-606.4\"/>\n",
       "<polygon fill=\"black\" stroke=\"black\" points=\"661.67,-604.54 652.57,-599.11 656.29,-609.03 661.67,-604.54\"/>\n",
       "</g>\n",
       "<!-- 18 -->\n",
       "<g id=\"node19\" class=\"node\">\n",
       "<title>18</title>\n",
       "<polygon fill=\"#83c2ef\" stroke=\"black\" points=\"925.5,-598 732.5,-598 732.5,-503.75 925.5,-503.75 925.5,-598\"/>\n",
       "<text text-anchor=\"middle\" x=\"829\" y=\"-580.7\" font-family=\"Helvetica,sans-Serif\" font-size=\"14.00\">Safety &lt;= 1.5</text>\n",
       "<text text-anchor=\"middle\" x=\"829\" y=\"-563.45\" font-family=\"Helvetica,sans-Serif\" font-size=\"14.00\">gini = 0.431</text>\n",
       "<text text-anchor=\"middle\" x=\"829\" y=\"-546.2\" font-family=\"Helvetica,sans-Serif\" font-size=\"14.00\">samples = 611</text>\n",
       "<text text-anchor=\"middle\" x=\"829\" y=\"-528.95\" font-family=\"Helvetica,sans-Serif\" font-size=\"14.00\">value = [144, 30, 437, 0]</text>\n",
       "<text text-anchor=\"middle\" x=\"829\" y=\"-511.7\" font-family=\"Helvetica,sans-Serif\" font-size=\"14.00\">class = vgood</text>\n",
       "</g>\n",
       "<!-- 2&#45;&gt;18 -->\n",
       "<g id=\"edge18\" class=\"edge\">\n",
       "<title>2&#45;&gt;18</title>\n",
       "<path fill=\"none\" stroke=\"black\" d=\"M759.99,-633.82C767.48,-624.92 775.4,-615.53 783.09,-606.4\"/>\n",
       "<polygon fill=\"black\" stroke=\"black\" points=\"786.3,-609.01 790.07,-599.11 780.95,-604.5 786.3,-609.01\"/>\n",
       "</g>\n",
       "<!-- 4 -->\n",
       "<g id=\"node5\" class=\"node\">\n",
       "<title>4</title>\n",
       "<polygon fill=\"#f5ccaf\" stroke=\"black\" points=\"520.5,-467.75 327.5,-467.75 327.5,-373.5 520.5,-373.5 520.5,-467.75\"/>\n",
       "<text text-anchor=\"middle\" x=\"424\" y=\"-450.45\" font-family=\"Helvetica,sans-Serif\" font-size=\"14.00\">Buying_Price &lt;= 0.5</text>\n",
       "<text text-anchor=\"middle\" x=\"424\" y=\"-433.2\" font-family=\"Helvetica,sans-Serif\" font-size=\"14.00\">gini = 0.631</text>\n",
       "<text text-anchor=\"middle\" x=\"424\" y=\"-415.95\" font-family=\"Helvetica,sans-Serif\" font-size=\"14.00\">samples = 234</text>\n",
       "<text text-anchor=\"middle\" x=\"424\" y=\"-398.7\" font-family=\"Helvetica,sans-Serif\" font-size=\"14.00\">value = [126, 27, 28, 53]</text>\n",
       "<text text-anchor=\"middle\" x=\"424\" y=\"-381.45\" font-family=\"Helvetica,sans-Serif\" font-size=\"14.00\">class = unacc</text>\n",
       "</g>\n",
       "<!-- 3&#45;&gt;4 -->\n",
       "<g id=\"edge4\" class=\"edge\">\n",
       "<title>3&#45;&gt;4</title>\n",
       "<path fill=\"none\" stroke=\"black\" d=\"M545.14,-503.39C531.07,-493.89 516.16,-483.84 501.81,-474.14\"/>\n",
       "<polygon fill=\"black\" stroke=\"black\" points=\"504.19,-470.86 493.95,-468.16 500.28,-476.66 504.19,-470.86\"/>\n",
       "</g>\n",
       "<!-- 13 -->\n",
       "<g id=\"node14\" class=\"node\">\n",
       "<title>13</title>\n",
       "<polygon fill=\"#e7f3fc\" stroke=\"black\" points=\"705,-467.75 539,-467.75 539,-373.5 705,-373.5 705,-467.75\"/>\n",
       "<text text-anchor=\"middle\" x=\"622\" y=\"-450.45\" font-family=\"Helvetica,sans-Serif\" font-size=\"14.00\">Buying_Price &lt;= 0.5</text>\n",
       "<text text-anchor=\"middle\" x=\"622\" y=\"-433.2\" font-family=\"Helvetica,sans-Serif\" font-size=\"14.00\">gini = 0.498</text>\n",
       "<text text-anchor=\"middle\" x=\"622\" y=\"-415.95\" font-family=\"Helvetica,sans-Serif\" font-size=\"14.00\">samples = 77</text>\n",
       "<text text-anchor=\"middle\" x=\"622\" y=\"-398.7\" font-family=\"Helvetica,sans-Serif\" font-size=\"14.00\">value = [36, 0, 41, 0]</text>\n",
       "<text text-anchor=\"middle\" x=\"622\" y=\"-381.45\" font-family=\"Helvetica,sans-Serif\" font-size=\"14.00\">class = vgood</text>\n",
       "</g>\n",
       "<!-- 3&#45;&gt;13 -->\n",
       "<g id=\"edge13\" class=\"edge\">\n",
       "<title>3&#45;&gt;13</title>\n",
       "<path fill=\"none\" stroke=\"black\" d=\"M616.89,-503.57C617.39,-495.49 617.92,-487 618.44,-478.67\"/>\n",
       "<polygon fill=\"black\" stroke=\"black\" points=\"621.99,-479.06 619.12,-468.86 615,-478.62 621.99,-479.06\"/>\n",
       "</g>\n",
       "<!-- 5 -->\n",
       "<g id=\"node6\" class=\"node\">\n",
       "<title>5</title>\n",
       "<polygon fill=\"#e68844\" stroke=\"black\" points=\"317.5,-328.88 160.5,-328.88 160.5,-251.88 317.5,-251.88 317.5,-328.88\"/>\n",
       "<text text-anchor=\"middle\" x=\"239\" y=\"-311.57\" font-family=\"Helvetica,sans-Serif\" font-size=\"14.00\">gini = 0.1</text>\n",
       "<text text-anchor=\"middle\" x=\"239\" y=\"-294.32\" font-family=\"Helvetica,sans-Serif\" font-size=\"14.00\">samples = 57</text>\n",
       "<text text-anchor=\"middle\" x=\"239\" y=\"-277.07\" font-family=\"Helvetica,sans-Serif\" font-size=\"14.00\">value = [54, 0, 3, 0]</text>\n",
       "<text text-anchor=\"middle\" x=\"239\" y=\"-259.82\" font-family=\"Helvetica,sans-Serif\" font-size=\"14.00\">class = unacc</text>\n",
       "</g>\n",
       "<!-- 4&#45;&gt;5 -->\n",
       "<g id=\"edge5\" class=\"edge\">\n",
       "<title>4&#45;&gt;5</title>\n",
       "<path fill=\"none\" stroke=\"black\" d=\"M356.95,-373.14C339.25,-360.87 320.2,-347.67 302.69,-335.53\"/>\n",
       "<polygon fill=\"black\" stroke=\"black\" points=\"304.89,-332.1 294.68,-329.28 300.91,-337.86 304.89,-332.1\"/>\n",
       "</g>\n",
       "<!-- 6 -->\n",
       "<g id=\"node7\" class=\"node\">\n",
       "<title>6</title>\n",
       "<polygon fill=\"#fbece1\" stroke=\"black\" points=\"520,-337.5 336,-337.5 336,-243.25 520,-243.25 520,-337.5\"/>\n",
       "<text text-anchor=\"middle\" x=\"428\" y=\"-320.2\" font-family=\"Helvetica,sans-Serif\" font-size=\"14.00\">Buying_Price &lt;= 2.5</text>\n",
       "<text text-anchor=\"middle\" x=\"428\" y=\"-302.95\" font-family=\"Helvetica,sans-Serif\" font-size=\"14.00\">gini = 0.702</text>\n",
       "<text text-anchor=\"middle\" x=\"428\" y=\"-285.7\" font-family=\"Helvetica,sans-Serif\" font-size=\"14.00\">samples = 177</text>\n",
       "<text text-anchor=\"middle\" x=\"428\" y=\"-268.45\" font-family=\"Helvetica,sans-Serif\" font-size=\"14.00\">value = [72, 27, 25, 53]</text>\n",
       "<text text-anchor=\"middle\" x=\"428\" y=\"-251.2\" font-family=\"Helvetica,sans-Serif\" font-size=\"14.00\">class = unacc</text>\n",
       "</g>\n",
       "<!-- 4&#45;&gt;6 -->\n",
       "<g id=\"edge6\" class=\"edge\">\n",
       "<title>4&#45;&gt;6</title>\n",
       "<path fill=\"none\" stroke=\"black\" d=\"M425.44,-373.32C425.7,-365.24 425.96,-356.75 426.22,-348.42\"/>\n",
       "<polygon fill=\"black\" stroke=\"black\" points=\"429.74,-348.71 426.56,-338.61 422.75,-348.49 429.74,-348.71\"/>\n",
       "</g>\n",
       "<!-- 7 -->\n",
       "<g id=\"node8\" class=\"node\">\n",
       "<title>7</title>\n",
       "<polygon fill=\"#f7d5f9\" stroke=\"black\" points=\"352.5,-207.25 165.5,-207.25 165.5,-113 352.5,-113 352.5,-207.25\"/>\n",
       "<text text-anchor=\"middle\" x=\"259\" y=\"-189.95\" font-family=\"Helvetica,sans-Serif\" font-size=\"14.00\">Size_of_Luggage &lt;= 1.5</text>\n",
       "<text text-anchor=\"middle\" x=\"259\" y=\"-172.7\" font-family=\"Helvetica,sans-Serif\" font-size=\"14.00\">gini = 0.668</text>\n",
       "<text text-anchor=\"middle\" x=\"259\" y=\"-155.45\" font-family=\"Helvetica,sans-Serif\" font-size=\"14.00\">samples = 120</text>\n",
       "<text text-anchor=\"middle\" x=\"259\" y=\"-138.2\" font-family=\"Helvetica,sans-Serif\" font-size=\"14.00\">value = [35, 27, 5, 53]</text>\n",
       "<text text-anchor=\"middle\" x=\"259\" y=\"-120.95\" font-family=\"Helvetica,sans-Serif\" font-size=\"14.00\">class = good</text>\n",
       "</g>\n",
       "<!-- 6&#45;&gt;7 -->\n",
       "<g id=\"edge7\" class=\"edge\">\n",
       "<title>6&#45;&gt;7</title>\n",
       "<path fill=\"none\" stroke=\"black\" d=\"M366.99,-243.07C354.62,-233.69 341.52,-223.75 328.88,-214.15\"/>\n",
       "<polygon fill=\"black\" stroke=\"black\" points=\"331.29,-210.83 321.21,-207.57 327.06,-216.41 331.29,-210.83\"/>\n",
       "</g>\n",
       "<!-- 10 -->\n",
       "<g id=\"node11\" class=\"node\">\n",
       "<title>10</title>\n",
       "<polygon fill=\"#f3c5a4\" stroke=\"black\" points=\"571.25,-207.25 370.75,-207.25 370.75,-113 571.25,-113 571.25,-207.25\"/>\n",
       "<text text-anchor=\"middle\" x=\"471\" y=\"-189.95\" font-family=\"Helvetica,sans-Serif\" font-size=\"14.00\">Maintenance_Price &lt;= 0.5</text>\n",
       "<text text-anchor=\"middle\" x=\"471\" y=\"-172.7\" font-family=\"Helvetica,sans-Serif\" font-size=\"14.00\">gini = 0.456</text>\n",
       "<text text-anchor=\"middle\" x=\"471\" y=\"-155.45\" font-family=\"Helvetica,sans-Serif\" font-size=\"14.00\">samples = 57</text>\n",
       "<text text-anchor=\"middle\" x=\"471\" y=\"-138.2\" font-family=\"Helvetica,sans-Serif\" font-size=\"14.00\">value = [37, 0, 20, 0]</text>\n",
       "<text text-anchor=\"middle\" x=\"471\" y=\"-120.95\" font-family=\"Helvetica,sans-Serif\" font-size=\"14.00\">class = unacc</text>\n",
       "</g>\n",
       "<!-- 6&#45;&gt;10 -->\n",
       "<g id=\"edge10\" class=\"edge\">\n",
       "<title>6&#45;&gt;10</title>\n",
       "<path fill=\"none\" stroke=\"black\" d=\"M443.52,-243.07C446.29,-234.81 449.21,-226.12 452.06,-217.61\"/>\n",
       "<polygon fill=\"black\" stroke=\"black\" points=\"455.64,-218.95 455.5,-208.36 449,-216.73 455.64,-218.95\"/>\n",
       "</g>\n",
       "<!-- 8 -->\n",
       "<g id=\"node9\" class=\"node\">\n",
       "<title>8</title>\n",
       "<polygon fill=\"#e787ef\" stroke=\"black\" points=\"166,-77 0,-77 0,0 166,0 166,-77\"/>\n",
       "<text text-anchor=\"middle\" x=\"83\" y=\"-59.7\" font-family=\"Helvetica,sans-Serif\" font-size=\"14.00\">gini = 0.472</text>\n",
       "<text text-anchor=\"middle\" x=\"83\" y=\"-42.45\" font-family=\"Helvetica,sans-Serif\" font-size=\"14.00\">samples = 77</text>\n",
       "<text text-anchor=\"middle\" x=\"83\" y=\"-25.2\" font-family=\"Helvetica,sans-Serif\" font-size=\"14.00\">value = [16, 8, 0, 53]</text>\n",
       "<text text-anchor=\"middle\" x=\"83\" y=\"-7.95\" font-family=\"Helvetica,sans-Serif\" font-size=\"14.00\">class = good</text>\n",
       "</g>\n",
       "<!-- 7&#45;&gt;8 -->\n",
       "<g id=\"edge8\" class=\"edge\">\n",
       "<title>7&#45;&gt;8</title>\n",
       "<path fill=\"none\" stroke=\"black\" d=\"M190.45,-112.53C176.44,-103.01 161.73,-93.01 147.85,-83.58\"/>\n",
       "<polygon fill=\"black\" stroke=\"black\" points=\"150.1,-80.2 139.86,-77.47 146.17,-85.99 150.1,-80.2\"/>\n",
       "</g>\n",
       "<!-- 9 -->\n",
       "<g id=\"node10\" class=\"node\">\n",
       "<title>9</title>\n",
       "<polygon fill=\"#ffffff\" stroke=\"black\" points=\"350,-77 184,-77 184,0 350,0 350,-77\"/>\n",
       "<text text-anchor=\"middle\" x=\"267\" y=\"-59.7\" font-family=\"Helvetica,sans-Serif\" font-size=\"14.00\">gini = 0.596</text>\n",
       "<text text-anchor=\"middle\" x=\"267\" y=\"-42.45\" font-family=\"Helvetica,sans-Serif\" font-size=\"14.00\">samples = 43</text>\n",
       "<text text-anchor=\"middle\" x=\"267\" y=\"-25.2\" font-family=\"Helvetica,sans-Serif\" font-size=\"14.00\">value = [19, 19, 5, 0]</text>\n",
       "<text text-anchor=\"middle\" x=\"267\" y=\"-7.95\" font-family=\"Helvetica,sans-Serif\" font-size=\"14.00\">class = unacc</text>\n",
       "</g>\n",
       "<!-- 7&#45;&gt;9 -->\n",
       "<g id=\"edge9\" class=\"edge\">\n",
       "<title>7&#45;&gt;9</title>\n",
       "<path fill=\"none\" stroke=\"black\" d=\"M262.12,-112.53C262.65,-104.5 263.21,-96.14 263.75,-88.06\"/>\n",
       "<polygon fill=\"black\" stroke=\"black\" points=\"267.3,-88.49 264.47,-78.28 260.31,-88.02 267.3,-88.49\"/>\n",
       "</g>\n",
       "<!-- 11 -->\n",
       "<g id=\"node12\" class=\"node\">\n",
       "<title>11</title>\n",
       "<polygon fill=\"#399de5\" stroke=\"black\" points=\"541.5,-77 384.5,-77 384.5,0 541.5,0 541.5,-77\"/>\n",
       "<text text-anchor=\"middle\" x=\"463\" y=\"-59.7\" font-family=\"Helvetica,sans-Serif\" font-size=\"14.00\">gini = 0.0</text>\n",
       "<text text-anchor=\"middle\" x=\"463\" y=\"-42.45\" font-family=\"Helvetica,sans-Serif\" font-size=\"14.00\">samples = 19</text>\n",
       "<text text-anchor=\"middle\" x=\"463\" y=\"-25.2\" font-family=\"Helvetica,sans-Serif\" font-size=\"14.00\">value = [0, 0, 19, 0]</text>\n",
       "<text text-anchor=\"middle\" x=\"463\" y=\"-7.95\" font-family=\"Helvetica,sans-Serif\" font-size=\"14.00\">class = vgood</text>\n",
       "</g>\n",
       "<!-- 10&#45;&gt;11 -->\n",
       "<g id=\"edge11\" class=\"edge\">\n",
       "<title>10&#45;&gt;11</title>\n",
       "<path fill=\"none\" stroke=\"black\" d=\"M467.88,-112.53C467.35,-104.5 466.79,-96.14 466.25,-88.06\"/>\n",
       "<polygon fill=\"black\" stroke=\"black\" points=\"469.69,-88.02 465.53,-78.28 462.7,-88.49 469.69,-88.02\"/>\n",
       "</g>\n",
       "<!-- 12 -->\n",
       "<g id=\"node13\" class=\"node\">\n",
       "<title>12</title>\n",
       "<polygon fill=\"#e6843e\" stroke=\"black\" points=\"716.5,-77 559.5,-77 559.5,0 716.5,0 716.5,-77\"/>\n",
       "<text text-anchor=\"middle\" x=\"638\" y=\"-59.7\" font-family=\"Helvetica,sans-Serif\" font-size=\"14.00\">gini = 0.051</text>\n",
       "<text text-anchor=\"middle\" x=\"638\" y=\"-42.45\" font-family=\"Helvetica,sans-Serif\" font-size=\"14.00\">samples = 38</text>\n",
       "<text text-anchor=\"middle\" x=\"638\" y=\"-25.2\" font-family=\"Helvetica,sans-Serif\" font-size=\"14.00\">value = [37, 0, 1, 0]</text>\n",
       "<text text-anchor=\"middle\" x=\"638\" y=\"-7.95\" font-family=\"Helvetica,sans-Serif\" font-size=\"14.00\">class = unacc</text>\n",
       "</g>\n",
       "<!-- 10&#45;&gt;12 -->\n",
       "<g id=\"edge12\" class=\"edge\">\n",
       "<title>10&#45;&gt;12</title>\n",
       "<path fill=\"none\" stroke=\"black\" d=\"M536.04,-112.53C549.22,-103.1 563.03,-93.2 576.09,-83.85\"/>\n",
       "<polygon fill=\"black\" stroke=\"black\" points=\"577.9,-86.14 583.99,-77.47 573.83,-80.45 577.9,-86.14\"/>\n",
       "</g>\n",
       "<!-- 14 -->\n",
       "<g id=\"node15\" class=\"node\">\n",
       "<title>14</title>\n",
       "<polygon fill=\"#399de5\" stroke=\"black\" points=\"698.5,-328.88 541.5,-328.88 541.5,-251.88 698.5,-251.88 698.5,-328.88\"/>\n",
       "<text text-anchor=\"middle\" x=\"620\" y=\"-311.57\" font-family=\"Helvetica,sans-Serif\" font-size=\"14.00\">gini = 0.0</text>\n",
       "<text text-anchor=\"middle\" x=\"620\" y=\"-294.32\" font-family=\"Helvetica,sans-Serif\" font-size=\"14.00\">samples = 21</text>\n",
       "<text text-anchor=\"middle\" x=\"620\" y=\"-277.07\" font-family=\"Helvetica,sans-Serif\" font-size=\"14.00\">value = [0, 0, 21, 0]</text>\n",
       "<text text-anchor=\"middle\" x=\"620\" y=\"-259.82\" font-family=\"Helvetica,sans-Serif\" font-size=\"14.00\">class = vgood</text>\n",
       "</g>\n",
       "<!-- 13&#45;&gt;14 -->\n",
       "<g id=\"edge14\" class=\"edge\">\n",
       "<title>13&#45;&gt;14</title>\n",
       "<path fill=\"none\" stroke=\"black\" d=\"M621.28,-373.32C621.11,-362.45 620.93,-350.84 620.76,-339.88\"/>\n",
       "<polygon fill=\"black\" stroke=\"black\" points=\"624.25,-340.13 620.59,-330.18 617.25,-340.24 624.25,-340.13\"/>\n",
       "</g>\n",
       "<!-- 15 -->\n",
       "<g id=\"node16\" class=\"node\">\n",
       "<title>15</title>\n",
       "<polygon fill=\"#f3c7a7\" stroke=\"black\" points=\"883,-337.5 717,-337.5 717,-243.25 883,-243.25 883,-337.5\"/>\n",
       "<text text-anchor=\"middle\" x=\"800\" y=\"-320.2\" font-family=\"Helvetica,sans-Serif\" font-size=\"14.00\">Buying_Price &lt;= 2.5</text>\n",
       "<text text-anchor=\"middle\" x=\"800\" y=\"-302.95\" font-family=\"Helvetica,sans-Serif\" font-size=\"14.00\">gini = 0.459</text>\n",
       "<text text-anchor=\"middle\" x=\"800\" y=\"-285.7\" font-family=\"Helvetica,sans-Serif\" font-size=\"14.00\">samples = 56</text>\n",
       "<text text-anchor=\"middle\" x=\"800\" y=\"-268.45\" font-family=\"Helvetica,sans-Serif\" font-size=\"14.00\">value = [36, 0, 20, 0]</text>\n",
       "<text text-anchor=\"middle\" x=\"800\" y=\"-251.2\" font-family=\"Helvetica,sans-Serif\" font-size=\"14.00\">class = unacc</text>\n",
       "</g>\n",
       "<!-- 13&#45;&gt;15 -->\n",
       "<g id=\"edge15\" class=\"edge\">\n",
       "<title>13&#45;&gt;15</title>\n",
       "<path fill=\"none\" stroke=\"black\" d=\"M686.51,-373.14C699.57,-363.73 713.39,-353.78 726.73,-344.17\"/>\n",
       "<polygon fill=\"black\" stroke=\"black\" points=\"728.34,-346.6 734.41,-337.91 724.25,-340.92 728.34,-346.6\"/>\n",
       "</g>\n",
       "<!-- 16 -->\n",
       "<g id=\"node17\" class=\"node\">\n",
       "<title>16</title>\n",
       "<polygon fill=\"#e68844\" stroke=\"black\" points=\"836.5,-198.62 679.5,-198.62 679.5,-121.62 836.5,-121.62 836.5,-198.62\"/>\n",
       "<text text-anchor=\"middle\" x=\"758\" y=\"-181.32\" font-family=\"Helvetica,sans-Serif\" font-size=\"14.00\">gini = 0.1</text>\n",
       "<text text-anchor=\"middle\" x=\"758\" y=\"-164.07\" font-family=\"Helvetica,sans-Serif\" font-size=\"14.00\">samples = 38</text>\n",
       "<text text-anchor=\"middle\" x=\"758\" y=\"-146.82\" font-family=\"Helvetica,sans-Serif\" font-size=\"14.00\">value = [36, 0, 2, 0]</text>\n",
       "<text text-anchor=\"middle\" x=\"758\" y=\"-129.57\" font-family=\"Helvetica,sans-Serif\" font-size=\"14.00\">class = unacc</text>\n",
       "</g>\n",
       "<!-- 15&#45;&gt;16 -->\n",
       "<g id=\"edge16\" class=\"edge\">\n",
       "<title>15&#45;&gt;16</title>\n",
       "<path fill=\"none\" stroke=\"black\" d=\"M784.84,-243.07C781.24,-232.09 777.4,-220.35 773.77,-209.29\"/>\n",
       "<polygon fill=\"black\" stroke=\"black\" points=\"776.82,-208.35 770.38,-199.93 770.17,-210.52 776.82,-208.35\"/>\n",
       "</g>\n",
       "<!-- 17 -->\n",
       "<g id=\"node18\" class=\"node\">\n",
       "<title>17</title>\n",
       "<polygon fill=\"#399de5\" stroke=\"black\" points=\"1011.5,-198.62 854.5,-198.62 854.5,-121.62 1011.5,-121.62 1011.5,-198.62\"/>\n",
       "<text text-anchor=\"middle\" x=\"933\" y=\"-181.32\" font-family=\"Helvetica,sans-Serif\" font-size=\"14.00\">gini = 0.0</text>\n",
       "<text text-anchor=\"middle\" x=\"933\" y=\"-164.07\" font-family=\"Helvetica,sans-Serif\" font-size=\"14.00\">samples = 18</text>\n",
       "<text text-anchor=\"middle\" x=\"933\" y=\"-146.82\" font-family=\"Helvetica,sans-Serif\" font-size=\"14.00\">value = [0, 0, 18, 0]</text>\n",
       "<text text-anchor=\"middle\" x=\"933\" y=\"-129.57\" font-family=\"Helvetica,sans-Serif\" font-size=\"14.00\">class = vgood</text>\n",
       "</g>\n",
       "<!-- 15&#45;&gt;17 -->\n",
       "<g id=\"edge17\" class=\"edge\">\n",
       "<title>15&#45;&gt;17</title>\n",
       "<path fill=\"none\" stroke=\"black\" d=\"M848.02,-243.07C860.35,-231.18 873.6,-218.41 885.88,-206.56\"/>\n",
       "<polygon fill=\"black\" stroke=\"black\" points=\"888.02,-209.39 892.79,-199.93 883.16,-204.35 888.02,-209.39\"/>\n",
       "</g>\n",
       "<!-- 19 -->\n",
       "<g id=\"node20\" class=\"node\">\n",
       "<title>19</title>\n",
       "<polygon fill=\"#399de5\" stroke=\"black\" points=\"904,-459.12 738,-459.12 738,-382.12 904,-382.12 904,-459.12\"/>\n",
       "<text text-anchor=\"middle\" x=\"821\" y=\"-441.82\" font-family=\"Helvetica,sans-Serif\" font-size=\"14.00\">gini = 0.0</text>\n",
       "<text text-anchor=\"middle\" x=\"821\" y=\"-424.57\" font-family=\"Helvetica,sans-Serif\" font-size=\"14.00\">samples = 307</text>\n",
       "<text text-anchor=\"middle\" x=\"821\" y=\"-407.32\" font-family=\"Helvetica,sans-Serif\" font-size=\"14.00\">value = [0, 0, 307, 0]</text>\n",
       "<text text-anchor=\"middle\" x=\"821\" y=\"-390.07\" font-family=\"Helvetica,sans-Serif\" font-size=\"14.00\">class = vgood</text>\n",
       "</g>\n",
       "<!-- 18&#45;&gt;19 -->\n",
       "<g id=\"edge19\" class=\"edge\">\n",
       "<title>18&#45;&gt;19</title>\n",
       "<path fill=\"none\" stroke=\"black\" d=\"M826.11,-503.57C825.43,-492.7 824.71,-481.09 824.03,-470.13\"/>\n",
       "<polygon fill=\"black\" stroke=\"black\" points=\"827.47,-470.19 823.36,-460.43 820.49,-470.63 827.47,-470.19\"/>\n",
       "</g>\n",
       "<!-- 20 -->\n",
       "<g id=\"node21\" class=\"node\">\n",
       "<title>20</title>\n",
       "<polygon fill=\"#fdf5ef\" stroke=\"black\" points=\"1115.5,-467.75 922.5,-467.75 922.5,-373.5 1115.5,-373.5 1115.5,-467.75\"/>\n",
       "<text text-anchor=\"middle\" x=\"1019\" y=\"-450.45\" font-family=\"Helvetica,sans-Serif\" font-size=\"14.00\">Size_of_Luggage &lt;= 1.5</text>\n",
       "<text text-anchor=\"middle\" x=\"1019\" y=\"-433.2\" font-family=\"Helvetica,sans-Serif\" font-size=\"14.00\">gini = 0.583</text>\n",
       "<text text-anchor=\"middle\" x=\"1019\" y=\"-415.95\" font-family=\"Helvetica,sans-Serif\" font-size=\"14.00\">samples = 304</text>\n",
       "<text text-anchor=\"middle\" x=\"1019\" y=\"-398.7\" font-family=\"Helvetica,sans-Serif\" font-size=\"14.00\">value = [144, 30, 130, 0]</text>\n",
       "<text text-anchor=\"middle\" x=\"1019\" y=\"-381.45\" font-family=\"Helvetica,sans-Serif\" font-size=\"14.00\">class = unacc</text>\n",
       "</g>\n",
       "<!-- 18&#45;&gt;20 -->\n",
       "<g id=\"edge20\" class=\"edge\">\n",
       "<title>18&#45;&gt;20</title>\n",
       "<path fill=\"none\" stroke=\"black\" d=\"M897.86,-503.39C911.93,-493.89 926.84,-483.84 941.19,-474.14\"/>\n",
       "<polygon fill=\"black\" stroke=\"black\" points=\"942.72,-476.66 949.05,-468.16 938.81,-470.86 942.72,-476.66\"/>\n",
       "</g>\n",
       "<!-- 21 -->\n",
       "<g id=\"node22\" class=\"node\">\n",
       "<title>21</title>\n",
       "<polygon fill=\"#f4c7a8\" stroke=\"black\" points=\"1098,-328.88 914,-328.88 914,-251.88 1098,-251.88 1098,-328.88\"/>\n",
       "<text text-anchor=\"middle\" x=\"1006\" y=\"-311.57\" font-family=\"Helvetica,sans-Serif\" font-size=\"14.00\">gini = 0.565</text>\n",
       "<text text-anchor=\"middle\" x=\"1006\" y=\"-294.32\" font-family=\"Helvetica,sans-Serif\" font-size=\"14.00\">samples = 196</text>\n",
       "<text text-anchor=\"middle\" x=\"1006\" y=\"-277.07\" font-family=\"Helvetica,sans-Serif\" font-size=\"14.00\">value = [115, 30, 51, 0]</text>\n",
       "<text text-anchor=\"middle\" x=\"1006\" y=\"-259.82\" font-family=\"Helvetica,sans-Serif\" font-size=\"14.00\">class = unacc</text>\n",
       "</g>\n",
       "<!-- 20&#45;&gt;21 -->\n",
       "<g id=\"edge21\" class=\"edge\">\n",
       "<title>20&#45;&gt;21</title>\n",
       "<path fill=\"none\" stroke=\"black\" d=\"M1014.31,-373.32C1013.2,-362.45 1012.03,-350.84 1010.92,-339.88\"/>\n",
       "<polygon fill=\"black\" stroke=\"black\" points=\"1014.32,-339.78 1009.83,-330.18 1007.36,-340.48 1014.32,-339.78\"/>\n",
       "</g>\n",
       "<!-- 22 -->\n",
       "<g id=\"node23\" class=\"node\">\n",
       "<title>22</title>\n",
       "<polygon fill=\"#82c1ef\" stroke=\"black\" points=\"1282,-328.88 1116,-328.88 1116,-251.88 1282,-251.88 1282,-328.88\"/>\n",
       "<text text-anchor=\"middle\" x=\"1199\" y=\"-311.57\" font-family=\"Helvetica,sans-Serif\" font-size=\"14.00\">gini = 0.393</text>\n",
       "<text text-anchor=\"middle\" x=\"1199\" y=\"-294.32\" font-family=\"Helvetica,sans-Serif\" font-size=\"14.00\">samples = 108</text>\n",
       "<text text-anchor=\"middle\" x=\"1199\" y=\"-277.07\" font-family=\"Helvetica,sans-Serif\" font-size=\"14.00\">value = [29, 0, 79, 0]</text>\n",
       "<text text-anchor=\"middle\" x=\"1199\" y=\"-259.82\" font-family=\"Helvetica,sans-Serif\" font-size=\"14.00\">class = vgood</text>\n",
       "</g>\n",
       "<!-- 20&#45;&gt;22 -->\n",
       "<g id=\"edge22\" class=\"edge\">\n",
       "<title>20&#45;&gt;22</title>\n",
       "<path fill=\"none\" stroke=\"black\" d=\"M1084.24,-373.14C1101.46,-360.87 1119.99,-347.67 1137.03,-335.53\"/>\n",
       "<polygon fill=\"black\" stroke=\"black\" points=\"1138.68,-337.94 1144.8,-329.28 1134.62,-332.23 1138.68,-337.94\"/>\n",
       "</g>\n",
       "</g>\n",
       "</svg>\n"
      ],
      "text/plain": [
       "<graphviz.sources.Source at 0x7cd152a2a260>"
      ]
     },
     "execution_count": 37,
     "metadata": {},
     "output_type": "execute_result"
    }
   ],
   "source": [
    "import graphviz\n",
    "# DOT data\n",
    "dot_data = tree.export_graphviz(DTree_post_pruning, out_file=None, \n",
    "                                feature_names=cars_data.columns,  \n",
    "                                class_names=['unacc','acc','vgood','good'],\n",
    "                                filled=True)\n",
    "\n",
    "# Draw graph\n",
    "graph = graphviz.Source(dot_data, format=\"png\") \n",
    "graph"
   ]
  },
  {
   "cell_type": "code",
   "execution_count": 38,
   "id": "84ea942d",
   "metadata": {
    "execution": {
     "iopub.execute_input": "2023-12-23T07:33:07.797079Z",
     "iopub.status.busy": "2023-12-23T07:33:07.796275Z",
     "iopub.status.idle": "2023-12-23T07:33:07.804517Z",
     "shell.execute_reply": "2023-12-23T07:33:07.803321Z"
    },
    "papermill": {
     "duration": 0.033391,
     "end_time": "2023-12-23T07:33:07.807069",
     "exception": false,
     "start_time": "2023-12-23T07:33:07.773678",
     "status": "completed"
    },
    "tags": []
   },
   "outputs": [
    {
     "data": {
      "text/html": [
       "<style>#sk-container-id-3 {color: black;background-color: white;}#sk-container-id-3 pre{padding: 0;}#sk-container-id-3 div.sk-toggleable {background-color: white;}#sk-container-id-3 label.sk-toggleable__label {cursor: pointer;display: block;width: 100%;margin-bottom: 0;padding: 0.3em;box-sizing: border-box;text-align: center;}#sk-container-id-3 label.sk-toggleable__label-arrow:before {content: \"▸\";float: left;margin-right: 0.25em;color: #696969;}#sk-container-id-3 label.sk-toggleable__label-arrow:hover:before {color: black;}#sk-container-id-3 div.sk-estimator:hover label.sk-toggleable__label-arrow:before {color: black;}#sk-container-id-3 div.sk-toggleable__content {max-height: 0;max-width: 0;overflow: hidden;text-align: left;background-color: #f0f8ff;}#sk-container-id-3 div.sk-toggleable__content pre {margin: 0.2em;color: black;border-radius: 0.25em;background-color: #f0f8ff;}#sk-container-id-3 input.sk-toggleable__control:checked~div.sk-toggleable__content {max-height: 200px;max-width: 100%;overflow: auto;}#sk-container-id-3 input.sk-toggleable__control:checked~label.sk-toggleable__label-arrow:before {content: \"▾\";}#sk-container-id-3 div.sk-estimator input.sk-toggleable__control:checked~label.sk-toggleable__label {background-color: #d4ebff;}#sk-container-id-3 div.sk-label input.sk-toggleable__control:checked~label.sk-toggleable__label {background-color: #d4ebff;}#sk-container-id-3 input.sk-hidden--visually {border: 0;clip: rect(1px 1px 1px 1px);clip: rect(1px, 1px, 1px, 1px);height: 1px;margin: -1px;overflow: hidden;padding: 0;position: absolute;width: 1px;}#sk-container-id-3 div.sk-estimator {font-family: monospace;background-color: #f0f8ff;border: 1px dotted black;border-radius: 0.25em;box-sizing: border-box;margin-bottom: 0.5em;}#sk-container-id-3 div.sk-estimator:hover {background-color: #d4ebff;}#sk-container-id-3 div.sk-parallel-item::after {content: \"\";width: 100%;border-bottom: 1px solid gray;flex-grow: 1;}#sk-container-id-3 div.sk-label:hover label.sk-toggleable__label {background-color: #d4ebff;}#sk-container-id-3 div.sk-serial::before {content: \"\";position: absolute;border-left: 1px solid gray;box-sizing: border-box;top: 0;bottom: 0;left: 50%;z-index: 0;}#sk-container-id-3 div.sk-serial {display: flex;flex-direction: column;align-items: center;background-color: white;padding-right: 0.2em;padding-left: 0.2em;position: relative;}#sk-container-id-3 div.sk-item {position: relative;z-index: 1;}#sk-container-id-3 div.sk-parallel {display: flex;align-items: stretch;justify-content: center;background-color: white;position: relative;}#sk-container-id-3 div.sk-item::before, #sk-container-id-3 div.sk-parallel-item::before {content: \"\";position: absolute;border-left: 1px solid gray;box-sizing: border-box;top: 0;bottom: 0;left: 50%;z-index: -1;}#sk-container-id-3 div.sk-parallel-item {display: flex;flex-direction: column;z-index: 1;position: relative;background-color: white;}#sk-container-id-3 div.sk-parallel-item:first-child::after {align-self: flex-end;width: 50%;}#sk-container-id-3 div.sk-parallel-item:last-child::after {align-self: flex-start;width: 50%;}#sk-container-id-3 div.sk-parallel-item:only-child::after {width: 0;}#sk-container-id-3 div.sk-dashed-wrapped {border: 1px dashed gray;margin: 0 0.4em 0.5em 0.4em;box-sizing: border-box;padding-bottom: 0.4em;background-color: white;}#sk-container-id-3 div.sk-label label {font-family: monospace;font-weight: bold;display: inline-block;line-height: 1.2em;}#sk-container-id-3 div.sk-label-container {text-align: center;}#sk-container-id-3 div.sk-container {/* jupyter's `normalize.less` sets `[hidden] { display: none; }` but bootstrap.min.css set `[hidden] { display: none !important; }` so we also need the `!important` here to be able to override the default hidden behavior on the sphinx rendered scikit-learn.org. See: https://github.com/scikit-learn/scikit-learn/issues/21755 */display: inline-block !important;position: relative;}#sk-container-id-3 div.sk-text-repr-fallback {display: none;}</style><div id=\"sk-container-id-3\" class=\"sk-top-container\"><div class=\"sk-text-repr-fallback\"><pre>DecisionTreeClassifier(ccp_alpha=0.01)</pre><b>In a Jupyter environment, please rerun this cell to show the HTML representation or trust the notebook. <br />On GitHub, the HTML representation is unable to render, please try loading this page with nbviewer.org.</b></div><div class=\"sk-container\" hidden><div class=\"sk-item\"><div class=\"sk-estimator sk-toggleable\"><input class=\"sk-toggleable__control sk-hidden--visually\" id=\"sk-estimator-id-3\" type=\"checkbox\" checked><label for=\"sk-estimator-id-3\" class=\"sk-toggleable__label sk-toggleable__label-arrow\">DecisionTreeClassifier</label><div class=\"sk-toggleable__content\"><pre>DecisionTreeClassifier(ccp_alpha=0.01)</pre></div></div></div></div></div>"
      ],
      "text/plain": [
       "DecisionTreeClassifier(ccp_alpha=0.01)"
      ]
     },
     "execution_count": 38,
     "metadata": {},
     "output_type": "execute_result"
    }
   ],
   "source": [
    "DTree_post_pruning"
   ]
  },
  {
   "cell_type": "code",
   "execution_count": 39,
   "id": "91b93b4e",
   "metadata": {
    "execution": {
     "iopub.execute_input": "2023-12-23T07:33:07.852638Z",
     "iopub.status.busy": "2023-12-23T07:33:07.852203Z",
     "iopub.status.idle": "2023-12-23T07:33:08.892820Z",
     "shell.execute_reply": "2023-12-23T07:33:08.891417Z"
    },
    "papermill": {
     "duration": 1.066885,
     "end_time": "2023-12-23T07:33:08.895776",
     "exception": false,
     "start_time": "2023-12-23T07:33:07.828891",
     "status": "completed"
    },
    "tags": []
   },
   "outputs": [
    {
     "data": {
      "image/png": "[encoded data removed]",
      "text/plain": [
       "<Figure size 640x480 with 1 Axes>"
      ]
     },
     "metadata": {},
     "output_type": "display_data"
    }
   ],
   "source": [
    "plt.figure()\n",
    "tree.plot_tree(DTree_post_pruning,filled=True)\n",
    "plt.show()\n"
   ]
  },
  {
   "cell_type": "raw",
   "id": "0aa5caa7",
   "metadata": {
    "papermill": {
     "duration": 0.024615,
     "end_time": "2023-12-23T07:33:08.944639",
     "exception": false,
     "start_time": "2023-12-23T07:33:08.920024",
     "status": "completed"
    },
    "tags": []
   },
   "source": []
  },
  {
   "cell_type": "code",
   "execution_count": null,
   "id": "a76c9464",
   "metadata": {
    "papermill": {
     "duration": 0.022463,
     "end_time": "2023-12-23T07:33:08.990503",
     "exception": false,
     "start_time": "2023-12-23T07:33:08.968040",
     "status": "completed"
    },
    "tags": []
   },
   "outputs": [],
   "source": []
  }
 ],
 "metadata": {
  "kaggle": {
   "accelerator": "none",
   "dataSources": [
    {
     "datasetId": 3172501,
     "sourceId": 5498151,
     "sourceType": "datasetVersion"
    }
   ],
   "dockerImageVersionId": 30558,
   "isGpuEnabled": false,
   "isInternetEnabled": true,
   "language": "python",
   "sourceType": "notebook"
  },
  "kernelspec": {
   "display_name": "Python 3",
   "language": "python",
   "name": "python3"
  },
  "language_info": {
   "codemirror_mode": {
    "name": "ipython",
    "version": 3
   },
   "file_extension": ".py",
   "mimetype": "text/x-python",
   "name": "python",
   "nbconvert_exporter": "python",
   "pygments_lexer": "ipython3",
   "version": "3.10.12"
  },
  "papermill": {
   "default_parameters": {},
   "duration": 18.663387,
   "end_time": "2023-12-23T07:33:09.636048",
   "environment_variables": {},
   "exception": null,
   "input_path": "__notebook__.ipynb",
   "output_path": "__notebook__.ipynb",
   "parameters": {},
   "start_time": "2023-12-23T07:32:50.972661",
   "version": "2.4.0"
  }
 },
 "nbformat": 4,
 "nbformat_minor": 5
}
